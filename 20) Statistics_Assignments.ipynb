{
 "cells": [
  {
   "cell_type": "code",
   "execution_count": 1,
   "id": "fb06d425",
   "metadata": {},
   "outputs": [
    {
     "name": "stdout",
     "output_type": "stream",
     "text": [
      "[124, 130, 109, 114, 126, 98, 90, 106, 116, 122, 95, 91, 94, 106, 114, 124, 102, 130, 119, 119, 127, 113, 100, 94, 98, 106, 115, 123, 125, 119, 126, 113, 92, 128, 100, 106, 107, 130, 125, 107, 128, 109, 128, 99, 106, 110, 93, 130, 118, 117, 123, 124, 115, 113, 98, 114, 119, 128, 109, 124, 102, 109, 93, 100, 116, 94, 113, 116, 90, 116, 126, 116, 112, 119, 102, 129, 92, 109, 107, 90, 103, 93, 117, 122, 117, 101, 96, 94, 126, 100, 101, 114, 102, 102, 112, 125, 100, 111, 91, 104]\n"
     ]
    }
   ],
   "source": [
    "# 1)i)Generate a List of 100 Integers Between 90 and 130\n",
    "import random\n",
    "\n",
    "int_list = [random.randint(90, 130) for _ in range(100)]\n",
    "print(int_list)\n"
   ]
  },
  {
   "cell_type": "code",
   "execution_count": 2,
   "id": "3ab748d0",
   "metadata": {},
   "outputs": [
    {
     "name": "stdout",
     "output_type": "stream",
     "text": [
      "Mean: 110.7\n"
     ]
    }
   ],
   "source": [
    "# ii)Calculate the Mean of a List\n",
    "def calculate_mean(numbers):\n",
    "    return sum(numbers) / len(numbers)\n",
    "\n",
    "mean_value = calculate_mean(int_list)\n",
    "print(f\"Mean: {mean_value}\")\n"
   ]
  },
  {
   "cell_type": "code",
   "execution_count": 3,
   "id": "d342a7f6",
   "metadata": {},
   "outputs": [
    {
     "name": "stdout",
     "output_type": "stream",
     "text": [
      "Median: 112.0\n"
     ]
    }
   ],
   "source": [
    "#iii) Calculate the Median of a List\n",
    "def calculate_median(numbers):\n",
    "    sorted_numbers = sorted(numbers)\n",
    "    n = len(sorted_numbers)\n",
    "    mid = n // 2\n",
    "\n",
    "    if n % 2 == 0:\n",
    "        return (sorted_numbers[mid - 1] + sorted_numbers[mid]) / 2\n",
    "    else:\n",
    "        return sorted_numbers[mid]\n",
    "\n",
    "median_value = calculate_median(int_list)\n",
    "print(f\"Median: {median_value}\")\n"
   ]
  },
  {
   "cell_type": "code",
   "execution_count": 4,
   "id": "e815437e",
   "metadata": {},
   "outputs": [
    {
     "name": "stdout",
     "output_type": "stream",
     "text": [
      "Mode: [109, 106, 116, 102, 119, 100]\n"
     ]
    }
   ],
   "source": [
    "#iv) Calculate the Mode of a List\n",
    "from collections import Counter\n",
    "\n",
    "def calculate_mode(numbers):\n",
    "    count = Counter(numbers)\n",
    "    max_count = max(count.values())\n",
    "    mode = [k for k, v in count.items() if v == max_count]\n",
    "    return mode\n",
    "\n",
    "mode_value = calculate_mode(int_list)\n",
    "print(f\"Mode: {mode_value}\")\n"
   ]
  },
  {
   "cell_type": "code",
   "execution_count": 5,
   "id": "202fab35",
   "metadata": {},
   "outputs": [
    {
     "name": "stdout",
     "output_type": "stream",
     "text": [
      "Weighted Mean: 109.96884735202492\n"
     ]
    }
   ],
   "source": [
    "#v) Calculate the Weighted Mean of a List\n",
    "def calculate_weighted_mean(values, weights):\n",
    "    weighted_sum = sum(value * weight for value, weight in zip(values, weights))\n",
    "    return weighted_sum / sum(weights)\n",
    "\n",
    "weights = [random.randint(1, 5) for _ in range(100)]  # Example weights\n",
    "weighted_mean_value = calculate_weighted_mean(int_list, weights)\n",
    "print(f\"Weighted Mean: {weighted_mean_value}\")\n"
   ]
  },
  {
   "cell_type": "code",
   "execution_count": 6,
   "id": "018526c9",
   "metadata": {},
   "outputs": [
    {
     "name": "stdout",
     "output_type": "stream",
     "text": [
      "Geometric Mean: 110.05090615168852\n"
     ]
    }
   ],
   "source": [
    "#vi) Calculate the Geometric Mean of a List\n",
    "import math\n",
    "\n",
    "def calculate_geometric_mean(numbers):\n",
    "    product = math.prod(numbers)\n",
    "    return product ** (1 / len(numbers))\n",
    "\n",
    "geometric_mean_value = calculate_geometric_mean(int_list)\n",
    "print(f\"Geometric Mean: {geometric_mean_value}\")\n"
   ]
  },
  {
   "cell_type": "code",
   "execution_count": 7,
   "id": "dac17507",
   "metadata": {},
   "outputs": [
    {
     "name": "stdout",
     "output_type": "stream",
     "text": [
      "Harmonic Mean: 109.39536616698958\n"
     ]
    }
   ],
   "source": [
    "#vii) Calculate the Harmonic Mean of a List\n",
    "def calculate_harmonic_mean(numbers):\n",
    "    return len(numbers) / sum(1 / num for num in numbers)\n",
    "\n",
    "harmonic_mean_value = calculate_harmonic_mean(int_list)\n",
    "print(f\"Harmonic Mean: {harmonic_mean_value}\")\n"
   ]
  },
  {
   "cell_type": "code",
   "execution_count": 8,
   "id": "6e330678",
   "metadata": {},
   "outputs": [
    {
     "name": "stdout",
     "output_type": "stream",
     "text": [
      "Midrange: 110.0\n"
     ]
    }
   ],
   "source": [
    "#viii) Calculate the Midrange of a List\n",
    "def calculate_midrange(numbers):\n",
    "    return (min(numbers) + max(numbers)) / 2\n",
    "\n",
    "midrange_value = calculate_midrange(int_list)\n",
    "print(f\"Midrange: {midrange_value}\")\n"
   ]
  },
  {
   "cell_type": "code",
   "execution_count": 9,
   "id": "7bc029d7",
   "metadata": {},
   "outputs": [
    {
     "name": "stdout",
     "output_type": "stream",
     "text": [
      "Trimmed Mean: 110.8375\n"
     ]
    }
   ],
   "source": [
    "#ix) Calculate the Trimmed Mean of a List\n",
    "def calculate_trimmed_mean(numbers, trim_percentage):\n",
    "    sorted_numbers = sorted(numbers)\n",
    "    n = len(sorted_numbers)\n",
    "    trim_count = int(n * trim_percentage)\n",
    "    \n",
    "    trimmed_list = sorted_numbers[trim_count:n - trim_count]\n",
    "    return sum(trimmed_list) / len(trimmed_list)\n",
    "\n",
    "trimmed_mean_value = calculate_trimmed_mean(int_list, 0.1)  # 10% trimmed mean\n",
    "print(f\"Trimmed Mean: {trimmed_mean_value}\")\n"
   ]
  },
  {
   "cell_type": "code",
   "execution_count": 11,
   "id": "e2029006-13cf-47db-9184-e182e6621662",
   "metadata": {},
   "outputs": [
    {
     "data": {
      "image/png": "[encoded data removed]",
      "text/plain": [
       "<Figure size 1400x600 with 3 Axes>"
      ]
     },
     "metadata": {},
     "output_type": "display_data"
    }
   ],
   "source": [
    "#2)i)To visualize the data, we'll use Python libraries like matplotlib and seaborn. Below is a code snippet to generate the required visualizations:\n",
    "import numpy as np\n",
    "import matplotlib.pyplot as plt\n",
    "import seaborn as sns\n",
    "from scipy.stats import norm\n",
    "\n",
    "# Generate the list of integers\n",
    "np.random.seed(0)  # For reproducibility\n",
    "int_list2 = np.random.randint(200, 301, size=500)\n",
    "\n",
    "# Plot Frequency & Gaussian Distribution\n",
    "plt.figure(figsize=(14, 6))\n",
    "\n",
    "# Histogram\n",
    "plt.subplot(1, 3, 1)\n",
    "sns.histplot(int_list2, kde=False, bins=20, color='blue', stat='density')\n",
    "plt.title('Frequency')\n",
    "\n",
    "# Gaussian Distribution\n",
    "plt.subplot(1, 3, 2)\n",
    "sns.histplot(int_list2, kde=True, color='blue', stat='density')\n",
    "xmin, xmax = plt.xlim()\n",
    "x = np.linspace(xmin, xmax, 100)\n",
    "p = norm.pdf(x, np.mean(int_list2), np.std(int_list2))\n",
    "plt.plot(x, p, 'k', linewidth=2)\n",
    "plt.title('Frequency & Gaussian Distribution')\n",
    "\n",
    "# KDE Plot\n",
    "plt.subplot(1, 3, 3)\n",
    "sns.kdeplot(int_list2, color='blue')\n",
    "plt.title('Smoothened KDE Plot')\n",
    "\n",
    "plt.tight_layout()\n",
    "plt.show()\n"
   ]
  },
  {
   "cell_type": "code",
   "execution_count": 12,
   "id": "81b9f8ae-b0a4-4bae-95e1-b56a4d9c8ce5",
   "metadata": {},
   "outputs": [
    {
     "name": "stdout",
     "output_type": "stream",
     "text": [
      "Range: 100\n"
     ]
    }
   ],
   "source": [
    "#ii)\n",
    "def calculate_range(numbers):\n",
    "    return max(numbers) - min(numbers)\n",
    "\n",
    "# Example usage\n",
    "print(\"Range:\", calculate_range(int_list2))\n"
   ]
  },
  {
   "cell_type": "code",
   "execution_count": null,
   "id": "8a01adea-ff9c-4c0a-b01a-c85fd81904c0",
   "metadata": {},
   "outputs": [],
   "source": [
    "import numpy as np\n",
    "\n",
    "def calculate_variance_and_std(numbers):\n",
    "    variance = np.var(numbers, ddof=1)  # Sample variance\n",
    "    std_dev = np.std(numbers, ddof=1)   # Sample standard deviation\n",
    "    return variance, std_dev\n",
    "\n",
    "# Example usage\n",
    "variance, std_dev = calculate_variance_and_std(int_list2)\n",
    "print(\"Variance:\", variance)\n",
    "print(\"Standard Deviation:\", std_dev)\n"
   ]
  },
  {
   "cell_type": "code",
   "execution_count": null,
   "id": "f13cad90-0142-47f1-9473-bc1511a1a9cc",
   "metadata": {},
   "outputs": [],
   "source": [
    "def calculate_iqr(numbers):\n",
    "    q75, q25 = np.percentile(numbers, [75 ,25])\n",
    "    return q75 - q25\n",
    "\n",
    "# Example usage\n",
    "print(\"Interquartile Range (IQR):\", calculate_iqr(int_list2))\n"
   ]
  },
  {
   "cell_type": "code",
   "execution_count": null,
   "id": "f0a41da2-5498-4935-8441-168af8e20720",
   "metadata": {},
   "outputs": [],
   "source": [
    "def calculate_coefficient_of_variation(numbers):\n",
    "    mean = np.mean(numbers)\n",
    "    std_dev = np.std(numbers, ddof=1)\n",
    "    return (std_dev / mean) * 100\n",
    "\n",
    "# Example usage\n",
    "print(\"Coefficient of Variation (%):\", calculate_coefficient_of_variation(int_list2))\n"
   ]
  },
  {
   "cell_type": "code",
   "execution_count": null,
   "id": "10a63b16-9228-419d-a249-040c7bf3c3ac",
   "metadata": {},
   "outputs": [],
   "source": [
    "def calculate_mad(numbers):\n",
    "    mean = np.mean(numbers)\n",
    "    mad = np.mean(np.abs(numbers - mean))\n",
    "    return mad\n",
    "\n",
    "# Example usage\n",
    "print(\"Mean Absolute Deviation (MAD):\", calculate_mad(int_list2))\n"
   ]
  },
  {
   "cell_type": "code",
   "execution_count": null,
   "id": "7e8b3ddd-5008-4cd4-a0e8-f8ee6e1c8dc2",
   "metadata": {},
   "outputs": [],
   "source": [
    "def calculate_quartile_deviation(numbers):\n",
    "    q75, q25 = np.percentile(numbers, [75, 25])\n",
    "    return (q75 - q25) / 2\n",
    "\n",
    "# Example usage\n",
    "print(\"Quartile Deviation:\", calculate_quartile_deviation(int_list2))\n"
   ]
  },
  {
   "cell_type": "code",
   "execution_count": null,
   "id": "207c512a-f930-4c10-b5b9-9faed99f1788",
   "metadata": {},
   "outputs": [],
   "source": [
    "def calculate_range_based_coefficient_of_dispersion(numbers):\n",
    "    range_value = calculate_range(numbers)\n",
    "    mean = np.mean(numbers)\n",
    "    return (range_value / mean) * 100\n",
    "\n",
    "# Example usage\n",
    "print(\"Range-Based Coefficient of Dispersion (%):\", calculate_range_based_coefficient_of_dispersion(int_list2))\n"
   ]
  },
  {
   "cell_type": "code",
   "execution_count": null,
   "id": "0b346003-1636-4447-8135-df431a2cc18a",
   "metadata": {},
   "outputs": [],
   "source": [
    "#3) \n",
    "class DiscreteRandomVariable:\n",
    "    def __init__(self, probabilities, values):\n",
    "        \"\"\"\n",
    "        Initialize the discrete random variable with probabilities and corresponding values.\n",
    "        :param probabilities: List of probabilities.\n",
    "        :param values: List of corresponding values.\n",
    "        \"\"\"\n",
    "        if len(probabilities) != len(values) or not np.isclose(sum(probabilities), 1.0):\n",
    "            raise ValueError(\"Probabilities must sum to 1 and match the number of values.\")\n",
    "        self.probabilities = probabilities\n",
    "        self.values = values\n",
    "    \n",
    "    def expected_value(self):\n",
    "        \"\"\"\n",
    "        Calculate the expected value of the discrete random variable.\n",
    "        :return: Expected value.\n",
    "        \"\"\"\n",
    "        return sum(p * v for p, v in zip(self.probabilities, self.values))\n",
    "    \n",
    "    def variance(self):\n",
    "        \"\"\"\n",
    "        Calculate the variance of the discrete random variable.\n",
    "        :return: Variance.\n",
    "        \"\"\"\n",
    "        mean = self.expected_value()\n",
    "        return sum(p * (v - mean) ** 2 for p, v in zip(self.probabilities, self.values))\n",
    "\n",
    "# Example usage\n",
    "probabilities = [0.1, 0.4, 0.5]\n",
    "values = [1, 2, 3]\n",
    "rv = DiscreteRandomVariable(probabilities, values)\n",
    "print(\"Expected Value:\", rv.expected_value())\n",
    "print(\"Variance:\", rv.variance())\n"
   ]
  },
  {
   "cell_type": "code",
   "execution_count": 13,
   "id": "113cc72d-ff66-40cd-869e-e9e76a0b8b56",
   "metadata": {},
   "outputs": [
    {
     "name": "stdout",
     "output_type": "stream",
     "text": [
      "Expected Value of Die Rolls: 3.552\n",
      "Variance of Die Rolls: 2.891296\n"
     ]
    }
   ],
   "source": [
    "#4) \n",
    "import numpy as np\n",
    "\n",
    "def simulate_die_rolls(n=1000):\n",
    "    \"\"\"\n",
    "    Simulate rolling a fair six-sided die.\n",
    "    :param n: Number of die rolls.\n",
    "    :return: Expected value and variance of the outcomes.\n",
    "    \"\"\"\n",
    "    outcomes = np.random.randint(1, 7, size=n)\n",
    "    expected_value = np.mean(outcomes)\n",
    "    variance = np.var(outcomes)\n",
    "    return expected_value, variance\n",
    "\n",
    "# Example usage\n",
    "expected_value, variance = simulate_die_rolls()\n",
    "print(\"Expected Value of Die Rolls:\", expected_value)\n",
    "print(\"Variance of Die Rolls:\", variance)\n"
   ]
  },
  {
   "cell_type": "code",
   "execution_count": null,
   "id": "3a206f68-7480-4205-8ba3-bc74e6265d06",
   "metadata": {},
   "outputs": [],
   "source": [
    "#5)\n",
    "import numpy as np\n",
    "from scipy.stats import binom, poisson\n",
    "\n",
    "def generate_random_samples(distribution, params, size=1000):\n",
    "    \"\"\"\n",
    "    Generate random samples from a specified probability distribution.\n",
    "    :param distribution: The probability distribution to sample from ('binomial' or 'poisson').\n",
    "    :param params: Parameters for the distribution.\n",
    "    :param size: Number of samples.\n",
    "    :return: Mean and variance of the samples.\n",
    "    \"\"\"\n",
    "    if distribution == 'binomial':\n",
    "        n, p = params\n",
    "        samples = binom.rvs(n, p, size=size)\n",
    "    elif distribution == 'poisson':\n",
    "        mu = params[0]\n",
    "        samples = poisson.rvs(mu, size=size)\n",
    "    else:\n",
    "        raise ValueError(\"Unsupported distribution\")\n",
    "\n",
    "    mean = np.mean(samples)\n",
    "    variance = np.var(samples)\n",
    "    return mean, variance\n",
    "\n",
    "# Example usage\n",
    "mean, variance = generate_random_samples('binomial', (10, 0.5))\n",
    "print(\"Binomial Distribution - Mean:\", mean)\n",
    "print(\"Binomial Distribution - Variance:\", variance)\n",
    "\n",
    "mean, variance = generate_random_samples('poisson', (5,))\n",
    "print(\"Poisson Distribution - Mean:\", mean)\n",
    "print(\"Poisson Distribution - Variance:\", variance)\n"
   ]
  },
  {
   "cell_type": "code",
   "execution_count": null,
   "id": "b9764e29-80d5-48f2-ba84-5a30efe8497a",
   "metadata": {},
   "outputs": [],
   "source": [
    "#6)\n",
    "import numpy as np\n",
    "from scipy.stats import binom, poisson\n",
    "\n",
    "def generate_random_samples(distribution, params, size=1000):\n",
    "    \"\"\"\n",
    "    Generate random samples from a specified probability distribution.\n",
    "    :param distribution: The probability distribution to sample from ('binomial' or 'poisson').\n",
    "    :param params: Parameters for the distribution.\n",
    "    :param size: Number of samples.\n",
    "    :return: Mean and variance of the samples.\n",
    "    \"\"\"\n",
    "    if distribution == 'binomial':\n",
    "        n, p = params\n",
    "        samples = binom.rvs(n, p, size=size)\n",
    "    elif distribution == 'poisson':\n",
    "        mu = params[0]\n",
    "        samples = poisson.rvs(mu, size=size)\n",
    "    else:\n",
    "        raise ValueError(\"Unsupported distribution\")\n",
    "\n",
    "    mean = np.mean(samples)\n",
    "    variance = np.var(samples)\n",
    "    return mean, variance\n",
    "\n",
    "# Example usage\n",
    "mean, variance = generate_random_samples('binomial', (10, 0.5))\n",
    "print(\"Binomial Distribution - Mean:\", mean)\n",
    "print(\"Binomial Distribution - Variance:\", variance)\n",
    "\n",
    "mean, variance = generate_random_samples('poisson', (5,))\n",
    "print(\"Poisson Distribution - Mean:\", mean)\n",
    "print(\"Poisson Distribution - Variance:\", variance)\n"
   ]
  },
  {
   "cell_type": "code",
   "execution_count": null,
   "id": "7b27c74f-fde5-4927-9516-ae427aced8b0",
   "metadata": {},
   "outputs": [],
   "source": [
    "#7)"
   ]
  },
  {
   "cell_type": "code",
   "execution_count": null,
   "id": "23f6a582-7dcc-4881-aa32-afdc18561cc8",
   "metadata": {},
   "outputs": [],
   "source": [
    "# Problem: Calculate Skewness of 'total_bill' and 'tip' Columns\n",
    "\n",
    "import seaborn as sns\n",
    "import pandas as pd\n",
    "from scipy.stats import skew\n",
    "\n",
    "def calculate_skewness(df, column):\n",
    "    return skew(df[column].dropna())\n",
    "\n",
    "tips = sns.load_dataset('tips')\n",
    "total_bill_skewness = calculate_skewness(tips, 'total_bill')\n",
    "tip_skewness = calculate_skewness(tips, 'tip')\n",
    "\n",
    "print(f\"Skewness of 'total_bill': {total_bill_skewness}\")\n",
    "print(f\"Skewness of 'tip': {tip_skewness}\")\n"
   ]
  },
  {
   "cell_type": "code",
   "execution_count": null,
   "id": "c79e4673-3880-4b01-983c-f30ecf181e52",
   "metadata": {},
   "outputs": [],
   "source": [
    "# Problem: Determine the Skewness Type of 'total_bill' and 'tip' Columns\n",
    "\n",
    "import seaborn as sns\n",
    "import pandas as pd\n",
    "from scipy.stats import skew\n",
    "\n",
    "def classify_skewness(skewness):\n",
    "    if skewness > 0:\n",
    "        return \"Positive skewness\"\n",
    "    elif skewness < 0:\n",
    "        return \"Negative skewness\"\n",
    "    else:\n",
    "        return \"Approximately symmetric\"\n",
    "\n",
    "tips = sns.load_dataset('tips')\n",
    "total_bill_skewness = skew(tips['total_bill'].dropna())\n",
    "tip_skewness = skew(tips['tip'].dropna())\n",
    "\n",
    "total_bill_skewness_type = classify_skewness(total_bill_skewness)\n",
    "tip_skewness_type = classify_skewness(tip_skewness)\n",
    "\n",
    "print(f\"'total_bill' skewness type: {total_bill_skewness_type}\")\n",
    "print(f\"'tip' skewness type: {tip_skewness_type}\")\n"
   ]
  },
  {
   "cell_type": "code",
   "execution_count": null,
   "id": "f8244b6a-5ff6-49cb-95b4-d0fb0cd98416",
   "metadata": {},
   "outputs": [],
   "source": [
    "# Problem: Calculate Covariance Between 'total_bill' and 'tip' Columns\n",
    "\n",
    "import seaborn as sns\n",
    "import pandas as pd\n",
    "\n",
    "def calculate_covariance(df, column1, column2):\n",
    "    return df[[column1, column2]].cov().iloc[0, 1]\n",
    "\n",
    "tips = sns.load_dataset('tips')\n",
    "covariance = calculate_covariance(tips, 'total_bill', 'tip')\n",
    "\n",
    "print(f\"Covariance between 'total_bill' and 'tip': {covariance}\")\n"
   ]
  },
  {
   "cell_type": "code",
   "execution_count": null,
   "id": "b9f3ec07-c73e-421c-bddc-3223950cd8b1",
   "metadata": {},
   "outputs": [],
   "source": [
    "# Problem: Calculate Pearson Correlation Coefficient Between 'total_bill' and 'tip' Columns\n",
    "\n",
    "import seaborn as sns\n",
    "import pandas as pd\n",
    "\n",
    "def calculate_pearson_correlation(df, column1, column2):\n",
    "    return df[[column1, column2]].corr().iloc[0, 1]\n",
    "\n",
    "tips = sns.load_dataset('tips')\n",
    "pearson_correlation = calculate_pearson_correlation(tips, 'total_bill', 'tip')\n",
    "\n",
    "print(f\"Pearson correlation coefficient between 'total_bill' and 'tip': {pearson_correlation}\")\n"
   ]
  },
  {
   "cell_type": "code",
   "execution_count": null,
   "id": "576997b2-3467-4e25-adc8-90a6b2dfb34b",
   "metadata": {},
   "outputs": [],
   "source": [
    "# Problem: Visualize Correlation Between 'total_bill' and 'tip' Columns Using a Scatter Plot\n",
    "\n",
    "import seaborn as sns\n",
    "import pandas as pd\n",
    "import matplotlib.pyplot as plt\n",
    "\n",
    "def plot_scatter(df, column1, column2):\n",
    "    plt.figure(figsize=(8, 6))\n",
    "    plt.scatter(df[column1], df[column2], alpha=0.7)\n",
    "    plt.xlabel(column1)\n",
    "    plt.ylabel(column2)\n",
    "    plt.title(f'Scatter Plot of {column1} vs {column2}')\n",
    "    plt.grid(True)\n",
    "    plt.show()\n",
    "\n",
    "tips = sns.load_dataset('tips')\n",
    "plot_scatter(tips, 'total_bill', 'tip')\n"
   ]
  },
  {
   "cell_type": "code",
   "execution_count": null,
   "id": "ba535481-41c1-4a1c-ae0c-f864df60b820",
   "metadata": {},
   "outputs": [],
   "source": [
    "#8 \n",
    "# Problem: Calculate the Probability Density Function (PDF) for a Normal Distribution\n",
    "\n",
    "import numpy as np\n",
    "from scipy.stats import norm\n",
    "\n",
    "def calculate_normal_pdf(x, mean, std_dev):\n",
    "    return norm.pdf(x, mean, std_dev)\n",
    "\n",
    "x = float(input(\"Enter the value of x: \"))\n",
    "mean = float(input(\"Enter the mean of the normal distribution: \"))\n",
    "std_dev = float(input(\"Enter the standard deviation of the normal distribution: \"))\n",
    "\n",
    "pdf = calculate_normal_pdf(x, mean, std_dev)\n",
    "print(f\"Probability Density Function (PDF) at x={x}: {pdf}\")\n"
   ]
  },
  {
   "cell_type": "code",
   "execution_count": null,
   "id": "6829032e-3b39-4fcf-bef0-c3ba40bc0db9",
   "metadata": {},
   "outputs": [],
   "source": [
    "#9\n",
    "# Problem: Calculate the Probability Density Function (PDF) for a Normal Distribution\n",
    "\n",
    "# Problem: Calculate the Cumulative Distribution Function (CDF) for an Exponential Distribution\n",
    "\n",
    "import numpy as np\n",
    "from scipy.stats import expon\n",
    "\n",
    "def calculate_exponential_cdf(x, scale):\n",
    "    return expon.cdf(x, scale=scale)\n",
    "\n",
    "x = float(input(\"Enter the value of x: \"))\n",
    "scale = float(input(\"Enter the scale parameter (1/lambda) of the exponential distribution: \"))\n",
    "\n",
    "cdf = calculate_exponential_cdf(x, scale)\n",
    "print(f\"Cumulative Distribution Function (CDF) at x={x}: {cdf}\")\n"
   ]
  },
  {
   "cell_type": "code",
   "execution_count": null,
   "id": "173872da-e0c0-4086-be64-69dc147e3bb9",
   "metadata": {},
   "outputs": [],
   "source": [
    "#10)\n",
    "# Problem: Calculate the Probability Mass Function (PMF) for a Poisson Distribution\n",
    "\n",
    "import numpy as np\n",
    "from scipy.stats import poisson\n",
    "\n",
    "def calculate_poisson_pmf(k, mu):\n",
    "    return poisson.pmf(k, mu)\n",
    "\n",
    "k = int(input(\"Enter the value of k (number of occurrences): \"))\n",
    "mu = float(input(\"Enter the mean (lambda) of the Poisson distribution: \"))\n",
    "\n",
    "pmf = calculate_poisson_pmf(k, mu)\n",
    "print(f\"Probability Mass Function (PMF) for k={k}: {pmf}\")\n"
   ]
  },
  {
   "cell_type": "code",
   "execution_count": null,
   "id": "21a66fc8-0db8-4882-aca3-ce9b27b5a2f5",
   "metadata": {},
   "outputs": [],
   "source": [
    "#11) # Problem: Perform a Z-Test to Compare Conversion Rates Between Old and New Website Layouts\n",
    "\n",
    "import numpy as np\n",
    "from statsmodels.stats.proportion import proportions_ztest\n",
    "\n",
    "# Generate the data\n",
    "old_layout = np.array([1] * 50 + [0] * 950)\n",
    "new_layout = np.array([1] * 70 + [0] * 930)\n",
    "\n",
    "# Calculate the number of successes (purchases) and trials (visitors) for both layouts\n",
    "successes = [old_layout.sum(), new_layout.sum()]\n",
    "trials = [len(old_layout), len(new_layout)]\n",
    "\n",
    "# Perform the Z-Test\n",
    "stat, p_value = proportions_ztest(successes, trials)\n",
    "\n",
    "print(f\"Z-Test Statistic: {stat}\")\n",
    "print(f\"P-Value: {p_value}\")\n",
    "\n",
    "# Determine if the result is significant\n",
    "alpha = 0.05\n",
    "if p_value < alpha:\n",
    "    print(\"The new layout significantly improves the conversion rate.\")\n",
    "else:\n",
    "    print(\"There is no significant difference in conversion rates between the old and new layouts.\")\n"
   ]
  },
  {
   "cell_type": "code",
   "execution_count": null,
   "id": "d1926295-5db1-4acc-a4c9-f243c404e843",
   "metadata": {},
   "outputs": [],
   "source": [
    "#12 # Problem: Determine if the tutoring program improves exam scores using a Z-Test\n",
    "\n",
    "import numpy as np\n",
    "from scipy.stats import t\n",
    "\n",
    "# Generate the data\n",
    "before_program = np.array([75, 80, 85, 70, 90, 78, 92, 88, 82, 87])\n",
    "after_program = np.array([80, 85, 90, 80, 92, 80, 95, 90, 85, 88])\n",
    "\n",
    "# Calculate the differences\n",
    "differences = after_program - before_program\n",
    "\n",
    "# Perform the paired t-test\n",
    "mean_diff = np.mean(differences)\n",
    "std_diff = np.std(differences, ddof=1)\n",
    "n = len(differences)\n",
    "std_err = std_diff / np.sqrt(n)\n",
    "z_stat = mean_diff / std_err\n",
    "\n",
    "# Calculate the p-value for a two-tailed test\n",
    "p_value = 2 * (1 - t.cdf(abs(z_stat), df=n-1))\n",
    "\n",
    "print(f\"Z-Test Statistic: {z_stat}\")\n",
    "print(f\"P-Value: {p_value}\")\n",
    "\n",
    "# Determine if the result is significant\n",
    "alpha = 0.05\n",
    "if p_value < alpha:\n",
    "    print(\"The tutoring program significantly improves exam scores.\")\n",
    "else:\n",
    "    print(\"There is no significant improvement in exam scores from the tutoring program.\")\n"
   ]
  },
  {
   "cell_type": "code",
   "execution_count": 14,
   "id": "3c7d61de-c483-4ffe-a21e-77c1e4119e12",
   "metadata": {},
   "outputs": [
    {
     "name": "stdout",
     "output_type": "stream",
     "text": [
      "Z-Test Statistic: 10.049875621120888\n",
      "P-Value: 3.433031432686917e-06\n",
      "The drug significantly reduces blood pressure.\n"
     ]
    }
   ],
   "source": [
    "#13) # Problem: Determine if the drug reduces blood pressure using a Z-Test\n",
    "\n",
    "import numpy as np\n",
    "from scipy.stats import t\n",
    "\n",
    "# Generate the data\n",
    "before_drug = np.array([145, 150, 140, 135, 155, 160, 152, 148, 130, 138])\n",
    "after_drug = np.array([130, 140, 132, 128, 145, 148, 138, 136, 125, 130])\n",
    "\n",
    "# Calculate the differences\n",
    "differences = before_drug - after_drug\n",
    "\n",
    "# Perform the paired t-test\n",
    "mean_diff = np.mean(differences)\n",
    "std_diff = np.std(differences, ddof=1)\n",
    "n = len(differences)\n",
    "std_err = std_diff / np.sqrt(n)\n",
    "z_stat = mean_diff / std_err\n",
    "\n",
    "# Calculate the p-value for a two-tailed test\n",
    "p_value = 2 * (1 - t.cdf(abs(z_stat), df=n-1))\n",
    "\n",
    "print(f\"Z-Test Statistic: {z_stat}\")\n",
    "print(f\"P-Value: {p_value}\")\n",
    "\n",
    "# Determine if the result is significant\n",
    "alpha = 0.05\n",
    "if p_value < alpha:\n",
    "    print(\"The drug significantly reduces blood pressure.\")\n",
    "else:\n",
    "    print(\"There is no significant reduction in blood pressure from the drug.\")\n"
   ]
  },
  {
   "cell_type": "code",
   "execution_count": null,
   "id": "0985fcc4-0206-4b8b-a77e-3b49b797c55c",
   "metadata": {},
   "outputs": [],
   "source": []
  },
  {
   "cell_type": "code",
   "execution_count": null,
   "id": "5d70722e-dfb5-4701-8df3-25175a73712a",
   "metadata": {},
   "outputs": [],
   "source": []
  },
  {
   "cell_type": "code",
   "execution_count": null,
   "id": "a4aff662-97fc-411d-836c-b68004ae0b72",
   "metadata": {},
   "outputs": [],
   "source": []
  },
  {
   "cell_type": "code",
   "execution_count": null,
   "id": "389475f3-973d-455a-8a8d-a9d99a95dc54",
   "metadata": {},
   "outputs": [],
   "source": []
  },
  {
   "cell_type": "code",
   "execution_count": null,
   "id": "4f4a7be9-f477-4842-a32c-bafdaa5fd60b",
   "metadata": {},
   "outputs": [],
   "source": []
  },
  {
   "cell_type": "code",
   "execution_count": null,
   "id": "3c25fc1b-46fc-4151-98ba-2cdce647057a",
   "metadata": {},
   "outputs": [],
   "source": []
  },
  {
   "cell_type": "code",
   "execution_count": null,
   "id": "9d302cd9-7606-4c05-b20b-79eb88b41021",
   "metadata": {},
   "outputs": [],
   "source": []
  },
  {
   "cell_type": "code",
   "execution_count": null,
   "id": "aa74ea10-2de4-4977-a1a8-74988989ffda",
   "metadata": {},
   "outputs": [],
   "source": []
  }
 ],
 "metadata": {
  "kernelspec": {
   "display_name": "Python 3 (ipykernel)",
   "language": "python",
   "name": "python3"
  },
  "language_info": {
   "codemirror_mode": {
    "name": "ipython",
    "version": 3
   },
   "file_extension": ".py",
   "mimetype": "text/x-python",
   "name": "python",
   "nbconvert_exporter": "python",
   "pygments_lexer": "ipython3",
   "version": "3.12.5"
  }
 },
 "nbformat": 4,
 "nbformat_minor": 5
}
