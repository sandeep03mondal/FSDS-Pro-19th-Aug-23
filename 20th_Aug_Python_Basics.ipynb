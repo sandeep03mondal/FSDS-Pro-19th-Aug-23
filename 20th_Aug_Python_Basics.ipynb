{
 "cells": [
  {
   "cell_type": "code",
   "execution_count": null,
   "id": "525b2cdd-7509-4c8e-b434-d1c5c34157e8",
   "metadata": {},
   "outputs": [],
   "source": [
    "#TOPIC: String Based Assignment Problem"
   ]
  },
  {
   "cell_type": "code",
   "execution_count": 1,
   "id": "318d39b8-f457-42fb-969f-fb8ef84501dd",
   "metadata": {},
   "outputs": [
    {
     "name": "stdin",
     "output_type": "stream",
     "text": [
      "Enter any string:  ABCD\n"
     ]
    },
    {
     "name": "stdout",
     "output_type": "stream",
     "text": [
      "DCBA\n"
     ]
    }
   ],
   "source": [
    "'''1. Write a program to reverse a string.'''\n",
    "st=input(\"Enter any string: \")\n",
    "rev=st[::-1]\n",
    "print(rev)"
   ]
  },
  {
   "cell_type": "code",
   "execution_count": 3,
   "id": "5ba08cfe-aee1-4865-8cf7-f3676a8744ec",
   "metadata": {},
   "outputs": [
    {
     "name": "stdin",
     "output_type": "stream",
     "text": [
      "Enter any string:  ABCBA\n"
     ]
    },
    {
     "name": "stdout",
     "output_type": "stream",
     "text": [
      "Palindrome\n"
     ]
    }
   ],
   "source": [
    "'''2. Check if a string is a palindrome.'''\n",
    "st=input(\"Enter any string: \")\n",
    "rev=st[::-1]\n",
    "if st==rev:\n",
    "    print(\"Palindrome\")\n",
    "else:\n",
    "    print(\"Not Palindrome\")"
   ]
  },
  {
   "cell_type": "code",
   "execution_count": 4,
   "id": "7ea8b4c5-73c1-49d0-8a5c-cd5ecf1b2346",
   "metadata": {},
   "outputs": [
    {
     "name": "stdin",
     "output_type": "stream",
     "text": [
      "Enter any string:  aBc\n"
     ]
    },
    {
     "name": "stdout",
     "output_type": "stream",
     "text": [
      "ABC\n"
     ]
    }
   ],
   "source": [
    "'''3. Convert a string to uppercase.'''\n",
    "st=input(\"Enter any string: \")\n",
    "print(st.upper())"
   ]
  },
  {
   "cell_type": "code",
   "execution_count": 5,
   "id": "3e9977a0-5aca-4985-8c7f-c89f2d563ed9",
   "metadata": {},
   "outputs": [
    {
     "name": "stdin",
     "output_type": "stream",
     "text": [
      "Enter any string:  Sandeep MONdal\n"
     ]
    },
    {
     "name": "stdout",
     "output_type": "stream",
     "text": [
      "sandeep mondal\n"
     ]
    }
   ],
   "source": [
    "'''4. Convert a string to lowercase.'''\n",
    "st=input(\"Enter any string: \")\n",
    "print(st.lower())"
   ]
  },
  {
   "cell_type": "code",
   "execution_count": 7,
   "id": "45f6a755-853f-453b-abab-c5bfddbfbd7e",
   "metadata": {},
   "outputs": [
    {
     "name": "stdin",
     "output_type": "stream",
     "text": [
      "Enter any string:  aabccdef\n"
     ]
    },
    {
     "name": "stdout",
     "output_type": "stream",
     "text": [
      "Number of vowels in the string: 3\n"
     ]
    }
   ],
   "source": [
    "'''5. Count the number of vowels in a string.'''\n",
    "st=input(\"Enter any string: \")\n",
    "input_string = st.lower()\n",
    "vowels = \"aeiou\"\n",
    "vowel_count = 0\n",
    "for char in input_string:\n",
    "    if char in vowels:\n",
    "        vowel_count += 1\n",
    "print(f\"Number of vowels in the string: {vowel_count}\")"
   ]
  },
  {
   "cell_type": "code",
   "execution_count": 8,
   "id": "96c17266-56bd-4328-84d5-c7fda9801cd4",
   "metadata": {},
   "outputs": [
    {
     "name": "stdin",
     "output_type": "stream",
     "text": [
      "Enter any string:  Sandeep\n"
     ]
    },
    {
     "name": "stdout",
     "output_type": "stream",
     "text": [
      "Number of vowels in the string: 4\n"
     ]
    }
   ],
   "source": [
    "'''Count the number of consonants in a string.'''\n",
    "st=input(\"Enter any string: \")\n",
    "input_string = st.lower()\n",
    "cons = \"bcdfghjklmnpqrstvwxyz\"\n",
    "consonant_count = 0\n",
    "for char in input_string:\n",
    "    if char in cons:\n",
    "        consonant_count += 1\n",
    "print(f\"Number of vowels in the string: {consonant_count}\")"
   ]
  },
  {
   "cell_type": "code",
   "execution_count": 10,
   "id": "1931ab42-11b6-49c6-9e5e-341ce3736403",
   "metadata": {},
   "outputs": [
    {
     "name": "stdin",
     "output_type": "stream",
     "text": [
      "Enter any string:  S A N D E E P\n"
     ]
    },
    {
     "name": "stdout",
     "output_type": "stream",
     "text": [
      "SANDEEP\n"
     ]
    }
   ],
   "source": [
    "'''7. Remove all whitespaces from a string.'''\n",
    "st=input(\"Enter any string: \")\n",
    "st2=st.replace(\" \",\"\")\n",
    "print(st2)"
   ]
  },
  {
   "cell_type": "code",
   "execution_count": 16,
   "id": "e5cc874d-e2a1-45ad-afe6-b1019ff8f2ff",
   "metadata": {},
   "outputs": [
    {
     "name": "stdin",
     "output_type": "stream",
     "text": [
      "Enter any string:  a bc de\n"
     ]
    },
    {
     "name": "stdout",
     "output_type": "stream",
     "text": [
      "Length of the string: 7\n"
     ]
    }
   ],
   "source": [
    "'''8. Find the length of a string without using the `len()` function.'''\n",
    "st=input(\"Enter any string: \")\n",
    "input_string = st.lower()\n",
    "ltr = \"aeioubcdfghjklmnpqrstvwxyz \"\n",
    "count = 0\n",
    "for char in input_string:\n",
    "    if char in ltr:\n",
    "        count += 1\n",
    "print(f\"Length of the string: {count}\")"
   ]
  },
  {
   "cell_type": "code",
   "execution_count": 20,
   "id": "ece584ba-263f-4307-9e04-63a44509c1c1",
   "metadata": {},
   "outputs": [
    {
     "name": "stdin",
     "output_type": "stream",
     "text": [
      "Enter any string:  deep\n",
      "Enter the desired word Deep\n"
     ]
    },
    {
     "name": "stdout",
     "output_type": "stream",
     "text": [
      "Does not contains the specific word.\n"
     ]
    }
   ],
   "source": [
    "'''9. Check if a string contains a specific word.'''\n",
    "st=input(\"Enter any string: \")\n",
    "word=input(\"Enter the desired word\")\n",
    "if word in st:\n",
    "    print(\"Contains the specific word.\")\n",
    "else:\n",
    "    print(\"Does not contains the specific word.\")"
   ]
  },
  {
   "cell_type": "code",
   "execution_count": 23,
   "id": "f40f7939-feac-4486-8426-388f0661e348",
   "metadata": {},
   "outputs": [
    {
     "name": "stdin",
     "output_type": "stream",
     "text": [
      "Enter any string:  Sandeep\n",
      "Enter the word to replace:  Deep\n",
      "Enter the word to be replaced:  Ricky\n"
     ]
    },
    {
     "name": "stdout",
     "output_type": "stream",
     "text": [
      "Sandeep\n"
     ]
    }
   ],
   "source": [
    "'''10. Replace a word in a string with another word.'''\n",
    "st=input(\"Enter any string: \")\n",
    "word=input(\"Enter the word to replace: \")\n",
    "replace=input(\"Enter the word to be replaced: \")\n",
    "if st2=st.replace(word,replace):\n",
    "    print(st2)\n"
   ]
  },
  {
   "cell_type": "code",
   "execution_count": 29,
   "id": "0b1d6a33-f6f3-4931-8963-7ab1c1e2223e",
   "metadata": {},
   "outputs": [
    {
     "name": "stdin",
     "output_type": "stream",
     "text": [
      "Enter any string:  Sandeep\n",
      "Enter the word:  o\n"
     ]
    },
    {
     "name": "stdout",
     "output_type": "stream",
     "text": [
      "'o' comes 0 times\n"
     ]
    }
   ],
   "source": [
    "'''11. Count the occurrences of a word in a string.'''\n",
    "st=input(\"Enter any string: \")\n",
    "word=input(\"Enter the word: \")\n",
    "print(f\"'{word}' comes {st.count(word)} times\")"
   ]
  },
  {
   "cell_type": "code",
   "execution_count": 32,
   "id": "8071a327-9d2b-477f-bcdc-e7491dfc22c1",
   "metadata": {},
   "outputs": [
    {
     "name": "stdin",
     "output_type": "stream",
     "text": [
      "Enter any string:  Sandeep\n",
      "Enter the word:  a\n"
     ]
    },
    {
     "name": "stdout",
     "output_type": "stream",
     "text": [
      "The word 'a' first occurs at index 1.\n"
     ]
    }
   ],
   "source": [
    "'''12. Find the first occurrence of a word in a string.'''\n",
    "st=input(\"Enter any string: \")\n",
    "word=input(\"Enter the word: \")\n",
    "position = st.find(word)\n",
    "if position != -1:\n",
    "    print(f\"The word '{word}' first occurs at index {position}.\")\n",
    "else:\n",
    "    print(f\"The word '{word}' is not found in the string.\")"
   ]
  },
  {
   "cell_type": "code",
   "execution_count": 33,
   "id": "150d83ef-2c35-41a0-a69b-fda5eeb7e532",
   "metadata": {},
   "outputs": [
    {
     "name": "stdin",
     "output_type": "stream",
     "text": [
      "Enter any string:  Sandeep \n",
      "Enter the word:   \n"
     ]
    },
    {
     "name": "stdout",
     "output_type": "stream",
     "text": [
      "The word ' ' last occurs at index 7.\n"
     ]
    }
   ],
   "source": [
    "'''13. Find the last occurrence of a word in a string.'''\n",
    "st = input(\"Enter any string: \")\n",
    "word = input(\"Enter the word: \")\n",
    "position = st.rfind(word)\n",
    "if position != -1:\n",
    "    print(f\"The word '{word}' last occurs at index {position}.\")\n",
    "else:\n",
    "    print(f\"The word '{word}' is not found in the string.\")\n"
   ]
  },
  {
   "cell_type": "code",
   "execution_count": 35,
   "id": "2cac9cb4-e3bc-4ade-a9bc-f78ec7431360",
   "metadata": {},
   "outputs": [
    {
     "name": "stdin",
     "output_type": "stream",
     "text": [
      "Enter any string:  Sandeep Mondal Ricky\n"
     ]
    },
    {
     "name": "stdout",
     "output_type": "stream",
     "text": [
      "['Sandeep', 'Mondal', 'Ricky']\n",
      "<class 'list'>\n"
     ]
    }
   ],
   "source": [
    "'''14. Split a string into a list of words.'''\n",
    "st = input(\"Enter any string: \").split()\n",
    "print(st)"
   ]
  },
  {
   "cell_type": "code",
   "execution_count": 38,
   "id": "1af1e04f-2c0d-4b5b-9b2f-b7e5f5ab66f1",
   "metadata": {},
   "outputs": [
    {
     "name": "stdin",
     "output_type": "stream",
     "text": [
      "Enter a list of words using space:  Sandeep Mondal\n"
     ]
    },
    {
     "name": "stdout",
     "output_type": "stream",
     "text": [
      "Sandeep Mondal\n"
     ]
    }
   ],
   "source": [
    "'''15. Join a list of words into a string.'''\n",
    "st = input(\"Enter a list of words using space: \").split()\n",
    "join = \" \".join(st)\n",
    "print(join)"
   ]
  },
  {
   "cell_type": "code",
   "execution_count": 39,
   "id": "7660ff3c-0d73-42cf-9b8a-f3647d6dcd39",
   "metadata": {},
   "outputs": [
    {
     "name": "stdin",
     "output_type": "stream",
     "text": [
      "Enter a string with words separated by spaces:  Sandeep Mondal\n"
     ]
    },
    {
     "name": "stdout",
     "output_type": "stream",
     "text": [
      "String with underscores: Sandeep_Mondal\n"
     ]
    }
   ],
   "source": [
    "'''16. Convert a string where words are separated by spaces to one where words are separated by underscores.'''\n",
    "st = input(\"Enter a string with words separated by spaces: \")\n",
    "underscored_string = st.replace(\" \", \"_\")\n",
    "print(\"String with underscores:\", underscored_string)"
   ]
  },
  {
   "cell_type": "code",
   "execution_count": 42,
   "id": "7b9031d7-2449-4ec6-a23b-07265651c004",
   "metadata": {},
   "outputs": [
    {
     "name": "stdin",
     "output_type": "stream",
     "text": [
      "Enter a string with words separated by spaces:  Sandeep\n",
      "Enter a word to check:  e\n"
     ]
    },
    {
     "name": "stdout",
     "output_type": "stream",
     "text": [
      "Does not starts with e\n"
     ]
    }
   ],
   "source": [
    "'''17. Check if a string starts with a specific word or phrase. '''\n",
    "st = input(\"Enter a string : \")\n",
    "word = input(\"Enter a word to check: \")\n",
    "if st.startswith(word):\n",
    "    print(\"Yes starts with\",word)\n",
    "else:\n",
    "    print(\"Does not start with\",word)"
   ]
  },
  {
   "cell_type": "code",
   "execution_count": 44,
   "id": "5be764a0-ca32-455c-baaf-95a282b86a72",
   "metadata": {},
   "outputs": [
    {
     "name": "stdin",
     "output_type": "stream",
     "text": [
      "Enter a string with words separated by spaces:  Sandeep\n",
      "Enter a word to check:  i\n"
     ]
    },
    {
     "name": "stdout",
     "output_type": "stream",
     "text": [
      "Does not ends with i\n"
     ]
    }
   ],
   "source": [
    "'''18. Check if a string ends with a specific word or phrase.'''\n",
    "st = input(\"Enter a string : \")\n",
    "word = input(\"Enter a word to check: \")\n",
    "if st.endswith(word):\n",
    "    print(\"Yes ends with\",word)\n",
    "else:\n",
    "    print(\"Does not end with\",word)"
   ]
  },
  {
   "cell_type": "code",
   "execution_count": 46,
   "id": "0f1af529-ecf1-46f6-b8b4-61ab3d66177f",
   "metadata": {},
   "outputs": [
    {
     "name": "stdin",
     "output_type": "stream",
     "text": [
      "Enter a string :  sandeep mondal\n"
     ]
    },
    {
     "name": "stdout",
     "output_type": "stream",
     "text": [
      "Sandeep Mondal\n"
     ]
    }
   ],
   "source": [
    "'''19. Convert a string to title case (e.g., \"hello world\" to \"Hello World\").'''\n",
    "st = input(\"Enter a string : \")\n",
    "stt = st.title()\n",
    "print(stt)"
   ]
  },
  {
   "cell_type": "code",
   "execution_count": 50,
   "id": "7cab61bd-07bd-4465-8b90-d5943fb1e417",
   "metadata": {},
   "outputs": [
    {
     "name": "stdin",
     "output_type": "stream",
     "text": [
      "Enter a string :  Sandeep Mondal\n"
     ]
    },
    {
     "name": "stdout",
     "output_type": "stream",
     "text": [
      "Longest word:  Sandeep\n"
     ]
    }
   ],
   "source": [
    "'''20. Find the longest word in a string.'''\n",
    "stt = input(\"Enter a string : \")\n",
    "st = stt.split()\n",
    "longest = max(st,key=len)\n",
    "print(\"Longest word: \",longest)"
   ]
  },
  {
   "cell_type": "code",
   "execution_count": 51,
   "id": "ced82202-8889-4a34-8c2c-7c07513e1502",
   "metadata": {},
   "outputs": [
    {
     "name": "stdin",
     "output_type": "stream",
     "text": [
      "Enter a string :  Sandeep Mondal\n"
     ]
    },
    {
     "name": "stdout",
     "output_type": "stream",
     "text": [
      "Smallest word:  Mondal\n"
     ]
    }
   ],
   "source": [
    "'''21. Find the shortest word in a string.'''\n",
    "stt = input(\"Enter a string : \")\n",
    "st = stt.split()\n",
    "longest = min(st,key=len)\n",
    "print(\"Smallest word: \",longest)"
   ]
  },
  {
   "cell_type": "code",
   "execution_count": 54,
   "id": "f49f4364-4a39-4199-a815-07c15e2d61bb",
   "metadata": {},
   "outputs": [
    {
     "name": "stdin",
     "output_type": "stream",
     "text": [
      "Enter a string :  Sandeep MOndal\n"
     ]
    },
    {
     "name": "stdout",
     "output_type": "stream",
     "text": [
      "MOndal Sandeep\n"
     ]
    }
   ],
   "source": [
    "'''22. Reverse the order of words in a string.'''\n",
    "st = input(\"Enter a string : \").split()\n",
    "rev=st[::-1]\n",
    "print(\" \".join(rev))"
   ]
  },
  {
   "cell_type": "code",
   "execution_count": 57,
   "id": "948efa92-56d9-4bb9-bea1-30560951b6dc",
   "metadata": {},
   "outputs": [
    {
     "name": "stdin",
     "output_type": "stream",
     "text": [
      "Enter any string:  @#$\n"
     ]
    },
    {
     "name": "stdout",
     "output_type": "stream",
     "text": [
      "The string is not alphanumeric.\n"
     ]
    }
   ],
   "source": [
    "'''23. Check if a string is alphanumeric.'''\n",
    "st = input(\"Enter any string: \")\n",
    "if st.isalnum():\n",
    "    print(\"The string is alphanumeric.\")\n",
    "else:\n",
    "    print(\"The string is not alphanumeric.\")"
   ]
  },
  {
   "cell_type": "code",
   "execution_count": 61,
   "id": "f6f6fc58-1edd-4ca5-93a7-bb15d10a0297",
   "metadata": {},
   "outputs": [
    {
     "name": "stdin",
     "output_type": "stream",
     "text": [
      "Enter any string:  sandeep 2003 mondal 2701\n"
     ]
    },
    {
     "name": "stdout",
     "output_type": "stream",
     "text": [
      "Extracted digits:  ['2', '0', '0', '3', '2', '7', '0', '1']\n"
     ]
    }
   ],
   "source": [
    "'''24. Extract all digits from a string.'''\n",
    "num=[]\n",
    "st = input(\"Enter any string: \")\n",
    "for i in st:\n",
    "    if i.isnumeric():\n",
    "        num.append(i)\n",
    "print(\"Extracted digits: \",num)"
   ]
  },
  {
   "cell_type": "code",
   "execution_count": 62,
   "id": "244e8222-e38c-4b17-8e23-6aba8900bd88",
   "metadata": {},
   "outputs": [
    {
     "name": "stdin",
     "output_type": "stream",
     "text": [
      "Enter any string:  sandeep 2003 mondal 2701\n"
     ]
    },
    {
     "name": "stdout",
     "output_type": "stream",
     "text": [
      "Extracted alphabets:  ['s', 'a', 'n', 'd', 'e', 'e', 'p', 'm', 'o', 'n', 'd', 'a', 'l']\n"
     ]
    }
   ],
   "source": [
    "'''25. Extract all alphabets from a string.'''\n",
    "'''24. Extract all digits from a string.'''\n",
    "alpha=[]\n",
    "st = input(\"Enter any string: \")\n",
    "for i in st:\n",
    "    if i.isalpha():\n",
    "        alpha.append(i)\n",
    "print(\"Extracted alphabets: \",alpha)"
   ]
  },
  {
   "cell_type": "code",
   "execution_count": 64,
   "id": "8be0a24c-3ee0-4c3a-8bee-dfb98626cbbe",
   "metadata": {},
   "outputs": [
    {
     "name": "stdin",
     "output_type": "stream",
     "text": [
      "Enter any string:  Sandeep Mondal\n"
     ]
    },
    {
     "name": "stdout",
     "output_type": "stream",
     "text": [
      "number of uppercase alphabets:  2\n"
     ]
    }
   ],
   "source": [
    "'''26. Count the number of uppercase letters in a string.'''\n",
    "count=0\n",
    "st = input(\"Enter any string: \")\n",
    "for i in st:\n",
    "    if i.isupper():\n",
    "        count+=1\n",
    "print(\"number of uppercase alphabets: \",count)"
   ]
  },
  {
   "cell_type": "code",
   "execution_count": 65,
   "id": "fa557caf-c9fa-409d-b71e-32d3ccff2d42",
   "metadata": {},
   "outputs": [
    {
     "name": "stdin",
     "output_type": "stream",
     "text": [
      "Enter any string:  Sandeep MOndal\n"
     ]
    },
    {
     "name": "stdout",
     "output_type": "stream",
     "text": [
      "number of lowercase alphabets:  10\n"
     ]
    }
   ],
   "source": [
    "'''27. Count the number of lowercase letters in a string.'''\n",
    "count=0\n",
    "st = input(\"Enter any string: \")\n",
    "for i in st:\n",
    "    if i.islower():\n",
    "        count+=1\n",
    "print(\"number of lowercase alphabets: \",count)"
   ]
  },
  {
   "cell_type": "code",
   "execution_count": 66,
   "id": "5f55625d-20a9-46e1-88f5-b5f8b752bd7c",
   "metadata": {},
   "outputs": [
    {
     "name": "stdin",
     "output_type": "stream",
     "text": [
      "Enter any string:  Sandeep Mondal\n"
     ]
    },
    {
     "name": "stdout",
     "output_type": "stream",
     "text": [
      "String with swapped case: sANDEEP mONDAL\n"
     ]
    }
   ],
   "source": [
    "'''28. Swap the case of each character in a string.'''\n",
    "st = input(\"Enter any string: \")\n",
    "swapped_case_string = st.swapcase()\n",
    "print(\"String with swapped case:\", swapped_case_string)"
   ]
  },
  {
   "cell_type": "code",
   "execution_count": 69,
   "id": "d4569e69-ffcb-419c-a68e-fb6834812003",
   "metadata": {},
   "outputs": [
    {
     "name": "stdin",
     "output_type": "stream",
     "text": [
      "Enter any string:  Sandeep\n",
      "Enter the word/substring to remove:  d\n"
     ]
    },
    {
     "name": "stdout",
     "output_type": "stream",
     "text": [
      "Saneep\n"
     ]
    }
   ],
   "source": [
    "'''29. Remove a specific word from a string.'''\n",
    "st = input(\"Enter any string: \")\n",
    "st1 = input(\"Enter the word/substring to remove: \")\n",
    "st2 = st.replace(st1,\"\")\n",
    "print(st2)"
   ]
  },
  {
   "cell_type": "code",
   "execution_count": 72,
   "id": "96ad3454-db5a-4e4a-ba21-05707a828025",
   "metadata": {},
   "outputs": [
    {
     "name": "stdin",
     "output_type": "stream",
     "text": [
      "Enter an email address:  sandeepsandeepsandeepmondal2003@gmail.com\n"
     ]
    },
    {
     "name": "stdout",
     "output_type": "stream",
     "text": [
      "The email address is valid.\n"
     ]
    }
   ],
   "source": [
    "'''30. Check if a string is a valid email address.'''\n",
    "import re\n",
    "email = input(\"Enter an email address: \")\n",
    "pattern = r'^[a-zA-Z0-9._%+-]+@[a-zA-Z0-9.-]+\\.[a-zA-Z]{2,}$'\n",
    "if re.match(pattern, email):\n",
    "    print(\"The email address is valid.\")\n",
    "else:\n",
    "    print(\"The email address is not valid.\")\n"
   ]
  },
  {
   "cell_type": "code",
   "execution_count": 73,
   "id": "2eccf52e-1640-44a2-a6d4-77a64ab6eccc",
   "metadata": {},
   "outputs": [
    {
     "name": "stdin",
     "output_type": "stream",
     "text": [
      "Enter an email address:  Sandeep@gmail.com\n"
     ]
    },
    {
     "name": "stdout",
     "output_type": "stream",
     "text": [
      "Username: Sandeep\n"
     ]
    }
   ],
   "source": [
    "'''31. Extract the username from an email address string.'''\n",
    "email = input(\"Enter an email address: \")\n",
    "username = email.split('@')[0]\n",
    "print(\"Username:\", username)\n"
   ]
  },
  {
   "cell_type": "code",
   "execution_count": 82,
   "id": "9e11544b-ad5c-48dd-9b32-e57f8ec19a85",
   "metadata": {},
   "outputs": [
    {
     "name": "stdin",
     "output_type": "stream",
     "text": [
      "Enter an email address:  Sandeep@gmail.in\n"
     ]
    },
    {
     "name": "stdout",
     "output_type": "stream",
     "text": [
      "Domain:  gmail.in\n"
     ]
    }
   ],
   "source": [
    "'''32. Extract the domain name from an email address string.'''\n",
    "email = input(\"Enter an email address: \")\n",
    "if \"@\" in email and \".\" in email :\n",
    "    domain = email.split('@')[1]\n",
    "    print(\"Domain: \",domain)\n",
    "else:\n",
    "    print(\"Not valid\")"
   ]
  },
  {
   "cell_type": "code",
   "execution_count": 86,
   "id": "16da2d65-5f91-4f6c-acda-9abcd1bc1bd5",
   "metadata": {},
   "outputs": [
    {
     "name": "stdin",
     "output_type": "stream",
     "text": [
      "Enter the string:  S an    d   e    e    p \n"
     ]
    },
    {
     "name": "stdout",
     "output_type": "stream",
     "text": [
      "S an d e e p\n"
     ]
    }
   ],
   "source": [
    "'''33. Replace multiple spaces in a string with a single space.'''\n",
    "st = input(\"Enter the string: \").split()\n",
    "ans = ' '.join(st)\n",
    "print(ans)"
   ]
  },
  {
   "cell_type": "code",
   "execution_count": 84,
   "id": "91ceb763-9587-4f29-af6a-17f9f1a148d9",
   "metadata": {},
   "outputs": [
    {
     "name": "stdin",
     "output_type": "stream",
     "text": [
      "Enter a string with multiple spaces:  S an    d   e    e    p \n"
     ]
    },
    {
     "name": "stdout",
     "output_type": "stream",
     "text": [
      "String with single spaces: S an d e e p\n"
     ]
    }
   ],
   "source": [
    "'''34. Check if a string is a valid URL.'''\n",
    "import re\n",
    "url = input(\"Enter a URL: \")\n",
    "pattern = r'^(https?://)?(www\\.)?[a-zA-Z0-9-]+(\\.[a-zA-Z]{2,})+(/.*)?$'\n",
    "if re.match(pattern, url):\n",
    "    print(\"The URL is valid.\")\n",
    "else:\n",
    "    print(\"The URL is not valid.\")"
   ]
  },
  {
   "cell_type": "code",
   "execution_count": 88,
   "id": "37388998-f028-4650-8f6d-19b48bc05654",
   "metadata": {},
   "outputs": [
    {
     "name": "stdin",
     "output_type": "stream",
     "text": [
      "Enter the url:  http\n"
     ]
    },
    {
     "name": "stdout",
     "output_type": "stream",
     "text": [
      "Invalid\n"
     ]
    }
   ],
   "source": [
    "'''35. Extract the protocol (http or https) from a URL string.'''\n",
    "st = input(\"Enter the url: \")\n",
    "if \"://\" in st:\n",
    "    print(st.split(\"://\"))\n",
    "else:\n",
    "    print(\"Invalid\")"
   ]
  },
  {
   "cell_type": "code",
   "execution_count": 89,
   "id": "9e247ab6-28a2-405a-a799-35a66ff40e68",
   "metadata": {},
   "outputs": [
    {
     "name": "stdin",
     "output_type": "stream",
     "text": [
      "Enter string:  sandeep mondal gg abcd\n"
     ]
    },
    {
     "name": "stdout",
     "output_type": "stream",
     "text": [
      "Character frequency: {'s': 1, 'a': 3, 'n': 2, 'd': 3, 'e': 2, 'p': 1, ' ': 3, 'm': 1, 'o': 1, 'l': 1, 'g': 2, 'b': 1, 'c': 1}\n"
     ]
    }
   ],
   "source": [
    "'''36. Find the frequency of each character in a string.'''\n",
    "st=input(\"Enter string: \")\n",
    "frequency={}\n",
    "for char in st:\n",
    "    if char in frequency:\n",
    "        frequency[char] += 1\n",
    "    else:\n",
    "        frequency[char] = 1\n",
    "print(\"Character frequency:\", frequency)"
   ]
  },
  {
   "cell_type": "code",
   "execution_count": 99,
   "id": "6d006bee-1028-4c79-b403-b72689a8d90f",
   "metadata": {},
   "outputs": [
    {
     "name": "stderr",
     "output_type": "stream",
     "text": [
      "<>:3: SyntaxWarning: invalid escape sequence '\\_'\n",
      "<>:3: SyntaxWarning: invalid escape sequence '\\_'\n",
      "C:\\Users\\Sandeep\\AppData\\Local\\Temp\\ipykernel_7028\\1674651146.py:3: SyntaxWarning: invalid escape sequence '\\_'\n",
      "  punc=\"!#$%&'()*+,-./:;<=>^?@][\\_`{|}~\"\n"
     ]
    },
    {
     "name": "stdin",
     "output_type": "stream",
     "text": [
      "Enter string:  sandeep@#$\n"
     ]
    },
    {
     "name": "stdout",
     "output_type": "stream",
     "text": [
      "sandeep\n"
     ]
    }
   ],
   "source": [
    "'''37. Remove all punctuation from a string.'''\n",
    "st=input(\"Enter string: \")\n",
    "punc=\"!#$%&'()*+,-./:;<=>^?@][\\_`{|}~\"\n",
    "ans=\"\"\n",
    "for i in st:\n",
    "    if i not in punc:\n",
    "        ans=ans+i\n",
    "print(ans)        "
   ]
  },
  {
   "cell_type": "code",
   "execution_count": 103,
   "id": "673ec158-660a-4045-8d50-eba6a984b8e7",
   "metadata": {},
   "outputs": [
    {
     "name": "stdin",
     "output_type": "stream",
     "text": [
      "Enter any string:  123d\n"
     ]
    },
    {
     "name": "stdout",
     "output_type": "stream",
     "text": [
      "does not contain only digit\n"
     ]
    }
   ],
   "source": [
    "'''38. Check if a string contains only digits.'''\n",
    "st =input(\"Enter any string: \")\n",
    "ans = st.isdigit()\n",
    "if ans:\n",
    "    print(\"Contains only digit\")\n",
    "else:\n",
    "    print(\"does not contain only digit\")"
   ]
  },
  {
   "cell_type": "code",
   "execution_count": null,
   "id": "040cd85e-9db6-46a8-b9d9-62d22b63f554",
   "metadata": {},
   "outputs": [],
   "source": [
    "'''39. Check if a string contains only alphabets.'''\n",
    "st =input(\"Enter any string: \")\n",
    "ans = st.isalpha()\n",
    "if ans:\n",
    "    print(\"Contains only alphabets\")\n",
    "else:\n",
    "    print(\"does not contain only alphabets\")"
   ]
  },
  {
   "cell_type": "code",
   "execution_count": 104,
   "id": "ee7fe767-977a-47f8-b554-e1f4dd4e7711",
   "metadata": {},
   "outputs": [
    {
     "name": "stdin",
     "output_type": "stream",
     "text": [
      "Enter:  Sandeep MOndal of Hindmotor\n"
     ]
    },
    {
     "name": "stdout",
     "output_type": "stream",
     "text": [
      "['S', 'a', 'n', 'd', 'e', 'e', 'p', ' ', 'M', 'O', 'n', 'd', 'a', 'l', ' ', 'o', 'f', ' ', 'H', 'i', 'n', 'd', 'm', 'o', 't', 'o', 'r']\n"
     ]
    }
   ],
   "source": [
    "'''40. Convert a string to a list of characters.'''\n",
    "st=input(\"Enter: \")\n",
    "l = list(st)\n",
    "print(l)"
   ]
  },
  {
   "cell_type": "code",
   "execution_count": 105,
   "id": "16a173eb-577d-4a58-a7a3-98da349a7cc5",
   "metadata": {},
   "outputs": [
    {
     "name": "stdin",
     "output_type": "stream",
     "text": [
      "Enter:  SAndeep\n",
      "Enter:  sandep\n"
     ]
    },
    {
     "name": "stdout",
     "output_type": "stream",
     "text": [
      "Not\n"
     ]
    }
   ],
   "source": [
    "'''41. Check if two strings are anagrams.'''\n",
    "st=input(\"Enter: \")\n",
    "st1=input(\"Enter: \")\n",
    "\n",
    "if sorted(st)==sorted(st1):\n",
    "    print(\"Yes \")\n",
    "else:\n",
    "    print(\"Not\")"
   ]
  },
  {
   "cell_type": "code",
   "execution_count": 108,
   "id": "31c35ff0-fb8e-49ef-9a26-8987cd6be879",
   "metadata": {},
   "outputs": [
    {
     "name": "stdin",
     "output_type": "stream",
     "text": [
      "Enter a string:  Sandeep\n",
      "Enter the shift value:  4\n"
     ]
    },
    {
     "name": "stdout",
     "output_type": "stream",
     "text": [
      "Encoded string: Werhiit\n"
     ]
    }
   ],
   "source": [
    "'''42. Encode a string using a Caesar cipher.'''\n",
    "st = input(\"Enter a string: \")\n",
    "shift = int(input(\"Enter the shift value: \"))\n",
    "encoded_string = ''.join(\n",
    "    chr((ord(char) - 65 + shift) % 26 + 65) if char.isupper() else\n",
    "    chr((ord(char) - 97 + shift) % 26 + 97) if char.islower() else char\n",
    "    for char in st\n",
    ")\n",
    "print(\"Encoded string:\", encoded_string)"
   ]
  },
  {
   "cell_type": "code",
   "execution_count": 109,
   "id": "b9ca9b07-6238-40e9-a024-7d8e0183dccd",
   "metadata": {},
   "outputs": [
    {
     "name": "stdin",
     "output_type": "stream",
     "text": [
      "Enter the encoded string:  Werhiit\n",
      "Enter the shift value:  4\n"
     ]
    },
    {
     "name": "stdout",
     "output_type": "stream",
     "text": [
      "Decoded string: Sandeep\n"
     ]
    }
   ],
   "source": [
    "'''43. Decode a Caesar cipher encoded string.'''\n",
    "st = input(\"Enter the encoded string: \")\n",
    "shift = int(input(\"Enter the shift value: \"))\n",
    "decoded_string = ''.join(\n",
    "    chr((ord(char) - 65 - shift) % 26 + 65) if char.isupper() else\n",
    "    chr((ord(char) - 97 - shift) % 26 + 97) if char.islower() else char\n",
    "    for char in st\n",
    ")\n",
    "print(\"Decoded string:\", decoded_string)"
   ]
  },
  {
   "cell_type": "code",
   "execution_count": null,
   "id": "95743eba-60bb-45e8-b8dd-b1282d26ba0a",
   "metadata": {},
   "outputs": [],
   "source": [
    "'''44. Find the most frequent word in a string.'''\n",
    "st = input(\"Enter a string: \")\n",
    "words = st.split()\n",
    "frequency = {}\n",
    "for word in words:\n",
    "    if word in frequency:\n",
    "        frequency[word] += 1\n",
    "    else:\n",
    "        frequency[word] = 1\n",
    "most_frequent_word = max(frequency, key=frequency.get)\n",
    "print(\"Most frequent word:\", most_frequent_word)"
   ]
  },
  {
   "cell_type": "code",
   "execution_count": 110,
   "id": "ecd992b4-7674-4033-8025-00aa1445250e",
   "metadata": {},
   "outputs": [
    {
     "name": "stdin",
     "output_type": "stream",
     "text": [
      "Enter a string:  Sandeep\n"
     ]
    },
    {
     "name": "stdout",
     "output_type": "stream",
     "text": [
      "Unique words: {'Sandeep'}\n"
     ]
    }
   ],
   "source": [
    "'''45. Find all unique words in a string.'''\n",
    "st = input(\"Enter a string: \")\n",
    "unique_words = set(st.split())\n",
    "print(\"Unique words:\", unique_words)"
   ]
  },
  {
   "cell_type": "code",
   "execution_count": null,
   "id": "6c23218a-3ffb-470c-8479-0a5d95710d31",
   "metadata": {},
   "outputs": [],
   "source": [
    "'''46. Count the number of syllables in a string.'''\n",
    "def count_syllables(word):\n",
    "  vowels = \"aeiouy\"\n",
    "  syllables = 0\n",
    "  for i in range(len(word)):\n",
    "    if word[i] in vowels:\n",
    "      syllables += 1\n",
    "      while i < len(word) - 1 and not word[i+1] in vowels:\n",
    "        i += 1\n",
    "  return syllables\n",
    "word = \"hello\"\n",
    "num_syllables = count_syllables(word)\n",
    "print(\"Number of syllables:\", num_syllables)"
   ]
  },
  {
   "cell_type": "code",
   "execution_count": 127,
   "id": "f0e3f573-e70d-42f1-8bec-933af10ea2a3",
   "metadata": {},
   "outputs": [
    {
     "name": "stdin",
     "output_type": "stream",
     "text": [
      "Enter the string:  asndeep#$\n"
     ]
    },
    {
     "name": "stdout",
     "output_type": "stream",
     "text": [
      "Contains special character.\n"
     ]
    }
   ],
   "source": [
    "'''47. Check if a string contains any special characters.'''\n",
    "st=input(\"Enter the string: \")\n",
    "if st.isalnum() :\n",
    "    print(\"Does not contain any special character.\")\n",
    "else:\n",
    "    print(\"Contains special character.\")"
   ]
  },
  {
   "cell_type": "code",
   "execution_count": 134,
   "id": "53542933-9b82-4c2e-91b4-e8bf69face39",
   "metadata": {},
   "outputs": [
    {
     "name": "stdin",
     "output_type": "stream",
     "text": [
      "Enter:  abcdefghijk\n",
      "Enter the value of n:  2\n"
     ]
    },
    {
     "name": "stdout",
     "output_type": "stream",
     "text": [
      "abdefghijk\n"
     ]
    }
   ],
   "source": [
    "'''48. Remove the nth word from a string.'''\n",
    "st=input(\"Enter: \")\n",
    "n=int(input(\"Enter the value of n: \"))\n",
    "nw=list(st)\n",
    "nw.pop(n)\n",
    "ans=\"\"\n",
    "for i in nw:\n",
    "    ans+=i\n",
    "print(ans)"
   ]
  },
  {
   "cell_type": "code",
   "execution_count": 133,
   "id": "739c8956-ff31-4b02-8c1f-b93c10baf4a7",
   "metadata": {},
   "outputs": [
    {
     "name": "stdin",
     "output_type": "stream",
     "text": [
      "Enter:  abcdefghi\n",
      "Enter the value of n:  2\n",
      "Enter the word:  z\n"
     ]
    },
    {
     "name": "stdout",
     "output_type": "stream",
     "text": [
      "abzcdefghi\n"
     ]
    }
   ],
   "source": [
    "'''49. Insert a word at the nth position in a string.'''\n",
    "st=input(\"Enter: \")\n",
    "n=int(input(\"Enter the value of n: \"))\n",
    "w=input(\"Enter the word: \")\n",
    "nw=list(st)\n",
    "nw.insert(n,w)\n",
    "ans=\"\"\n",
    "for i in nw:\n",
    "    ans+=i\n",
    "print(ans)"
   ]
  },
  {
   "cell_type": "code",
   "execution_count": 135,
   "id": "d5720885-3f54-4d1a-9710-069c5ff57de0",
   "metadata": {},
   "outputs": [
    {
     "name": "stdin",
     "output_type": "stream",
     "text": [
      "Enter the CSV string:  Sandeep:30\n"
     ]
    },
    {
     "name": "stdout",
     "output_type": "stream",
     "text": [
      "List of lists: [['Sandeep:30']]\n"
     ]
    }
   ],
   "source": [
    "'''50. Convert a CSV string to a list of lists.'''\n",
    "def csv_to_list_of_lists(csv_string):\n",
    "   rows = csv_string.strip().split('\\n')\n",
    "   list_of_lists = [row.split(',') for row in rows]\n",
    "   return list_of_lists\n",
    "csv_string = input(\"Enter the CSV string: \")\n",
    "result = csv_to_list_of_lists(csv_string)\n",
    "print(\"List of lists:\", result)"
   ]
  },
  {
   "cell_type": "code",
   "execution_count": null,
   "id": "ab35e810-06ae-4e1a-956e-78544f036e66",
   "metadata": {},
   "outputs": [],
   "source": [
    "#List Based Practice Problem :"
   ]
  },
  {
   "cell_type": "code",
   "execution_count": 1,
   "id": "b7a28bb8-5bd9-44ed-b9c8-f04e759935ef",
   "metadata": {},
   "outputs": [
    {
     "name": "stdout",
     "output_type": "stream",
     "text": [
      "[1, 2, 3, 4, 5, 6, 7, 8, 9, 10]\n"
     ]
    }
   ],
   "source": [
    "'''1. Create a list with integers from 1 to 10.'''\n",
    "l=list(range(1,11))\n",
    "print(l)"
   ]
  },
  {
   "cell_type": "code",
   "execution_count": 4,
   "id": "4f2db120-fb0a-47f4-b684-5e786ba2bba2",
   "metadata": {},
   "outputs": [
    {
     "name": "stdin",
     "output_type": "stream",
     "text": [
      "Enter the elements using space:  Sandep MOdnal ada fged dd\n"
     ]
    },
    {
     "name": "stdout",
     "output_type": "stream",
     "text": [
      "Length of the list:  5\n"
     ]
    }
   ],
   "source": [
    "'''2. Find the length of a list without using the `len()` function.'''\n",
    "l=input(\"Enter the elements using space: \").split()\n",
    "count=0\n",
    "for i in l:\n",
    "    count+=1\n",
    "print(\"Length of the list: \",count)"
   ]
  },
  {
   "cell_type": "code",
   "execution_count": 5,
   "id": "de7bcdfb-45f9-45be-b48a-b2126543513e",
   "metadata": {},
   "outputs": [
    {
     "name": "stdin",
     "output_type": "stream",
     "text": [
      "Enter the elements using space:  Sandeep Mondal\n",
      "Enter the element to append:  Inda\n"
     ]
    },
    {
     "name": "stdout",
     "output_type": "stream",
     "text": [
      "['Sandeep', 'Mondal', 'Inda']\n"
     ]
    }
   ],
   "source": [
    "'''3. Append an element to the end of a list.'''\n",
    "l=input(\"Enter the elements using space: \").split()\n",
    "val=input(\"Enter the element to append: \")\n",
    "l.append(val)\n",
    "print(l)"
   ]
  },
  {
   "cell_type": "code",
   "execution_count": 8,
   "id": "eb6a677b-ebf0-405b-9d28-94fc56976ad6",
   "metadata": {},
   "outputs": [
    {
     "name": "stdin",
     "output_type": "stream",
     "text": [
      "Enter the elements using space:  san deep dal\n",
      "Enter the element to append:  mon\n",
      "Enter the index to append:  2\n"
     ]
    },
    {
     "name": "stdout",
     "output_type": "stream",
     "text": [
      "['san', 'deep', 'mon', 'dal']\n"
     ]
    }
   ],
   "source": [
    "'''4. Insert an element at a specific index in a list.'''\n",
    "l=input(\"Enter the elements using space: \").split()\n",
    "val=input(\"Enter the element to append: \")\n",
    "i=int(input(\"Enter the index to append: \"))\n",
    "l.insert(i,val)\n",
    "print(l)"
   ]
  },
  {
   "cell_type": "code",
   "execution_count": 9,
   "id": "dae03da0-d53f-4b84-970e-62bf170872e0",
   "metadata": {},
   "outputs": [
    {
     "name": "stdin",
     "output_type": "stream",
     "text": [
      "Enter the elements using space:  sandeep mondal 123 @#!\n",
      "Enter the element to remove:  123\n"
     ]
    },
    {
     "name": "stdout",
     "output_type": "stream",
     "text": [
      "['sandeep', 'mondal', '@#!']\n"
     ]
    }
   ],
   "source": [
    "'''5. Remove an element from a list by its value.'''\n",
    "l=input(\"Enter the elements using space: \").split()\n",
    "val=input(\"Enter the element to remove: \")\n",
    "l.remove(val)\n",
    "print(l)"
   ]
  },
  {
   "cell_type": "code",
   "execution_count": 11,
   "id": "25c2883c-fb53-46a6-a2b0-c08772d3c8fd",
   "metadata": {},
   "outputs": [
    {
     "name": "stdin",
     "output_type": "stream",
     "text": [
      "Enter the elements using space:  sandeep mondal 123 @#!\n",
      "Enter the element to remove:  2\n"
     ]
    },
    {
     "name": "stdout",
     "output_type": "stream",
     "text": [
      "['sandeep', 'mondal', '@#!']\n"
     ]
    }
   ],
   "source": [
    "'''6. Remove an element from a list by its index.'''\n",
    "l=input(\"Enter the elements using space: \").split()\n",
    "val=int(input(\"Enter the element to remove: \"))\n",
    "l.pop(val)\n",
    "print(l)"
   ]
  },
  {
   "cell_type": "code",
   "execution_count": 13,
   "id": "4837b47d-4f12-4d6b-b197-592b16c0d1c8",
   "metadata": {},
   "outputs": [
    {
     "name": "stdin",
     "output_type": "stream",
     "text": [
      "Enter the elements using space:  asdkl asdasd edqewd asdasd frgergf 1321 \n"
     ]
    },
    {
     "name": "stdout",
     "output_type": "stream",
     "text": [
      "Exist\n"
     ]
    }
   ],
   "source": [
    "'''7. Check if an element exists in a list.'''\n",
    "l=input(\"Enter the elements using space: \").split()\n",
    "if len(l):\n",
    "    print(\"Exists\")\n",
    "else:\n",
    "    print(\"Does not exist\")"
   ]
  },
  {
   "cell_type": "code",
   "execution_count": 15,
   "id": "52052b3c-4bc9-4896-a33e-101be58abfc5",
   "metadata": {},
   "outputs": [
    {
     "name": "stdin",
     "output_type": "stream",
     "text": [
      "Enter the elements using space:  asdkl asdasd edqewd asdasd frgergf 1321 \n",
      "Enter the element to check:  asdasd\n"
     ]
    },
    {
     "name": "stdout",
     "output_type": "stream",
     "text": [
      "1\n"
     ]
    }
   ],
   "source": [
    "'''8. Find the index of the first occurrence of an element in a list.'''\n",
    "l=input(\"Enter the elements using space: \").split()\n",
    "val=input(\"Enter the element to check: \")\n",
    "i=l.index(val)\n",
    "print(i)"
   ]
  },
  {
   "cell_type": "code",
   "execution_count": 18,
   "id": "5c6b55e0-d3d0-40b7-8a19-f198c090fb21",
   "metadata": {},
   "outputs": [
    {
     "name": "stdin",
     "output_type": "stream",
     "text": [
      "Enter the elements using space:  12 12 12 12 12 123\n",
      "Enter the element to check:  12\n"
     ]
    },
    {
     "name": "stdout",
     "output_type": "stream",
     "text": [
      "5\n"
     ]
    }
   ],
   "source": [
    "'''9. Count the occurrences of an element in a list.'''\n",
    "l=input(\"Enter the elements using space: \").split()\n",
    "val=input(\"Enter the element to check: \")\n",
    "i=l.count(val)\n",
    "print(i)"
   ]
  },
  {
   "cell_type": "code",
   "execution_count": 19,
   "id": "eeca0d26-c184-4230-a0a3-b7ef7b5dba2c",
   "metadata": {},
   "outputs": [
    {
     "name": "stdin",
     "output_type": "stream",
     "text": [
      "Enter the elements using space:  1211 12 1221 12 12 123\n"
     ]
    },
    {
     "name": "stdout",
     "output_type": "stream",
     "text": [
      "['123', '12', '12', '1221', '12', '1211']\n"
     ]
    }
   ],
   "source": [
    "'''10. Reverse the order of elements in a list.'''\n",
    "l=input(\"Enter the elements using space: \").split()\n",
    "i=l[::-1]\n",
    "print(i)"
   ]
  },
  {
   "cell_type": "code",
   "execution_count": 20,
   "id": "4e41d819-ce92-4340-af7f-34233aa5e4e6",
   "metadata": {},
   "outputs": [
    {
     "name": "stdin",
     "output_type": "stream",
     "text": [
      "Enter the elements using space:  Sandeep Mondal Tann Tannistha ABC A 1234\n"
     ]
    },
    {
     "name": "stdout",
     "output_type": "stream",
     "text": [
      "['1234', 'A', 'ABC', 'Mondal', 'Sandeep', 'Tann', 'Tannistha']\n"
     ]
    }
   ],
   "source": [
    "'''11. Sort a list in ascending order.'''\n",
    "l=input(\"Enter the elements using space: \").split()\n",
    "i=sorted(l)\n",
    "print(i)"
   ]
  },
  {
   "cell_type": "code",
   "execution_count": 22,
   "id": "1a443ed7-db0c-4fa9-ab0a-b92ea5f64f59",
   "metadata": {},
   "outputs": [
    {
     "name": "stdin",
     "output_type": "stream",
     "text": [
      "Enter the elements using space:  Sandeep Mondal Tann Tannistha ABC A 1234\n"
     ]
    },
    {
     "name": "stdout",
     "output_type": "stream",
     "text": [
      "['Tannistha', 'Tann', 'Sandeep', 'Mondal', 'ABC', 'A', '1234']\n"
     ]
    }
   ],
   "source": [
    "'''12. Sort a list in descending order.'''\n",
    "l=input(\"Enter the elements using space: \").split()\n",
    "i=sorted(l,reverse=True)\n",
    "print(i)"
   ]
  },
  {
   "cell_type": "code",
   "execution_count": 23,
   "id": "c4ed2a39-a20a-4d17-b17e-0c957335aca5",
   "metadata": {},
   "outputs": [
    {
     "name": "stdout",
     "output_type": "stream",
     "text": [
      "[0, 2, 4, 6, 8, 10, 12, 14, 16, 18, 20]\n"
     ]
    }
   ],
   "source": [
    "'''13. Create a list of even numbers from 1 to 20.'''\n",
    "l=list(range(0,21,2))\n",
    "print(l)"
   ]
  },
  {
   "cell_type": "code",
   "execution_count": 24,
   "id": "bd084414-bc89-4906-bed0-72b7a9010fb8",
   "metadata": {},
   "outputs": [
    {
     "name": "stdout",
     "output_type": "stream",
     "text": [
      "[1, 3, 5, 7, 9, 11, 13, 15, 17, 19]\n"
     ]
    }
   ],
   "source": [
    "'''14. Create a list of odd numbers from 1 to 20.'''\n",
    "l=list(range(1,21,2))\n",
    "print(l)"
   ]
  },
  {
   "cell_type": "code",
   "execution_count": 25,
   "id": "6d1c95de-b9a3-4167-a83f-920da70f2656",
   "metadata": {},
   "outputs": [
    {
     "name": "stdin",
     "output_type": "stream",
     "text": [
      "Enter the elements using space:  1 2 3 4 5 6 7 8 9 10\n"
     ]
    },
    {
     "name": "stdout",
     "output_type": "stream",
     "text": [
      "55\n"
     ]
    }
   ],
   "source": [
    "'''15. Find the sum of all elements in a list.'''\n",
    "l=list(map(int,input(\"Enter the elements using space: \").split()))\n",
    "print(sum(l))"
   ]
  },
  {
   "cell_type": "code",
   "execution_count": 27,
   "id": "bd07b7a3-ce50-44ad-a810-cc490b3d3333",
   "metadata": {},
   "outputs": [
    {
     "name": "stdin",
     "output_type": "stream",
     "text": [
      "Enter the elements using space:  13 2 14 10 12\n"
     ]
    },
    {
     "name": "stdout",
     "output_type": "stream",
     "text": [
      "14\n"
     ]
    }
   ],
   "source": [
    "'''16. Find the maximum value in a list.'''\n",
    "l=list(map(int,input(\"Enter the elements using space: \").split()))\n",
    "print(max(l))"
   ]
  },
  {
   "cell_type": "code",
   "execution_count": 28,
   "id": "d742d9ca-6cfa-4842-aa53-242ba57b2f96",
   "metadata": {},
   "outputs": [
    {
     "name": "stdin",
     "output_type": "stream",
     "text": [
      "Enter the elements using space:  13 2 14 10 12\n"
     ]
    },
    {
     "name": "stdout",
     "output_type": "stream",
     "text": [
      "2\n"
     ]
    }
   ],
   "source": [
    "'''17. Find the minimum value in a list.'''\n",
    "l=list(map(int,input(\"Enter the elements using space: \").split()))\n",
    "print(min(l))"
   ]
  },
  {
   "cell_type": "code",
   "execution_count": 31,
   "id": "3603d425-ba27-4d1b-85dd-066f9ecf9986",
   "metadata": {},
   "outputs": [
    {
     "name": "stdout",
     "output_type": "stream",
     "text": [
      "[1, 4, 9, 16, 25, 36, 49, 64, 81, 100]\n"
     ]
    }
   ],
   "source": [
    "'''18. Create a list of squares of numbers from 1 to 10.'''\n",
    "l=[]\n",
    "for i in range(1,11):\n",
    "    l.append(i**2)\n",
    "print(l)"
   ]
  },
  {
   "cell_type": "code",
   "execution_count": 32,
   "id": "a5da8c89-519b-4aeb-b354-ebe47e11e761",
   "metadata": {},
   "outputs": [
    {
     "name": "stdin",
     "output_type": "stream",
     "text": [
      "Enter the number of random elements:  10\n",
      "Enter the lower bound of the random range:  1\n",
      "Enter the upper bound of the random range:  40\n"
     ]
    },
    {
     "name": "stdout",
     "output_type": "stream",
     "text": [
      "List of random numbers: [16, 29, 37, 22, 13, 35, 24, 2, 8, 38]\n"
     ]
    }
   ],
   "source": [
    "'''19. Create a list of random numbers.'''\n",
    "import random\n",
    "num_elements = int(input(\"Enter the number of random elements: \"))\n",
    "lower_bound = int(input(\"Enter the lower bound of the random range: \"))\n",
    "upper_bound = int(input(\"Enter the upper bound of the random range: \"))\n",
    "random_numbers = random.sample(range(lower_bound, upper_bound + 1), num_elements)\n",
    "print(\"List of random numbers:\", random_numbers)"
   ]
  },
  {
   "cell_type": "code",
   "execution_count": 35,
   "id": "c95fbed4-0fc9-4bb3-97f2-9cdd44e12c3a",
   "metadata": {},
   "outputs": [
    {
     "name": "stdin",
     "output_type": "stream",
     "text": [
      "Enter the elements using space:  Sandeep MOndal sandeep sANDEEP sandeep\n"
     ]
    },
    {
     "name": "stdout",
     "output_type": "stream",
     "text": [
      "['Sandeep', 'MOndal', 'sandeep', 'sANDEEP']\n"
     ]
    }
   ],
   "source": [
    "'''20. Remove duplicates from a list.'''\n",
    "l=input(\"Enter the elements using space: \").split()\n",
    "l1=set(l)\n",
    "l1=list(l1)\n",
    "print(l1)"
   ]
  },
  {
   "cell_type": "code",
   "execution_count": 37,
   "id": "28aee8bf-d91f-4447-9374-8173155b5187",
   "metadata": {},
   "outputs": [
    {
     "name": "stdin",
     "output_type": "stream",
     "text": [
      "Enter the elements of list 1 using space:  sandeep mondal 123 12 111\n",
      "Enter the elements of list 2 using space:  sandeep mond \n"
     ]
    },
    {
     "name": "stdout",
     "output_type": "stream",
     "text": [
      "['sandeep']\n"
     ]
    }
   ],
   "source": [
    "'''21. Find the common elements between two lists.'''\n",
    "l1=input(\"Enter the elements of list 1 using space: \").split()\n",
    "l2=input(\"Enter the elements of list 2 using space: \").split()\n",
    "s1=set(l1)\n",
    "s2=set(l2)\n",
    "print(list(s1.intersection(s2)))"
   ]
  },
  {
   "cell_type": "code",
   "execution_count": 38,
   "id": "29245976-a826-45ee-94d9-416d9dec5e8b",
   "metadata": {},
   "outputs": [
    {
     "name": "stdin",
     "output_type": "stream",
     "text": [
      "Enter the elements of list 1 using space:  sandeep mondal 123 12 111\n",
      "Enter the elements of list 2 using space:  sandeep mondal \n"
     ]
    },
    {
     "name": "stdout",
     "output_type": "stream",
     "text": [
      "['12', '123', '111']\n"
     ]
    }
   ],
   "source": [
    "'''22. Find the difference between two lists.'''\n",
    "l1=input(\"Enter the elements of list 1 using space: \").split()\n",
    "l2=input(\"Enter the elements of list 2 using space: \").split()\n",
    "s1=set(l1)\n",
    "s2=set(l2)\n",
    "print(list(s1.difference(s2)))"
   ]
  },
  {
   "cell_type": "code",
   "execution_count": 42,
   "id": "63213ef0-69da-4198-9839-becfa83ac595",
   "metadata": {},
   "outputs": [
    {
     "name": "stdin",
     "output_type": "stream",
     "text": [
      "Enter the elements of list 1 using space:  sandeep mondal 123 12 111\n",
      "Enter the elements of list 2 using space:  ABCD\n"
     ]
    },
    {
     "name": "stdout",
     "output_type": "stream",
     "text": [
      "['sandeep', 'mondal', '123', '12', '111', 'ABCD']\n"
     ]
    }
   ],
   "source": [
    "'''23. Merge two lists.'''\n",
    "l1=input(\"Enter the elements of list 1 using space: \").split()\n",
    "l2=input(\"Enter the elements of list 2 using space: \").split()\n",
    "ans=[]\n",
    "ans.extend(l1)\n",
    "ans.extend(l2)\n",
    "print(ans)"
   ]
  },
  {
   "cell_type": "code",
   "execution_count": 43,
   "id": "058082c9-f8d9-4fc6-bdcb-5b3351e4eef0",
   "metadata": {},
   "outputs": [
    {
     "name": "stdin",
     "output_type": "stream",
     "text": [
      "Enter the elements using space:  sandeep mondal 123 12 111\n"
     ]
    },
    {
     "name": "stdout",
     "output_type": "stream",
     "text": [
      "['sandeep', 'mondal', '123', '12', '111', 'sandeep', 'mondal', '123', '12', '111']\n"
     ]
    }
   ],
   "source": [
    "'''24. Multiply all elements in a list by 2.'''\n",
    "l1=input(\"Enter the elements using space: \").split()\n",
    "print(l1*2)"
   ]
  },
  {
   "cell_type": "code",
   "execution_count": 45,
   "id": "06bb9061-5e92-4009-b4b2-98409a97dc72",
   "metadata": {},
   "outputs": [
    {
     "name": "stdin",
     "output_type": "stream",
     "text": [
      "Enter numbers:  1 2 3 4 5 6 7 8 9 10\n"
     ]
    },
    {
     "name": "stdout",
     "output_type": "stream",
     "text": [
      "[2, 4, 6, 8, 10]\n"
     ]
    }
   ],
   "source": [
    "'''25. Filter out all even numbers from a list.'''\n",
    "l=list(map(int,input(\"Enter numbers: \").split()))\n",
    "ans=list(filter(lambda x:x%2==0,l))\n",
    "print(ans)"
   ]
  },
  {
   "cell_type": "code",
   "execution_count": null,
   "id": "60c6e0dd-58ea-4ad9-8810-e07bd5352ba0",
   "metadata": {},
   "outputs": [],
   "source": [
    "'''26. Convert a list of strings to a list of integers.'''\n",
    "l=list(map(int,input(\"Enter numbers: \").split()))\n",
    "print(l)"
   ]
  },
  {
   "cell_type": "code",
   "execution_count": null,
   "id": "02ca7517-f374-4c0d-883a-7060321c73fb",
   "metadata": {},
   "outputs": [],
   "source": [
    "'''27. Convert a list of integer to a list of string.'''\n",
    "l=input(\"Enter numbers: \").split()\n",
    "print(l)"
   ]
  },
  {
   "cell_type": "code",
   "execution_count": null,
   "id": "064a16cb-8658-446e-a39a-edb66a54bb07",
   "metadata": {},
   "outputs": [],
   "source": [
    "'''28. Flatten a nested list.'''\n",
    "def flatten(nested_list):\n",
    "    flat_list = []\n",
    "    for item in nested_list:\n",
    "        if isinstance(item, list):\n",
    "            flat_list.extend(flatten(item))  # Recursively flatten the sublist\n",
    "        else:\n",
    "            flat_list.append(item)  # Add non-list items directly to the flat list\n",
    "    return flat_list\n",
    "user_input = input(\"Enter a nested list (e.g., [1, [2, 3], [4, [5, 6], 7]]): \")\n",
    "try:\n",
    "    nested_list = eval(user_input)\n",
    "    if not isinstance(nested_list, list):\n",
    "        raise ValueError(\"Input is not a valid list.\")\n",
    "    flat_list = flatten(nested_list)\n",
    "    print(\"Flattened list:\", flat_list)\n",
    "except Exception as e:\n",
    "    print(f\"Invalid input: {e}\")"
   ]
  },
  {
   "cell_type": "code",
   "execution_count": 52,
   "id": "68d816a5-fa19-44be-9ad1-f04121bcc027",
   "metadata": {},
   "outputs": [
    {
     "name": "stdout",
     "output_type": "stream",
     "text": [
      "[0, 1, 1, 2, 3, 5, 8, 13, 21, 34]\n"
     ]
    }
   ],
   "source": [
    "'''29. Create a list of the first 10 Fibonacci numbers.'''\n",
    "l1,l2=0,1\n",
    "ans=[]\n",
    "for i in range(1,11):\n",
    "    ans.append(l1)\n",
    "    l1=l2+l1\n",
    "    l1,l2=l2,l1\n",
    "print(ans)"
   ]
  },
  {
   "cell_type": "code",
   "execution_count": 61,
   "id": "3b93695c-649f-4f45-ab7c-675f5c120569",
   "metadata": {},
   "outputs": [
    {
     "name": "stdin",
     "output_type": "stream",
     "text": [
      "Enter numbers:   11 22 11\n"
     ]
    },
    {
     "name": "stdout",
     "output_type": "stream",
     "text": [
      "Not sorted\n"
     ]
    }
   ],
   "source": [
    "'''30. Check if a list is sorted.'''\n",
    "l = list(map(int, input(\"Enter numbers: \").split()))\n",
    "c = 0\n",
    "for i in range(len(l) - 1): \n",
    "    if l[i] > l[i + 1]:  \n",
    "        c = 1\n",
    "        break  \n",
    "if c == 0:\n",
    "    print(\"Sorted\")\n",
    "else:\n",
    "    print(\"Not sorted\")\n"
   ]
  },
  {
   "cell_type": "code",
   "execution_count": 2,
   "id": "44e5f95c-d003-4d47-adcf-23166c0d4d15",
   "metadata": {},
   "outputs": [
    {
     "name": "stdin",
     "output_type": "stream",
     "text": [
      "Enter numbers:  1 2 3 4 5 6 7 8 9\n",
      "Enter the index:  5\n"
     ]
    },
    {
     "name": "stdout",
     "output_type": "stream",
     "text": [
      "[6, 7, 8, 9, 1, 2, 3, 4, 5]\n"
     ]
    }
   ],
   "source": [
    "'''31. Rotate a list to the left by `n` positions.'''\n",
    "l=list(map(int,input(\"Enter numbers: \").split()))\n",
    "n=int(input(\"Enter the index: \"))\n",
    "ans=[]\n",
    "for i in range(n,len(l)):\n",
    "    ans.append(l[i])\n",
    "for i in range(0,n):\n",
    "    ans.append(l[i])\n",
    "print(ans)"
   ]
  },
  {
   "cell_type": "code",
   "execution_count": 5,
   "id": "4746225f-6d14-4040-bc4c-e434e96b46f1",
   "metadata": {},
   "outputs": [
    {
     "name": "stdin",
     "output_type": "stream",
     "text": [
      "Enter numbers:  6 7 8 9 1 2 3 4 5\n",
      "Enter the index:  4\n"
     ]
    },
    {
     "name": "stdout",
     "output_type": "stream",
     "text": [
      "[6, 7, 8, 9, 1, 2, 3, 4, 5]\n"
     ]
    }
   ],
   "source": [
    "'''32. Rotate a list to the right by `n` positions.'''\n",
    "l=list(map(int,input(\"Enter numbers: \").split()))\n",
    "n=int(input(\"Enter the index: \"))\n",
    "ans=[]\n",
    "for i in range(n,len(l)):\n",
    "    ans.append(l[i])\n",
    "for i in range(0,n):\n",
    "    ans.append(l[i])\n",
    "print(ans)"
   ]
  },
  {
   "cell_type": "code",
   "execution_count": 7,
   "id": "0c87fae2-6d83-49c1-906b-6ae88779b257",
   "metadata": {},
   "outputs": [
    {
     "name": "stdout",
     "output_type": "stream",
     "text": [
      "[2, 3, 5, 7, 11, 13, 17, 19, 23, 29, 31, 37, 41, 43, 47]\n"
     ]
    }
   ],
   "source": [
    "'''33. Create a list of prime numbers up to 50.'''\n",
    "l = []\n",
    "from math import sqrt as sq\n",
    "for i in range(2, 51):\n",
    "    is_prime = True\n",
    "    for j in range(2, int(sq(i)) + 1):\n",
    "        if i % j == 0:\n",
    "            is_prime = False\n",
    "            break\n",
    "    if is_prime:\n",
    "        l.append(i)\n",
    "print(l)"
   ]
  },
  {
   "cell_type": "code",
   "execution_count": 11,
   "id": "017ebc79-2045-47e7-ac40-fdbf35f55222",
   "metadata": {},
   "outputs": [
    {
     "name": "stdin",
     "output_type": "stream",
     "text": [
      "Enter:  a b c d e f g h i j k l m n o\n",
      "Enter the size:  3\n"
     ]
    },
    {
     "name": "stdout",
     "output_type": "stream",
     "text": [
      "[['a', 'b', 'c'], ['d', 'e', 'f'], ['g', 'h', 'i'], ['j', 'k', 'l'], ['m', 'n', 'o']]\n"
     ]
    }
   ],
   "source": [
    "'''34. Split a list into chunks of size `n`.'''\n",
    "def split_list(lst, n):\n",
    "    return [lst[i:i + n] for i in range(0, len(lst), n)]\n",
    "my_list = input(\"Enter: \").split()\n",
    "n = int(input(\"Enter the size: \"))\n",
    "chunks = split_list(my_list, n)\n",
    "print(chunks)"
   ]
  },
  {
   "cell_type": "code",
   "execution_count": 14,
   "id": "b65f6ffe-3ece-4d6f-84e3-7df4ab6e6372",
   "metadata": {},
   "outputs": [
    {
     "name": "stdin",
     "output_type": "stream",
     "text": [
      "Enter numbers:  5 4 1 2 3\n"
     ]
    },
    {
     "name": "stdout",
     "output_type": "stream",
     "text": [
      "2\n"
     ]
    }
   ],
   "source": [
    "'''35. Find the second largest number in a list.'''\n",
    "l=list(map(int,input(\"Enter numbers: \").split()))\n",
    "s_l=sorted(l)\n",
    "print(s_l[1])"
   ]
  },
  {
   "cell_type": "code",
   "execution_count": 16,
   "id": "1d7394ec-3654-4032-bbf3-7b984a6c0986",
   "metadata": {},
   "outputs": [
    {
     "name": "stdin",
     "output_type": "stream",
     "text": [
      "Enter numbers:  1 2 3 4 5\n"
     ]
    },
    {
     "name": "stdout",
     "output_type": "stream",
     "text": [
      "[1, 4, 9, 16, 25]\n"
     ]
    }
   ],
   "source": [
    "'''36. Replace every element in a list with its square.'''\n",
    "l=list(map(int,input(\"Enter numbers: \").split()))\n",
    "ans=lambda x:[x**2 for x in l]\n",
    "print(ans(l))"
   ]
  },
  {
   "cell_type": "code",
   "execution_count": 19,
   "id": "e65477f6-d81b-45d9-84e0-c491cad678f2",
   "metadata": {},
   "outputs": [
    {
     "name": "stdin",
     "output_type": "stream",
     "text": [
      "Enter numbers:  1 2 3 4 5 6 7 8 9\n"
     ]
    },
    {
     "name": "stdout",
     "output_type": "stream",
     "text": [
      "{1: 0, 2: 1, 3: 2, 4: 3, 5: 4, 6: 5, 7: 6, 8: 7, 9: 8}\n"
     ]
    }
   ],
   "source": [
    "'''37. Convert a list to a dictionary where list elements become keys and their\n",
    "indices become values.'''\n",
    "l=list(map(int,input(\"Enter numbers: \").split()))\n",
    "dic={}\n",
    "for i in range(0,len(l)):\n",
    "    dic[l[i]]=i\n",
    "print(dic)"
   ]
  },
  {
   "cell_type": "code",
   "execution_count": 23,
   "id": "e95c2ff8-71b3-40ad-91df-3efe279a898e",
   "metadata": {},
   "outputs": [
    {
     "name": "stdin",
     "output_type": "stream",
     "text": [
      "Enter:  1 2 3 4 5\n"
     ]
    },
    {
     "name": "stdout",
     "output_type": "stream",
     "text": [
      "['1', '3', '4', '2', '5']\n"
     ]
    }
   ],
   "source": [
    "'''38. Shuffle the elements of a list randomly.'''\n",
    "l=input(\"Enter: \").split()\n",
    "import random\n",
    "random.shuffle(l)\n",
    "print(l)\n"
   ]
  },
  {
   "cell_type": "code",
   "execution_count": 25,
   "id": "07866cb0-3212-4266-bcf4-09e5f5eccd42",
   "metadata": {},
   "outputs": [
    {
     "name": "stdout",
     "output_type": "stream",
     "text": [
      "[1, 1, 2, 6, 24, 120, 720, 5040, 40320, 362880, 3628800]\n"
     ]
    }
   ],
   "source": [
    "'''39. Create a list of the first 10 factorial numbers.'''\n",
    "import math as m\n",
    "l=[]\n",
    "for i in range(0,11):\n",
    "    l.append(m.factorial(i))\n",
    "print(l)"
   ]
  },
  {
   "cell_type": "code",
   "execution_count": 27,
   "id": "64aff24e-89f4-4553-aa61-1e90b113e5d1",
   "metadata": {},
   "outputs": [
    {
     "name": "stdin",
     "output_type": "stream",
     "text": [
      "Enter list 1:  Sandeep 1 2 3 4 5\n",
      "Enter list 2:  Sandeep 4 5 6 7 8\n"
     ]
    },
    {
     "name": "stdout",
     "output_type": "stream",
     "text": [
      "Common element exists,these are:  ['4', 'Sandeep', '5']\n"
     ]
    }
   ],
   "source": [
    "'''40. Check if two lists have at least one element in common.'''\n",
    "l=input(\"Enter list 1: \").split()\n",
    "l2=input(\"Enter list 2: \").split()\n",
    "L1,L2=set(l),set(l2)\n",
    "s=list(L1.intersection(L2))\n",
    "if (len(s)>0):\n",
    "    print(\"Common element exists,these are: \",s)\n",
    "else:\n",
    "    print(\"Common element does not exist\")"
   ]
  },
  {
   "cell_type": "code",
   "execution_count": 28,
   "id": "15b00da2-5049-477a-9860-443e4980fab7",
   "metadata": {},
   "outputs": [
    {
     "name": "stdin",
     "output_type": "stream",
     "text": [
      "Enter list :  1 2 3 4 5\n"
     ]
    },
    {
     "name": "stdout",
     "output_type": "stream",
     "text": [
      "[]\n"
     ]
    }
   ],
   "source": [
    "'''41. Remove all elements from a list.'''\n",
    "l=input(\"Enter list : \").split()\n",
    "l.clear()\n",
    "print(l)"
   ]
  },
  {
   "cell_type": "code",
   "execution_count": 30,
   "id": "418708e8-8ea0-4f85-9dd7-9003a6d5a159",
   "metadata": {},
   "outputs": [
    {
     "name": "stdin",
     "output_type": "stream",
     "text": [
      "Enter numbers:  1 2 3 4 -1 -2 -3 -4 5 6\n"
     ]
    },
    {
     "name": "stdout",
     "output_type": "stream",
     "text": [
      "[1, 2, 3, 4, 0, 0, 0, 0, 5, 6]\n"
     ]
    }
   ],
   "source": [
    "'''42. Replace negative numbers in a list with 0.'''\n",
    "l=list(map(int,input(\"Enter numbers: \").split()))\n",
    "for i in range(0,len(l)):\n",
    "    if l[i]<0:\n",
    "        l[i]=0\n",
    "print(l)"
   ]
  },
  {
   "cell_type": "code",
   "execution_count": 33,
   "id": "06bef52b-8d3d-4b8d-9fa6-d686faab7887",
   "metadata": {},
   "outputs": [
    {
     "name": "stdin",
     "output_type": "stream",
     "text": [
      "Enter:  Sandeep Mondal Ricky SUman\n"
     ]
    },
    {
     "name": "stdout",
     "output_type": "stream",
     "text": [
      "['Sandeep', 'Mondal', 'Ricky', 'SUman']\n"
     ]
    }
   ],
   "source": [
    "'''43. Convert a string into a list of words.'''\n",
    "my_string = input(\"Enter: \")\n",
    "words_list = my_string.split()\n",
    "print(words_list)\n"
   ]
  },
  {
   "cell_type": "code",
   "execution_count": 36,
   "id": "ba64c5e8-c280-4bdb-be35-f4bcab8eb8cb",
   "metadata": {},
   "outputs": [
    {
     "name": "stdin",
     "output_type": "stream",
     "text": [
      "Enter the list of word using space :  SAndeep,12,Ricky,India\n"
     ]
    },
    {
     "name": "stdout",
     "output_type": "stream",
     "text": [
      "SAndeep 12 Ricky India\n"
     ]
    }
   ],
   "source": [
    "'''44. Convert a list of words into a string.'''\n",
    "l = input(\"Enter the list of word using space : \").split(\",\")\n",
    "ans = \" \".join(l)\n",
    "print(ans)"
   ]
  },
  {
   "cell_type": "code",
   "execution_count": 41,
   "id": "ab10612f-b896-4cdf-be8b-1a2dd54ff60c",
   "metadata": {},
   "outputs": [
    {
     "name": "stdin",
     "output_type": "stream",
     "text": [
      "Enter the last element:  9\n"
     ]
    },
    {
     "name": "stdout",
     "output_type": "stream",
     "text": [
      "[0, 1, 4, 9, 16, 25, 36, 49, 64, 81]\n"
     ]
    }
   ],
   "source": [
    "'''45. Create a list of the first `n` powers of 2.'''\n",
    "n=int(input(\"Enter the last element: \"))\n",
    "ans=lambda x:[x**2 for x in range(0,n+1)]\n",
    "print(ans(n))"
   ]
  },
  {
   "cell_type": "code",
   "execution_count": 52,
   "id": "5ad49b2a-6e19-4ef2-96de-167013142bfe",
   "metadata": {},
   "outputs": [
    {
     "name": "stdin",
     "output_type": "stream",
     "text": [
      "Enter the list of word using space :  Sandeep mondal 1234 ricky \n"
     ]
    },
    {
     "name": "stdout",
     "output_type": "stream",
     "text": [
      "['Sandeep']\n"
     ]
    }
   ],
   "source": [
    "'''46. Find the longest string in a list of strings.'''\n",
    "l = input(\"Enter the list of word using space : \").split()\n",
    "size=len(max(l,key=len))\n",
    "l1=[]\n",
    "for i in range(0,len(l)):\n",
    "    if len(l[i])==size:\n",
    "        l1.append(l[i])\n",
    "print(l1)"
   ]
  },
  {
   "cell_type": "code",
   "execution_count": 53,
   "id": "7afcd52d-3327-440e-904c-1fcc47feb953",
   "metadata": {},
   "outputs": [
    {
     "name": "stdin",
     "output_type": "stream",
     "text": [
      "Enter the list of word using space :  Sandeep mondal 1234 ricky abc 123 abcd Ricky\n"
     ]
    },
    {
     "name": "stdout",
     "output_type": "stream",
     "text": [
      "['abc', '123']\n"
     ]
    }
   ],
   "source": [
    "'''47. Find the shortest string in a list of strings.'''\n",
    "l = input(\"Enter the list of word using space : \").split()\n",
    "size=len(min(l,key=len))\n",
    "l1=[]\n",
    "for i in range(0,len(l)):\n",
    "    if len(l[i])==size:\n",
    "        l1.append(l[i])\n",
    "print(l1)"
   ]
  },
  {
   "cell_type": "code",
   "execution_count": 55,
   "id": "4d3cc5fc-555a-47c2-96de-51024221482a",
   "metadata": {},
   "outputs": [
    {
     "name": "stdin",
     "output_type": "stream",
     "text": [
      "Enter the number of term:  6\n"
     ]
    },
    {
     "name": "stdout",
     "output_type": "stream",
     "text": [
      "[1, 3, 6, 10, 15, 21]\n"
     ]
    }
   ],
   "source": [
    "'''48. Create a list of the first `n` triangular numbers.'''\n",
    "n=int(input(\"Enter the number of term: \"))\n",
    "l=[]\n",
    "for i in range(1,n+1):\n",
    "    ans=i*(i+1)//2\n",
    "    l.append(ans)\n",
    "print(l)"
   ]
  },
  {
   "cell_type": "code",
   "execution_count": 56,
   "id": "f484191f-fe78-4235-988d-9bde3f6701bb",
   "metadata": {},
   "outputs": [
    {
     "name": "stdin",
     "output_type": "stream",
     "text": [
      "Enter list 1 using space:  1 2 3 4 5\n",
      "Enter list 2 using space:  2 3\n"
     ]
    },
    {
     "name": "stdout",
     "output_type": "stream",
     "text": [
      "The sub_list is a subsequence of the main_list.\n"
     ]
    }
   ],
   "source": [
    "'''49. Check if a list contains another list as a subsequence.'''\n",
    "def is_subsequence(lst, sub_lst):\n",
    "    it = iter(lst)\n",
    "    return all(elem in it for elem in sub_lst)\n",
    "main_list = list(map(int,input(\"Enter list 1 using space: \").split()))\n",
    "sub_list = list(map(int,input(\"Enter list 2 using space: \").split()))\n",
    "result = is_subsequence(main_list, sub_list)\n",
    "print(\"The sub_list is a subsequence of the main_list.\" if result else \"The sub_list is not a subsequence of the main_list.\")"
   ]
  },
  {
   "cell_type": "code",
   "execution_count": 57,
   "id": "a1b21e6d-a3af-45e3-82b7-4016c545ddf3",
   "metadata": {},
   "outputs": [
    {
     "name": "stdin",
     "output_type": "stream",
     "text": [
      "Enter list using space:  1 2 3 4 5 7 6 8 9\n",
      "Enter the indices of the elements to be swapped:  5 6\n"
     ]
    },
    {
     "name": "stdout",
     "output_type": "stream",
     "text": [
      "Before swapping:  [1, 2, 3, 4, 5, 7, 6, 8, 9]\n",
      "After swapping:  [1, 2, 3, 4, 5, 6, 7, 8, 9]\n"
     ]
    }
   ],
   "source": [
    "'''50. Swap two elements in a list by their indices.'''\n",
    "l = list(map(int,input(\"Enter list using space: \").split()))\n",
    "n1,n2 = list(map(int,input(\"Enter the indices of the elements to be swapped: \").split()))\n",
    "print(\"Before swapping: \",l)\n",
    "l[n1],l[n2]=l[n2],l[n1]\n",
    "print(\"After swapping: \",l)"
   ]
  },
  {
   "cell_type": "code",
   "execution_count": null,
   "id": "a4371f67-ab21-4703-a6d8-ed0d169d855a",
   "metadata": {},
   "outputs": [],
   "source": [
    "#Tuple Based Practice Problem :"
   ]
  },
  {
   "cell_type": "code",
   "execution_count": 58,
   "id": "0480beb8-99e4-4682-912f-5e7e15b77f36",
   "metadata": {},
   "outputs": [
    {
     "name": "stdout",
     "output_type": "stream",
     "text": [
      "(1, 2, 3, 4, 5)\n"
     ]
    }
   ],
   "source": [
    "'''1. Create a tuple with integers from 1 to 5.'''\n",
    "my_tuple = (1, 2, 3, 4, 5)\n",
    "print(my_tuple)"
   ]
  },
  {
   "cell_type": "code",
   "execution_count": 59,
   "id": "ef683cd2-3a94-4f0c-bfe0-dbeb56676305",
   "metadata": {},
   "outputs": [
    {
     "name": "stdout",
     "output_type": "stream",
     "text": [
      "4\n"
     ]
    }
   ],
   "source": [
    "'''2. Access the third element of a tuple.'''\n",
    "my_tuple = (1, 2, 3, 4, 5)\n",
    "print(my_tuple[3])"
   ]
  },
  {
   "cell_type": "code",
   "execution_count": 60,
   "id": "9b2b4023-f19b-4f41-88f0-c6d5d4cf85db",
   "metadata": {},
   "outputs": [
    {
     "name": "stdout",
     "output_type": "stream",
     "text": [
      "Length:  5\n"
     ]
    }
   ],
   "source": [
    "'''3. Find the length of a tuple without using the `len()` function.'''\n",
    "my_tuple = (1, 2, 3, 4, 5)\n",
    "count=0\n",
    "for i in my_tuple:\n",
    "    count+=1\n",
    "print(\"Length: \",count)"
   ]
  },
  {
   "cell_type": "code",
   "execution_count": 78,
   "id": "ae5f1d0e-bad9-4127-8dc1-d208b01d00d3",
   "metadata": {},
   "outputs": [
    {
     "name": "stdin",
     "output_type": "stream",
     "text": [
      "Enter the elemnet:  2\n"
     ]
    },
    {
     "name": "stdout",
     "output_type": "stream",
     "text": [
      "Occurance of 2:1\n"
     ]
    }
   ],
   "source": [
    "'''4. Count the occurrences of an element in a tuple.'''\n",
    "my_tuple = (1, 2, 3, 4, 5)\n",
    "c = int(input(\"Enter the elemnet: \"))\n",
    "print(f\"Occurance of {c}:{my_tuple.count(c)}\")"
   ]
  },
  {
   "cell_type": "code",
   "execution_count": 73,
   "id": "5b23e6e9-b9b1-48c4-b6f1-5116435c5cde",
   "metadata": {},
   "outputs": [
    {
     "name": "stdin",
     "output_type": "stream",
     "text": [
      "Enter the element:  4\n"
     ]
    },
    {
     "name": "stdout",
     "output_type": "stream",
     "text": [
      "First occurrence of 4: 3\n"
     ]
    }
   ],
   "source": [
    "'''5. Find the index of the first occurrence of an element in a tuple.'''\n",
    "t = (1, 2, 3, 4, 5)\n",
    "try:\n",
    "    c = int(input(\"Enter the element: \"))\n",
    "    index = t.index(c)\n",
    "    print(f\"First occurrence of {c}: {index}\")\n",
    "except ValueError:\n",
    "    print(\"Element not found in the tuple.\")"
   ]
  },
  {
   "cell_type": "code",
   "execution_count": 80,
   "id": "c2ab1d87-9bd0-45c6-966d-1bb34479a247",
   "metadata": {},
   "outputs": [
    {
     "name": "stdin",
     "output_type": "stream",
     "text": [
      "Enter the elemnet:  2\n"
     ]
    },
    {
     "name": "stdout",
     "output_type": "stream",
     "text": [
      "Present\n"
     ]
    }
   ],
   "source": [
    "'''6. Check if an element exists in a tuple.'''\n",
    "my_tuple = (1, 2, 3, 4, 5)\n",
    "c = int(input(\"Enter the elemnet: \"))\n",
    "cc = my_tuple.count(c)\n",
    "if cc == 0:\n",
    "    print(\"Not present\")\n",
    "else:\n",
    "    print(\"Present\")"
   ]
  },
  {
   "cell_type": "code",
   "execution_count": 81,
   "id": "c1b701f4-5c12-448f-9f3b-ad5e5f4ba022",
   "metadata": {},
   "outputs": [
    {
     "name": "stdout",
     "output_type": "stream",
     "text": [
      "[1, 2, 3, 4, 5]\n"
     ]
    }
   ],
   "source": [
    "'''7. Convert a tuple to a list.'''\n",
    "t = (1, 2, 3, 4, 5)\n",
    "l = list(t)\n",
    "print(l)"
   ]
  },
  {
   "cell_type": "code",
   "execution_count": 82,
   "id": "8c9414e6-ccef-482d-9667-75094152305a",
   "metadata": {},
   "outputs": [
    {
     "name": "stdout",
     "output_type": "stream",
     "text": [
      "(1, 2, 3, 4, 5)\n"
     ]
    }
   ],
   "source": [
    "'''8. Convert a list to a tuple.'''\n",
    "t = [1, 2, 3, 4, 5]\n",
    "l = tuple(t)\n",
    "print(l)"
   ]
  },
  {
   "cell_type": "code",
   "execution_count": 83,
   "id": "3ca297b0-5d0a-40b4-89f5-1e214843719d",
   "metadata": {},
   "outputs": [
    {
     "name": "stdout",
     "output_type": "stream",
     "text": [
      "1 2 3 4 5\n"
     ]
    }
   ],
   "source": [
    "'''9. Unpack the elements of a tuple into variables.'''\n",
    "t=(1,2,3,4,5)\n",
    "a,b,c,d,e = t\n",
    "print(a,b,c,d,e)"
   ]
  },
  {
   "cell_type": "code",
   "execution_count": 90,
   "id": "1db88f42-d8c0-4857-86b2-1c951ce63046",
   "metadata": {},
   "outputs": [
    {
     "name": "stdout",
     "output_type": "stream",
     "text": [
      "(2, 4, 6, 8, 10)\n"
     ]
    }
   ],
   "source": [
    "'''10. Create a tuple of even numbers from 1 to 10.'''\n",
    "l=[]\n",
    "for i in range(2,11,2):\n",
    "    l.append(i)\n",
    "t=tuple(l)\n",
    "print(t)"
   ]
  },
  {
   "cell_type": "code",
   "execution_count": 91,
   "id": "6b421ac2-0620-4936-a92c-b3dd2d849c85",
   "metadata": {},
   "outputs": [
    {
     "name": "stdout",
     "output_type": "stream",
     "text": [
      "(1, 3, 5, 7, 9)\n"
     ]
    }
   ],
   "source": [
    "'''11. Create a tuple of odd numbers from 1 to 10.'''\n",
    "l=[]\n",
    "for i in range(1,11,2):\n",
    "    l.append(i)\n",
    "t=tuple(l)\n",
    "print(t)"
   ]
  },
  {
   "cell_type": "code",
   "execution_count": 92,
   "id": "dc57d8ee-d226-4ee1-8a69-578948ebc532",
   "metadata": {},
   "outputs": [
    {
     "name": "stdout",
     "output_type": "stream",
     "text": [
      "(1, 2, 3, 4, 5, 6)\n"
     ]
    }
   ],
   "source": [
    "'''12. Concatenate two tuples.'''\n",
    "tuple1 = (1, 2, 3)\n",
    "tuple2 = (4, 5, 6)\n",
    "concatenated_tuple = tuple1 + tuple2\n",
    "print(concatenated_tuple)"
   ]
  },
  {
   "cell_type": "code",
   "execution_count": 93,
   "id": "ce5db0ca-e05e-4f17-9ef5-5132cc144161",
   "metadata": {},
   "outputs": [
    {
     "name": "stdout",
     "output_type": "stream",
     "text": [
      "(1, 2, 3, 4, 5, 1, 2, 3, 4, 5, 1, 2, 3, 4, 5)\n"
     ]
    }
   ],
   "source": [
    "'''13. Repeat a tuple three times.'''\n",
    "t = (1,2,3,4,5)\n",
    "print(t*3)"
   ]
  },
  {
   "cell_type": "code",
   "execution_count": 94,
   "id": "b24644b6-89d9-4557-88a9-57cef10ebdfa",
   "metadata": {},
   "outputs": [
    {
     "name": "stdout",
     "output_type": "stream",
     "text": [
      "Not empty\n"
     ]
    }
   ],
   "source": [
    "'''14. Check if a tuple is empty.'''\n",
    "t = (1,2,3,4,5)\n",
    "if len(t)>0:\n",
    "    print(\"Not empty\")\n",
    "else:\n",
    "    print(\"Empty\")"
   ]
  },
  {
   "cell_type": "code",
   "execution_count": 95,
   "id": "c9bc6aab-b1c9-460f-b9e5-3b73587ba521",
   "metadata": {},
   "outputs": [
    {
     "name": "stdout",
     "output_type": "stream",
     "text": [
      "(1, 2, (3, 4), (5, 6, (7, 8)))\n"
     ]
    }
   ],
   "source": [
    "'''15. Create a nested tuple.'''\n",
    "nested_tuple = (1, 2, (3, 4), (5, 6, (7, 8)))\n",
    "print(nested_tuple)"
   ]
  },
  {
   "cell_type": "code",
   "execution_count": 96,
   "id": "3d0487cb-3544-43fe-bd0a-e9c7ab860b01",
   "metadata": {},
   "outputs": [
    {
     "name": "stdout",
     "output_type": "stream",
     "text": [
      "1\n"
     ]
    }
   ],
   "source": [
    "'''16. Access the first element of a nested tuple.'''\n",
    "nested_tuple = (1, 2, (3, 4), (5, 6, (7, 8)))\n",
    "print(nested_tuple[0])"
   ]
  },
  {
   "cell_type": "code",
   "execution_count": 97,
   "id": "d1bdee7a-982e-48b5-a624-03c491ad7324",
   "metadata": {},
   "outputs": [
    {
     "name": "stdout",
     "output_type": "stream",
     "text": [
      "5\n"
     ]
    }
   ],
   "source": [
    "'''17. Create a tuple with a single element.'''\n",
    "t = (5)\n",
    "print(t)"
   ]
  },
  {
   "cell_type": "code",
   "execution_count": 98,
   "id": "d1f64cdf-7f1b-4559-8c60-61ad002f207f",
   "metadata": {},
   "outputs": [
    {
     "name": "stdout",
     "output_type": "stream",
     "text": [
      "False\n"
     ]
    }
   ],
   "source": [
    "'''18. Compare two tuples.'''\n",
    "tuple1 = (1, 2, 3)\n",
    "tuple2 = (1, 2, 4)\n",
    "result = tuple1 == tuple2\n",
    "print(result)  "
   ]
  },
  {
   "cell_type": "code",
   "execution_count": 101,
   "id": "45522122-5bbc-4f74-a5a7-36b7531a6641",
   "metadata": {},
   "outputs": [
    {
     "name": "stdout",
     "output_type": "stream",
     "text": [
      "(1, 2, 3, 4, 5)\n"
     ]
    }
   ],
   "source": [
    "'''19. Delete a tuple.'''\n",
    "t = (1, 2, 3, 4, 5)\n",
    "del t"
   ]
  },
  {
   "cell_type": "code",
   "execution_count": 103,
   "id": "4877b1cf-8357-4f95-b560-8bf5f1efc825",
   "metadata": {},
   "outputs": [
    {
     "name": "stdin",
     "output_type": "stream",
     "text": [
      "Enter slice lower and upper limit using space:  1 4\n"
     ]
    },
    {
     "name": "stdout",
     "output_type": "stream",
     "text": [
      "(2, 3, 4)\n"
     ]
    }
   ],
   "source": [
    "'''20. Slice a tuple.'''\n",
    "t = (1, 2, 3, 4, 5)\n",
    "l,u = list(map(int,input(\"Enter slice lower and upper limit using space: \").split()))\n",
    "slc = t[l:u]\n",
    "print(slc)"
   ]
  },
  {
   "cell_type": "code",
   "execution_count": 104,
   "id": "df8bb84e-4c98-4a52-964c-1a2284721f20",
   "metadata": {},
   "outputs": [
    {
     "name": "stdout",
     "output_type": "stream",
     "text": [
      "10\n"
     ]
    }
   ],
   "source": [
    "'''21. Find the maximum value in a tuple.'''\n",
    "t=(1,2,3,4,5,6,7,8,9,10)\n",
    "print(max(t))"
   ]
  },
  {
   "cell_type": "code",
   "execution_count": 105,
   "id": "b50b5be3-ec17-4d62-b018-4d78883150ad",
   "metadata": {},
   "outputs": [
    {
     "name": "stdout",
     "output_type": "stream",
     "text": [
      "1\n"
     ]
    }
   ],
   "source": [
    "'''21. Find the minimum value in a tuple.'''\n",
    "t=(1,2,3,4,5,6,7,8,9,10)\n",
    "print(min(t))"
   ]
  },
  {
   "cell_type": "code",
   "execution_count": 106,
   "id": "2dbf21fa-a191-44ba-bd0b-b9c8428259ac",
   "metadata": {},
   "outputs": [
    {
     "name": "stdin",
     "output_type": "stream",
     "text": [
      "Enter the string:  Sandeep\n"
     ]
    },
    {
     "name": "stdout",
     "output_type": "stream",
     "text": [
      "('S', 'a', 'n', 'd', 'e', 'e', 'p')\n"
     ]
    }
   ],
   "source": [
    "'''23. Convert a string to a tuple of characters.'''\n",
    "st = input(\"Enter the string: \")\n",
    "l = []\n",
    "for i in st:\n",
    "    l.append(i)\n",
    "t=tuple(l)\n",
    "print(t)"
   ]
  },
  {
   "cell_type": "code",
   "execution_count": 110,
   "id": "dc259d3d-c1f0-4267-a8ea-9fdc3d9ee185",
   "metadata": {},
   "outputs": [
    {
     "name": "stdin",
     "output_type": "stream",
     "text": [
      "Enter the characters using comma(,):  qwer,noitc\n"
     ]
    },
    {
     "name": "stdout",
     "output_type": "stream",
     "text": [
      "qwernoitc\n"
     ]
    }
   ],
   "source": [
    "'''24. Convert a tuple of characters to a string.'''\n",
    "ch = input(\"Enter the characters using comma(,): \").split(\",\")\n",
    "t=tuple(ch)\n",
    "st = str(\"\".join(ch))\n",
    "print(st)"
   ]
  },
  {
   "cell_type": "code",
   "execution_count": 111,
   "id": "ce0c9c84-1d76-4331-b60f-4486a63fcdff",
   "metadata": {},
   "outputs": [
    {
     "name": "stdout",
     "output_type": "stream",
     "text": [
      "('Hello', 123, 3.14, True, ['apple', 'banana', 'orange'])\n"
     ]
    }
   ],
   "source": [
    "'''25. Create a tuple from multiple data types.'''\n",
    "my_tuple = (\"Hello\", 123, 3.14, True, [\"apple\", \"banana\", \"orange\"])\n",
    "print(my_tuple)"
   ]
  },
  {
   "cell_type": "code",
   "execution_count": null,
   "id": "662c17c2-446f-4943-9b94-c4c1af0d730e",
   "metadata": {},
   "outputs": [],
   "source": [
    "'''\n",
    "26. Check if two tuples are identical.\n",
    "'''\n",
    "tuple1 = tuple(input(\"Enter the first tuple elements separated by commas: \").split(','))\n",
    "tuple2 = tuple(input(\"Enter the second tuple elements separated by commas: \").split(','))\n",
    "are_identical = tuple1 == tuple2\n",
    "print(\"Are tuples identical:\", are_identical)\n"
   ]
  },
  {
   "cell_type": "code",
   "execution_count": null,
   "id": "b9b3df69-485e-4969-9218-31293dab5bb7",
   "metadata": {},
   "outputs": [],
   "source": [
    "'''\n",
    "27. Sort the elements of a tuple.\n",
    "'''\n",
    "tuple1 = tuple(input(\"Enter the tuple elements separated by commas: \").split(','))\n",
    "sorted_tuple = tuple(sorted(tuple1))\n",
    "print(\"Sorted Tuple:\", sorted_tuple)\n"
   ]
  },
  {
   "cell_type": "code",
   "execution_count": null,
   "id": "963aae89-61f8-4b7c-a8a0-3e36140ede2c",
   "metadata": {},
   "outputs": [],
   "source": [
    "'''\n",
    "28. Convert a tuple of integers to a tuple of strings.\n",
    "'''\n",
    "tuple1 = tuple(map(int, input(\"Enter the tuple of integers separated by commas: \").split(',')))\n",
    "string_tuple = tuple(map(str, tuple1))\n",
    "print(\"Tuple of Strings:\", string_tuple)\n"
   ]
  },
  {
   "cell_type": "code",
   "execution_count": null,
   "id": "a46f95d5-11c2-472b-90b2-d8ad9bd6bea2",
   "metadata": {},
   "outputs": [],
   "source": [
    "'''\n",
    "29. Convert a tuple of strings to a tuple of integers.\n",
    "'''\n",
    "tuple1 = tuple(input(\"Enter the tuple of strings separated by commas: \").split(','))\n",
    "integer_tuple = tuple(map(int, tuple1))\n",
    "print(\"Tuple of Integers:\", integer_tuple)\n"
   ]
  },
  {
   "cell_type": "code",
   "execution_count": null,
   "id": "1174aafe-f918-48cb-9367-df3167255afd",
   "metadata": {},
   "outputs": [],
   "source": [
    "'''\n",
    "30. Merge two tuples.\n",
    "'''\n",
    "tuple1 = tuple(input(\"Enter the first tuple elements separated by commas: \").split(','))\n",
    "tuple2 = tuple(input(\"Enter the second tuple elements separated by commas: \").split(','))\n",
    "merged_tuple = tuple1 + tuple2\n",
    "print(\"Merged Tuple:\", merged_tuple)\n"
   ]
  },
  {
   "cell_type": "code",
   "execution_count": 2,
   "id": "ba46a7bc-110e-4943-b20e-4b3c468fb187",
   "metadata": {},
   "outputs": [
    {
     "name": "stdin",
     "output_type": "stream",
     "text": [
      "Enter a nested tuple (e.g., ((1, 2), (3, 4)):  ((1,2,3),(4,5,6))\n"
     ]
    },
    {
     "name": "stdout",
     "output_type": "stream",
     "text": [
      "Flattened Tuple: (1, 2, 3, 4, 5, 6)\n"
     ]
    }
   ],
   "source": [
    "'''\n",
    "31. Flatten a nested tuple.\n",
    "'''\n",
    "nested_tuple = eval(input(\"Enter a nested tuple (e.g., ((1, 2), (3, 4)): \"))\n",
    "flattened_tuple = tuple(item for sublist in nested_tuple for item in sublist)\n",
    "print(\"Flattened Tuple:\", flattened_tuple)\n"
   ]
  },
  {
   "cell_type": "code",
   "execution_count": null,
   "id": "99d4a334-b22c-40b0-9ba1-bb6eaa2832a9",
   "metadata": {},
   "outputs": [],
   "source": [
    "'''\n",
    "32. Create a tuple of the first 5 prime numbers.\n",
    "'''\n",
    "prime_tuple = (2, 3, 5, 7, 11)\n",
    "print(\"Tuple of First 5 Primes:\", prime_tuple)\n"
   ]
  },
  {
   "cell_type": "code",
   "execution_count": null,
   "id": "e8fd2d1a-3452-4591-aff1-7525597f9877",
   "metadata": {},
   "outputs": [],
   "source": [
    "'''\n",
    "33. Check if a tuple is a palindrome.\n",
    "'''\n",
    "tuple1 = tuple(input(\"Enter the tuple elements separated by commas: \").split(','))\n",
    "is_palindrome = tuple1 == tuple1[::-1]\n",
    "print(\"Is Palindrome:\", is_palindrome)\n"
   ]
  },
  {
   "cell_type": "code",
   "execution_count": 3,
   "id": "18dc0143-07a4-43a6-9f20-6c62f94b7a01",
   "metadata": {},
   "outputs": [
    {
     "name": "stdout",
     "output_type": "stream",
     "text": [
      "Tuple of Squares from 1 to 5: (1, 4, 9, 16, 25)\n"
     ]
    }
   ],
   "source": [
    "'''\n",
    "34. Create a tuple of squares of numbers from 1 to 5.\n",
    "'''\n",
    "square_tuple = tuple(x**2 for x in range(1, 6))\n",
    "print(\"Tuple of Squares from 1 to 5:\", square_tuple)\n"
   ]
  },
  {
   "cell_type": "code",
   "execution_count": 4,
   "id": "fcc46ff0-de7f-433b-abec-766ba1efc5e4",
   "metadata": {},
   "outputs": [
    {
     "name": "stdin",
     "output_type": "stream",
     "text": [
      "Enter the tuple elements separated by commas:  1,2,3\n"
     ]
    },
    {
     "name": "stdout",
     "output_type": "stream",
     "text": [
      "Filtered Tuple (No Evens): (1, 3)\n"
     ]
    }
   ],
   "source": [
    "'''\n",
    "35. Filter out all even numbers from a tuple.\n",
    "'''\n",
    "tuple1 = tuple(map(int, input(\"Enter the tuple elements separated by commas: \").split(',')))\n",
    "filtered_tuple = tuple(x for x in tuple1 if x % 2 != 0)\n",
    "print(\"Filtered Tuple (No Evens):\", filtered_tuple)\n"
   ]
  },
  {
   "cell_type": "code",
   "execution_count": null,
   "id": "5d8da915-f9bb-4f58-8e3a-9886bf977081",
   "metadata": {},
   "outputs": [],
   "source": [
    "'''\n",
    "36. Multiply all elements in a tuple by 2.\n",
    "'''\n",
    "tuple1 = tuple(map(int, input(\"Enter the tuple elements separated by commas: \").split(',')))\n",
    "multiplied_tuple = tuple(x * 2 for x in tuple1)\n",
    "print(\"Multiplied Tuple:\", multiplied_tuple)\n"
   ]
  },
  {
   "cell_type": "code",
   "execution_count": null,
   "id": "0d9ec0f8-0fd0-4f9a-972d-10343cceb036",
   "metadata": {},
   "outputs": [],
   "source": [
    "'''\n",
    "37. Create a tuple of random numbers.\n",
    "'''\n",
    "import random\n",
    "n = int(input(\"Enter the number of random elements: \"))\n",
    "random_tuple = tuple(random.randint(1, 100) for _ in range(n))\n",
    "print(\"Tuple of Random Numbers:\", random_tuple)\n"
   ]
  },
  {
   "cell_type": "code",
   "execution_count": null,
   "id": "34335da9-3efa-40e8-8751-ceb4a288ba31",
   "metadata": {},
   "outputs": [],
   "source": [
    "'''\n",
    "38. Check if a tuple is sorted.\n",
    "'''\n",
    "tuple1 = tuple(map(int, input(\"Enter the tuple elements separated by commas: \").split(',')))\n",
    "is_sorted = tuple1 == tuple(sorted(tuple1))\n",
    "print(\"Is Tuple Sorted:\", is_sorted)\n"
   ]
  },
  {
   "cell_type": "code",
   "execution_count": null,
   "id": "613a384a-54f8-4f5f-91c5-d1088084bbc8",
   "metadata": {},
   "outputs": [],
   "source": [
    "'''\n",
    "39. Rotate a tuple to the left by `n` positions.\n",
    "'''\n",
    "tuple1 = tuple(input(\"Enter the tuple elements separated by commas: \").split(','))\n",
    "n = int(input(\"Enter the number of positions to rotate left: \"))\n",
    "rotated_tuple = tuple1[n:] + tuple1[:n]\n",
    "print(\"Rotated Tuple (Left):\", rotated_tuple)\n"
   ]
  },
  {
   "cell_type": "code",
   "execution_count": null,
   "id": "5aaed350-7c5c-49cb-b988-66ea585ff72a",
   "metadata": {},
   "outputs": [],
   "source": [
    "'''\n",
    "40. Rotate a tuple to the right by `n` positions.\n",
    "'''\n",
    "tuple1 = tuple(input(\"Enter the tuple elements separated by commas: \").split(','))\n",
    "n = int(input(\"Enter the number of positions to rotate right: \"))\n",
    "rotated_tuple = tuple1[-n:] + tuple1[:-n]\n",
    "print(\"Rotated Tuple (Right):\", rotated_tuple)\n"
   ]
  },
  {
   "cell_type": "code",
   "execution_count": null,
   "id": "4210eada-32c1-4adc-8383-641b3f1c3c85",
   "metadata": {},
   "outputs": [],
   "source": [
    "'''\n",
    "41. Create a tuple of the first 5 Fibonacci numbers.\n",
    "'''\n",
    "fibonacci_tuple = (0, 1, 1, 2, 3)\n",
    "print(\"Tuple of First 5 Fibonacci Numbers:\", fibonacci_tuple)\n"
   ]
  },
  {
   "cell_type": "code",
   "execution_count": null,
   "id": "6c1e1ee2-37b6-4645-827f-322eaaa93807",
   "metadata": {},
   "outputs": [],
   "source": [
    "'''\n",
    "42. Create a tuple from user input.\n",
    "'''\n",
    "user_tuple = tuple(input(\"Enter the tuple elements separated by commas: \").split(','))\n",
    "print(\"User-Input Tuple:\", user_tuple)\n"
   ]
  },
  {
   "cell_type": "code",
   "execution_count": null,
   "id": "47c33f79-b1d1-4eb9-8705-aa01a82f7523",
   "metadata": {},
   "outputs": [],
   "source": [
    "'''\n",
    "43. Swap two elements in a tuple.\n",
    "'''\n",
    "tuple1 = tuple(input(\"Enter the tuple elements separated by commas: \").split(','))\n",
    "i, j = map(int, input(\"Enter two indices to swap (comma-separated): \").split(','))\n",
    "tuple_list = list(tuple1)\n",
    "tuple_list[i], tuple_list[j] = tuple_list[j], tuple_list[i]\n",
    "swapped_tuple = tuple(tuple_list)\n",
    "print(\"Swapped Tuple:\", swapped_tuple)\n"
   ]
  },
  {
   "cell_type": "code",
   "execution_count": null,
   "id": "9998b931-6886-4725-be0b-ace71ccdc020",
   "metadata": {},
   "outputs": [],
   "source": [
    "'''\n",
    "44. Reverse the elements of a tuple.\n",
    "'''\n",
    "tuple1 = tuple(input(\"Enter the tuple elements separated by commas: \").split(','))\n",
    "reversed_tuple = tuple1[::-1]\n",
    "print(\"Reversed Tuple:\", reversed_tuple)\n"
   ]
  },
  {
   "cell_type": "code",
   "execution_count": null,
   "id": "946f2a3e-9f2c-427a-9a77-3a6cdf58336f",
   "metadata": {},
   "outputs": [],
   "source": [
    "'''\n",
    "45. Create a tuple of the first `n` powers of 2.\n",
    "'''\n",
    "n = int(input(\"Enter the number of powers of 2: \"))\n",
    "powers_of_2_tuple = tuple(2**x for x in range(n))\n",
    "print(\"Tuple of First\", n, \"Powers of 2:\", powers_of_2_tuple)\n"
   ]
  },
  {
   "cell_type": "code",
   "execution_count": null,
   "id": "97c57820-557b-4c37-9544-75cc3ef88c00",
   "metadata": {},
   "outputs": [],
   "source": [
    "'''\n",
    "46. Find the longest string in a tuple of strings.\n",
    "'''\n",
    "tuple1 = tuple(input(\"Enter the tuple of strings separated by commas: \").split(','))\n",
    "longest_string = max(tuple1, key=len)\n",
    "print(\"Longest String:\", longest_string)\n"
   ]
  },
  {
   "cell_type": "code",
   "execution_count": null,
   "id": "0a1111b4-3fe3-4779-a528-a24c7cbbf789",
   "metadata": {},
   "outputs": [],
   "source": [
    "'''\n",
    "47. Find the shortest string in a tuple of strings.\n",
    "'''\n",
    "tuple1 = tuple(input(\"Enter the tuple of strings separated by commas: \").split(','))\n",
    "shortest_string = min(tuple1, key=len)\n",
    "print(\"Shortest String:\", shortest_string)\n"
   ]
  },
  {
   "cell_type": "code",
   "execution_count": null,
   "id": "f1c27b71-23f0-4424-8206-e29884a2fb09",
   "metadata": {},
   "outputs": [],
   "source": [
    "'''\n",
    "48. Create a tuple of the first `n` triangular numbers.\n",
    "'''\n",
    "n = int(input(\"Enter the number of triangular numbers: \"))\n",
    "triangular_tuple = tuple(int(x*(x+1)/2) for x in range(1, n+1))\n",
    "print(\"Tuple of First\", n, \"Triangular Numbers:\", triangular_tuple)\n"
   ]
  },
  {
   "cell_type": "code",
   "execution_count": null,
   "id": "4484c5b7-74d5-4d6f-ac5d-9fdd56ef7a8c",
   "metadata": {},
   "outputs": [],
   "source": [
    "'''\n",
    "49. Check if a tuple contains another tuple as a subsequence.\n",
    "'''\n",
    "tuple1 = tuple(input(\"Enter the main tuple elements separated by commas: \").split(','))\n",
    "sub_tuple = tuple(input(\"Enter the sub-tuple elements separated by commas: \").split(','))\n",
    "is_subsequence = any(tuple1[i:i+len(sub_tuple)] == sub_tuple for i in range(len(tuple1) - len(sub_tuple) + 1))\n",
    "print(\"Is Sub-tuple a Subsequence:\", is_subsequence)\n"
   ]
  },
  {
   "cell_type": "code",
   "execution_count": null,
   "id": "5c78d8ef-eeab-4323-b071-c615c13dd305",
   "metadata": {},
   "outputs": [],
   "source": [
    "'''\n",
    "50. Create a tuple of alternating 1s and 0s of length `n`.\n",
    "'''\n",
    "n = int(input(\"Enter the length of the tuple: \"))\n",
    "alternating_tuple = tuple(1 if i % 2 == 0 else 0 for i in range(n))\n",
    "print(\"Alternating Tuple:\", alternating_tuple)\n"
   ]
  },
  {
   "cell_type": "code",
   "execution_count": null,
   "id": "0c16d2fc-7467-4534-a015-a661c4bb7150",
   "metadata": {},
   "outputs": [],
   "source": [
    "#Set Based Practice Problem "
   ]
  },
  {
   "cell_type": "code",
   "execution_count": null,
   "id": "42133c73-d304-4599-b16b-be33dc034a9f",
   "metadata": {},
   "outputs": [],
   "source": [
    "'''\n",
    "1. Create a set with integers from 1 to 5.\n",
    "'''\n",
    "set1 = {1, 2, 3, 4, 5}\n",
    "print(\"Set:\", set1)\n"
   ]
  },
  {
   "cell_type": "code",
   "execution_count": null,
   "id": "03216f64-1f03-4d00-b80a-d2e2cb2b39f6",
   "metadata": {},
   "outputs": [],
   "source": [
    "'''\n",
    "2. Add an element to a set.\n",
    "'''\n",
    "set1 = set(map(int, input(\"Enter the set elements separated by commas: \").split(',')))\n",
    "element = int(input(\"Enter an element to add: \"))\n",
    "set1.add(element)\n",
    "print(\"Set after adding:\", set1)\n"
   ]
  },
  {
   "cell_type": "code",
   "execution_count": null,
   "id": "5be2d6b9-9c9e-4535-9f92-34bd7b3fa9db",
   "metadata": {},
   "outputs": [],
   "source": [
    "'''\n",
    "3. Remove an element from a set.\n",
    "'''\n",
    "set1 = set(map(int, input(\"Enter the set elements separated by commas: \").split(',')))\n",
    "element = int(input(\"Enter an element to remove: \"))\n",
    "set1.discard(element)\n",
    "print(\"Set after removing:\", set1)\n"
   ]
  },
  {
   "cell_type": "code",
   "execution_count": null,
   "id": "5590eb2b-79b8-4151-b19c-1b6517c5cc45",
   "metadata": {},
   "outputs": [],
   "source": [
    "'''\n",
    "4. Check if an element exists in a set.\n",
    "'''\n",
    "set1 = set(map(int, input(\"Enter the set elements separated by commas: \").split(',')))\n",
    "element = int(input(\"Enter an element to check: \"))\n",
    "exists = element in set1\n",
    "print(\"Element exists:\", exists)\n"
   ]
  },
  {
   "cell_type": "code",
   "execution_count": null,
   "id": "98b72b52-9506-45e4-9ab5-794842eef9da",
   "metadata": {},
   "outputs": [],
   "source": [
    "'''\n",
    "5. Find the length of a set without using the `len()` function.\n",
    "'''\n",
    "set1 = set(map(int, input(\"Enter the set elements separated by commas: \").split(',')))\n",
    "length = sum(1 for _ in set1)\n",
    "print(\"Length of the set:\", length)\n"
   ]
  },
  {
   "cell_type": "code",
   "execution_count": null,
   "id": "c3fc5c82-557c-42e8-bc56-482ba110555f",
   "metadata": {},
   "outputs": [],
   "source": [
    "'''\n",
    "6. Clear all elements from a set.\n",
    "'''\n",
    "set1 = set(map(int, input(\"Enter the set elements separated by commas: \").split(',')))\n",
    "set1.clear()\n",
    "print(\"Set after clearing:\", set1)\n"
   ]
  },
  {
   "cell_type": "code",
   "execution_count": null,
   "id": "563d3900-62d7-42aa-b237-abae088213d7",
   "metadata": {},
   "outputs": [],
   "source": [
    "'''\n",
    "7. Create a set of even numbers from 1 to 10.\n",
    "'''\n",
    "even_set = {x for x in range(1, 11) if x % 2 == 0}\n",
    "print(\"Set of even numbers:\", even_set)\n"
   ]
  },
  {
   "cell_type": "code",
   "execution_count": null,
   "id": "261d4831-b9bb-41da-878d-9a4a22e8fb1c",
   "metadata": {},
   "outputs": [],
   "source": [
    "'''\n",
    "8. Create a set of odd numbers from 1 to 10.\n",
    "'''\n",
    "odd_set = {x for x in range(1, 11) if x % 2 != 0}\n",
    "print(\"Set of odd numbers:\", odd_set)\n"
   ]
  },
  {
   "cell_type": "code",
   "execution_count": null,
   "id": "516eb237-1b20-4d57-84db-cde9ef8f6f2c",
   "metadata": {},
   "outputs": [],
   "source": [
    "'''\n",
    "9. Find the union of two sets.\n",
    "'''\n",
    "set1 = set(map(int, input(\"Enter the first set elements separated by commas: \").split(',')))\n",
    "set2 = set(map(int, input(\"Enter the second set elements separated by commas: \").split(',')))\n",
    "union_set = set1.union(set2)\n",
    "print(\"Union of sets:\", union_set)\n"
   ]
  },
  {
   "cell_type": "code",
   "execution_count": null,
   "id": "bfd13c86-0863-4aa6-884a-30ee32984429",
   "metadata": {},
   "outputs": [],
   "source": [
    "'''\n",
    "10. Find the intersection of two sets.\n",
    "'''\n",
    "set1 = set(map(int, input(\"Enter the first set elements separated by commas: \").split(',')))\n",
    "set2 = set(map(int, input(\"Enter the second set elements separated by commas: \").split(',')))\n",
    "intersection_set = set1.intersection(set2)\n",
    "print(\"Intersection of sets:\", intersection_set)\n"
   ]
  },
  {
   "cell_type": "code",
   "execution_count": null,
   "id": "27a9ca21-ca6d-4cff-af6e-041c69e0c27b",
   "metadata": {},
   "outputs": [],
   "source": [
    "'''\n",
    "11. Find the difference between two sets.\n",
    "'''\n",
    "set1 = set(map(int, input(\"Enter the first set elements separated by commas: \").split(',')))\n",
    "set2 = set(map(int, input(\"Enter the second set elements separated by commas: \").split(',')))\n",
    "difference_set = set1.difference(set2)\n",
    "print(\"Difference of sets:\", difference_set)\n"
   ]
  },
  {
   "cell_type": "code",
   "execution_count": null,
   "id": "b57736e3-9074-4b8e-9301-693b8529ccc7",
   "metadata": {},
   "outputs": [],
   "source": [
    "'''\n",
    "12. Check if a set is a subset of another set.\n",
    "'''\n",
    "set1 = set(map(int, input(\"Enter the first set elements separated by commas: \").split(',')))\n",
    "set2 = set(map(int, input(\"Enter the second set elements separated by commas: \").split(',')))\n",
    "is_subset = set1.issubset(set2)\n",
    "print(\"Is the first set a subset of the second:\", is_subset)\n"
   ]
  },
  {
   "cell_type": "code",
   "execution_count": null,
   "id": "ea1b30fd-a9dc-40f3-b954-3551eb90139c",
   "metadata": {},
   "outputs": [],
   "source": [
    "'''\n",
    "13. Check if a set is a superset of another set.\n",
    "'''\n",
    "set1 = set(map(int, input(\"Enter the first set elements separated by commas: \").split(',')))\n",
    "set2 = set(map(int, input(\"Enter the second set elements separated by commas: \").split(',')))\n",
    "is_superset = set1.issuperset(set2)\n",
    "print(\"Is the first set a superset of the second:\", is_superset)\n"
   ]
  },
  {
   "cell_type": "code",
   "execution_count": null,
   "id": "68cc3c4d-7dc1-41ac-903b-60ee7b245f4c",
   "metadata": {},
   "outputs": [],
   "source": [
    "'''\n",
    "14. Create a set from a list.\n",
    "'''\n",
    "lst = list(map(int, input(\"Enter the list elements separated by commas: \").split(',')))\n",
    "set_from_list = set(lst)\n",
    "print(\"Set from list:\", set_from_list)\n"
   ]
  },
  {
   "cell_type": "code",
   "execution_count": null,
   "id": "999e3be8-0199-441a-bae2-01f834737bd3",
   "metadata": {},
   "outputs": [],
   "source": [
    "'''\n",
    "15. Convert a set to a list.\n",
    "'''\n",
    "set1 = set(map(int, input(\"Enter the set elements separated by commas: \").split(',')))\n",
    "list_from_set = list(set1)\n",
    "print(\"List from set:\", list_from_set)\n"
   ]
  },
  {
   "cell_type": "code",
   "execution_count": null,
   "id": "f11a8527-2c37-46f8-a310-51f05370a736",
   "metadata": {},
   "outputs": [],
   "source": [
    "'''\n",
    "16. Remove a random element from a set.\n",
    "'''\n",
    "import random\n",
    "set1 = set(map(int, input(\"Enter the set elements separated by commas: \").split(',')))\n",
    "if set1:\n",
    "    random_element = random.choice(tuple(set1))\n",
    "    set1.remove(random_element)\n",
    "print(\"Set after removing a random element:\", set1)\n"
   ]
  },
  {
   "cell_type": "code",
   "execution_count": null,
   "id": "11f5fe4d-66c3-4985-93e3-55479af30273",
   "metadata": {},
   "outputs": [],
   "source": [
    "'''\n",
    "17. Pop an element from a set.\n",
    "'''\n",
    "set1 = set(map(int, input(\"Enter the set elements separated by commas: \").split(',')))\n",
    "if set1:\n",
    "    popped_element = set1.pop()\n",
    "    print(\"Popped Element:\", popped_element)\n",
    "print(\"Set after popping an element:\", set1)\n"
   ]
  },
  {
   "cell_type": "code",
   "execution_count": null,
   "id": "d2ff5862-2d48-4f0a-94b7-585aad1efad5",
   "metadata": {},
   "outputs": [],
   "source": [
    "'''\n",
    "18. Check if two sets have no elements in common.\n",
    "'''\n",
    "set1 = set(map(int, input(\"Enter the first set elements separated by commas: \").split(',')))\n",
    "set2 = set(map(int, input(\"Enter the second set elements separated by commas: \").split(',')))\n",
    "no_common_elements = set1.isdisjoint(set2)\n",
    "print(\"Do the sets have no elements in common:\", no_common_elements)\n"
   ]
  },
  {
   "cell_type": "code",
   "execution_count": null,
   "id": "6ef5b26f-1eba-451a-a3bd-0669ae4204ac",
   "metadata": {},
   "outputs": [],
   "source": [
    "'''\n",
    "19. Find the symmetric difference between two sets.\n",
    "'''\n",
    "set1 = set(map(int, input(\"Enter the first set elements separated by commas: \").split(',')))\n",
    "set2 = set(map(int, input(\"Enter the second set elements separated by commas: \").split(',')))\n",
    "symmetric_difference = set1.symmetric_difference(set2)\n",
    "print(\"Symmetric Difference:\", symmetric_difference)\n"
   ]
  },
  {
   "cell_type": "code",
   "execution_count": null,
   "id": "c14966dd-5cca-462b-b0bd-adb261626467",
   "metadata": {},
   "outputs": [],
   "source": [
    "'''\n",
    "20. Update a set with elements from another set.\n",
    "'''\n",
    "set1 = set(map(int, input(\"Enter the first set elements separated by commas: \").split(',')))\n",
    "set2 = set(map(int, input(\"Enter the second set elements separated by commas: \").split(',')))\n",
    "set1.update(set2)\n",
    "print(\"Updated Set:\", set1)\n"
   ]
  },
  {
   "cell_type": "code",
   "execution_count": null,
   "id": "391dc1aa-5ddf-4402-a6db-f865a87dd750",
   "metadata": {},
   "outputs": [],
   "source": [
    "'''\n",
    "21. Create a set of the first 5 prime numbers.\n",
    "'''\n",
    "prime_set = {2, 3, 5, 7, 11}\n",
    "print(\"Set of First 5 Prime Numbers:\", prime_set)\n"
   ]
  },
  {
   "cell_type": "code",
   "execution_count": null,
   "id": "6016059e-ebdd-47e2-ab18-a19d2029f52b",
   "metadata": {},
   "outputs": [],
   "source": [
    "'''\n",
    "22. Check if two sets are identical.\n",
    "'''\n",
    "set1 = set(map(int, input(\"Enter the first set elements separated by commas: \").split(',')))\n",
    "set2 = set(map(int, input(\"Enter the second set elements separated by commas: \").split(',')))\n",
    "identical = set1 == set2\n",
    "print(\"Are sets identical:\", identical)\n"
   ]
  },
  {
   "cell_type": "code",
   "execution_count": null,
   "id": "e6ec8424-7024-4db8-9f8c-e750d27cc86f",
   "metadata": {},
   "outputs": [],
   "source": [
    "'''\n",
    "23. Create a frozen set.\n",
    "'''\n",
    "frozen_set = frozenset(map(int, input(\"Enter the elements of the frozen set separated by commas: \").split(',')))\n",
    "print(\"Frozen Set:\", frozen_set)\n"
   ]
  },
  {
   "cell_type": "code",
   "execution_count": null,
   "id": "aa8b363b-5be9-40a2-9c1d-ec7470057d42",
   "metadata": {},
   "outputs": [],
   "source": [
    "'''\n",
    "24. Check if a set is disjoint with another set.\n",
    "'''\n",
    "set1 = set(map(int, input(\"Enter the first set elements separated by commas: \").split(',')))\n",
    "set2 = set(map(int, input(\"Enter the second set elements separated by commas: \").split(',')))\n",
    "is_disjoint = set1.isdisjoint(set2)\n",
    "print(\"Is the set disjoint with the other set:\", is_disjoint)\n"
   ]
  },
  {
   "cell_type": "code",
   "execution_count": null,
   "id": "dd5153be-076e-4210-8ff7-8b5208f0c293",
   "metadata": {},
   "outputs": [],
   "source": [
    "'''\n",
    "25. Create a set of squares of numbers from 1 to 5.\n",
    "'''\n",
    "squares_set = {x**2 for x in range(1, 6)}\n",
    "print(\"Set of squares from 1 to 5:\", squares_set)\n"
   ]
  },
  {
   "cell_type": "code",
   "execution_count": null,
   "id": "b4fab8a7-ff39-452b-989a-e05698a5c0ef",
   "metadata": {},
   "outputs": [],
   "source": [
    "'''\n",
    "26. Filter out all even numbers from a set.\n",
    "'''\n",
    "set1 = set(map(int, input(\"Enter the set elements separated by commas: \").split(',')))\n",
    "filtered_set = {x for x in set1 if x % 2 != 0}\n",
    "print(\"Set after filtering out even numbers:\", filtered_set)\n"
   ]
  },
  {
   "cell_type": "code",
   "execution_count": null,
   "id": "773058e5-6d14-4ee2-886a-ca63c1e57e9f",
   "metadata": {},
   "outputs": [],
   "source": [
    "'''\n",
    "27. Multiply all elements in a set by 2.\n",
    "'''\n",
    "set1 = set(map(int, input(\"Enter the set elements separated by commas: \").split(',')))\n",
    "multiplied_set = {x * 2 for x in set1}\n",
    "print(\"Set after multiplying all elements by 2:\", multiplied_set)\n"
   ]
  },
  {
   "cell_type": "code",
   "execution_count": null,
   "id": "d6e40776-e192-4227-9deb-708d3d5776c4",
   "metadata": {},
   "outputs": [],
   "source": [
    "'''\n",
    "28. Create a set of random numbers.\n",
    "'''\n",
    "import random\n",
    "n = int(input(\"Enter the number of random elements: \"))\n",
    "random_set = {random.randint(1, 100) for _ in range(n)}\n",
    "print(\"Set of Random Numbers:\", random_set)\n"
   ]
  },
  {
   "cell_type": "code",
   "execution_count": null,
   "id": "6f39f43b-faba-4e34-8072-6e80cd105cab",
   "metadata": {},
   "outputs": [],
   "source": [
    "'''\n",
    "29. Check if a set is empty.\n",
    "'''\n",
    "set1 = set(map(int, input(\"Enter the set elements separated by commas: \").split(',')))\n",
    "is_empty = not set1\n",
    "print(\"Is the set empty:\", is_empty)\n"
   ]
  },
  {
   "cell_type": "code",
   "execution_count": null,
   "id": "fe18cb71-ba97-49fa-974b-7710ace2a02b",
   "metadata": {},
   "outputs": [],
   "source": [
    "'''\n",
    "30. Create a nested set (hint: use frozenset).\n",
    "'''\n",
    "nested_set = frozenset({1, 2, 3})\n",
    "outer_set = {nested_set, frozenset({4, 5})}\n",
    "print(\"Nested Set:\", outer_set)\n"
   ]
  },
  {
   "cell_type": "code",
   "execution_count": null,
   "id": "245ef386-cae4-4a77-b09c-4484cae1e4b4",
   "metadata": {},
   "outputs": [],
   "source": [
    "'''\n",
    "31. Remove an element from a set using the discard method.\n",
    "'''\n",
    "set1 = set(map(int, input(\"Enter the set elements separated by commas: \").split(',')))\n",
    "element = int(input(\"Enter an element to discard: \"))\n",
    "set1.discard(element)\n",
    "print(\"Set after discarding the element:\", set1)\n"
   ]
  },
  {
   "cell_type": "code",
   "execution_count": null,
   "id": "a9624b27-6939-425c-b3a4-5a91fea4f61a",
   "metadata": {},
   "outputs": [],
   "source": [
    "'''\n",
    "32. Compare two sets.\n",
    "'''\n",
    "set1 = set(map(int, input(\"Enter the first set elements separated by commas: \").split(',')))\n",
    "set2 = set(map(int, input(\"Enter the second set elements separated by commas: \").split(',')))\n",
    "print(\"Set1:\", set1)\n",
    "print(\"Set2:\", set2)\n"
   ]
  },
  {
   "cell_type": "code",
   "execution_count": null,
   "id": "c93543aa-4100-4ced-a0b9-b49f2677a1a6",
   "metadata": {},
   "outputs": [],
   "source": [
    "'''\n",
    "33. Create a set from a string.\n",
    "'''\n",
    "string = input(\"Enter a string: \")\n",
    "set_from_string = set(string)\n",
    "print(\"Set from string:\", set_from_string)\n"
   ]
  },
  {
   "cell_type": "code",
   "execution_count": null,
   "id": "20a766a8-cf56-4ae5-b854-bbeacfb6f398",
   "metadata": {},
   "outputs": [],
   "source": [
    "'''\n",
    "34. Convert a set of strings to a set of integers.\n",
    "'''\n",
    "string_set = set(input(\"Enter the set of strings separated by commas: \").split(','))\n",
    "int_set = set(map(int, string_set))\n",
    "print(\"Set of integers:\", int_set)\n"
   ]
  },
  {
   "cell_type": "code",
   "execution_count": null,
   "id": "9ab842aa-570c-4d90-b90c-0107309c8b04",
   "metadata": {},
   "outputs": [],
   "source": [
    "'''\n",
    "35. Convert a set of integers to a set of strings.\n",
    "'''\n",
    "int_set = set(map(int, input(\"Enter the set of integers separated by commas: \").split(',')))\n",
    "string_set = set(map(str, int_set))\n",
    "print(\"Set of strings:\", string_set)\n"
   ]
  },
  {
   "cell_type": "code",
   "execution_count": null,
   "id": "77dd4352-2306-43ce-865e-a5cdc1261f46",
   "metadata": {},
   "outputs": [],
   "source": [
    "'''\n",
    "36. Create a set from a tuple.\n",
    "'''\n",
    "tuple1 = tuple(map(int, input(\"Enter the tuple elements separated by commas: \").split(',')))\n",
    "set_from_tuple = set(tuple1)\n",
    "print(\"Set from tuple:\", set_from_tuple)\n"
   ]
  },
  {
   "cell_type": "code",
   "execution_count": null,
   "id": "26479302-4ce4-49cf-b76c-956fac6016e1",
   "metadata": {},
   "outputs": [],
   "source": [
    "'''\n",
    "37. Convert a set to a tuple.\n",
    "'''\n",
    "set1 = set(map(int, input(\"Enter the set elements separated by commas: \").split(',')))\n",
    "tuple_from_set = tuple(set1)\n",
    "print(\"Tuple from set:\", tuple_from_set)\n"
   ]
  },
  {
   "cell_type": "code",
   "execution_count": null,
   "id": "7f4236ba-60ea-4f4c-9232-55cf05e512d1",
   "metadata": {},
   "outputs": [],
   "source": [
    "'''\n",
    "38. Find the maximum value in a set.\n",
    "'''\n",
    "set1 = set(map(int, input(\"Enter the set elements separated by commas: \").split(',')))\n",
    "max_value = max(set1) if set1 else None\n",
    "print(\"Maximum value in the set:\", max_value)\n"
   ]
  },
  {
   "cell_type": "code",
   "execution_count": null,
   "id": "5a713a05-5cb5-494d-b9cd-1c5d64170e56",
   "metadata": {},
   "outputs": [],
   "source": [
    "'''\n",
    "39. Find the minimum value in a set.\n",
    "'''\n",
    "set1 = set(map(int, input(\"Enter the set elements separated by commas: \").split(',')))\n",
    "min_value = min(set1) if set1 else None\n",
    "print(\"Minimum value in the set:\", min_value)\n"
   ]
  },
  {
   "cell_type": "code",
   "execution_count": null,
   "id": "fd36eb4e-01f7-4dff-9132-1159a046b1b6",
   "metadata": {},
   "outputs": [],
   "source": [
    "'''\n",
    "40. Create a set from user input.\n",
    "'''\n",
    "user_set = set(map(int, input(\"Enter the set elements separated by commas: \").split(',')))\n",
    "print(\"User-created set:\", user_set)\n"
   ]
  },
  {
   "cell_type": "code",
   "execution_count": null,
   "id": "43b4dbae-e06d-4671-9df4-3f7e8935014b",
   "metadata": {},
   "outputs": [],
   "source": [
    "'''\n",
    "41. Check if the intersection of two sets is empty.\n",
    "'''\n",
    "set1 = set(map(int, input(\"Enter the first set elements separated by commas: \").split(',')))\n",
    "set2 = set(map(int, input(\"Enter the second set elements separated by commas: \").split(',')))\n",
    "intersection_empty = set1.isdisjoint(set2)\n",
    "print(\"Is the intersection empty:\", intersection_empty)\n"
   ]
  },
  {
   "cell_type": "code",
   "execution_count": null,
   "id": "ee4db377-6ec7-406c-bd83-31a49a96e785",
   "metadata": {},
   "outputs": [],
   "source": [
    "'''\n",
    "42. Create a set of the first 5 Fibonacci numbers.\n",
    "'''\n",
    "a, b = 0, 1\n",
    "fibonacci_set = {a, b}\n",
    "for _ in range(3):\n",
    "    a, b = b, a + b\n",
    "    fibonacci_set.add(b)\n",
    "print(\"Set of First 5 Fibonacci Numbers:\", fibonacci_set)\n"
   ]
  },
  {
   "cell_type": "code",
   "execution_count": null,
   "id": "a428d0df-2fc5-4aee-82af-abead39835d7",
   "metadata": {},
   "outputs": [],
   "source": [
    "'''\n",
    "43. Remove duplicates from a list using sets.\n",
    "'''\n",
    "lst = list(map(int, input(\"Enter the list elements separated by commas: \").split(',')))\n",
    "unique_set = set(lst)\n",
    "print(\"List after removing duplicates:\", list(unique_set))\n"
   ]
  },
  {
   "cell_type": "code",
   "execution_count": null,
   "id": "f038c458-0550-4e4f-8477-00fc7b8e465f",
   "metadata": {},
   "outputs": [],
   "source": [
    "'''\n",
    "44. Check if two sets have the same elements, regardless of their count.\n",
    "'''\n",
    "set1 = set(map(int, input(\"Enter the first set elements separated by commas: \").split(',')))\n",
    "set2 = set(map(int, input(\"Enter the second set elements separated by commas: \").split(',')))\n",
    "same_elements = set1 == set2\n",
    "print(\"Do the sets have the same elements:\", same_elements)\n"
   ]
  },
  {
   "cell_type": "code",
   "execution_count": null,
   "id": "155172c8-4054-49f0-aed5-2e9d8c0a309a",
   "metadata": {},
   "outputs": [],
   "source": [
    "'''\n",
    "45. Create a set of the first `n` powers of 2.\n",
    "'''\n",
    "n = int(input(\"Enter the number of powers of 2: \"))\n",
    "powers_of_2_set = {2**x for x in range(n)}\n",
    "print(\"Set of First\", n, \"Powers of 2:\", powers_of_2_set)\n"
   ]
  },
  {
   "cell_type": "code",
   "execution_count": null,
   "id": "9667102a-5738-4ca5-8d5b-0f7ceccfc58d",
   "metadata": {},
   "outputs": [],
   "source": [
    "'''\n",
    "46. Find the common elements between a set and a list.\n",
    "'''\n",
    "set1 = set(map(int, input(\"Enter the set elements separated by commas: \").split(',')))\n",
    "lst = list(map(int, input(\"Enter the list elements separated by commas: \").split(',')))\n",
    "common_elements = set1.intersection(lst)\n",
    "print(\"Common elements between set and list:\", common_elements)\n"
   ]
  },
  {
   "cell_type": "code",
   "execution_count": null,
   "id": "ab193692-8355-4d46-8b3e-b723525c0cf4",
   "metadata": {},
   "outputs": [],
   "source": [
    "'''\n",
    "47. Create a set of the first `n` triangular numbers.\n",
    "'''\n",
    "n = int(input(\"Enter the number of triangular numbers: \"))\n",
    "triangular_set = {x * (x + 1) // 2 for x in range(1, n + 1)}\n",
    "print(\"Set of First\", n, \"Triangular Numbers:\", triangular_set)\n"
   ]
  },
  {
   "cell_type": "code",
   "execution_count": null,
   "id": "66e881c1-ee25-4973-b1b2-1ab01a8cc504",
   "metadata": {},
   "outputs": [],
   "source": [
    "'''\n",
    "48. Check if a set contains another set as a subset.\n",
    "'''\n",
    "set1 = set(map(int, input(\"Enter the main set elements separated by commas: \").split(',')))\n",
    "subset = set(map(int, input(\"Enter the subset elements separated by commas: \").split(',')))\n",
    "contains_subset = subset.issubset(set1)\n",
    "print(\"Does the main set contain the subset:\", contains_subset)\n"
   ]
  },
  {
   "cell_type": "code",
   "execution_count": null,
   "id": "6bd64240-7397-4529-8678-34b4f198c40a",
   "metadata": {},
   "outputs": [],
   "source": [
    "'''\n",
    "49. Create a set of alternating 1s and 0s of length `n`.\n",
    "'''\n",
    "n = int(input(\"Enter the length of the set: \"))\n",
    "alternating_set = {1 if i % 2 == 0 else 0 for i in range(n)}\n",
    "print(\"Set of alternating 1s and 0s:\", alternating_set)\n"
   ]
  },
  {
   "cell_type": "code",
   "execution_count": null,
   "id": "d9fed243-fd7d-4486-95fc-c5a6e66b78ce",
   "metadata": {},
   "outputs": [],
   "source": [
    "'''\n",
    "50. Merge multiple sets into one.\n",
    "'''\n",
    "num_sets = int(input(\"Enter the number of sets to merge: \"))\n",
    "merged_set = set()\n",
    "for _ in range(num_sets):\n",
    "    current_set = set(map(int, input(\"Enter the set elements separated by commas: \").split(',')))\n",
    "    merged_set.update(current_set)\n",
    "print(\"Merged Set:\", merged_set)\n"
   ]
  }
 ],
 "metadata": {
  "kernelspec": {
   "display_name": "Python 3 (ipykernel)",
   "language": "python",
   "name": "python3"
  },
  "language_info": {
   "codemirror_mode": {
    "name": "ipython",
    "version": 3
   },
   "file_extension": ".py",
   "mimetype": "text/x-python",
   "name": "python",
   "nbconvert_exporter": "python",
   "pygments_lexer": "ipython3",
   "version": "3.12.5"
  }
 },
 "nbformat": 4,
 "nbformat_minor": 5
}
