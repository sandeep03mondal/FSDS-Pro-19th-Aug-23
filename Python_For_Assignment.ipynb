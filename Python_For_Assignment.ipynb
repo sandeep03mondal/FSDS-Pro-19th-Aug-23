{
 "cells": [
  {
   "cell_type": "code",
   "execution_count": 1,
   "id": "029c971d-e09c-4b47-b3ee-5f5b661c8fa3",
   "metadata": {},
   "outputs": [],
   "source": [
    "#Basic Level:"
   ]
  },
  {
   "cell_type": "code",
   "execution_count": 2,
   "id": "f0c6de9d-d4bd-4ac4-978a-5fcc9b125379",
   "metadata": {},
   "outputs": [
    {
     "name": "stdout",
     "output_type": "stream",
     "text": [
      "1\n",
      "2\n",
      "3\n",
      "4\n",
      "5\n",
      "6\n",
      "7\n",
      "8\n",
      "9\n",
      "10\n"
     ]
    }
   ],
   "source": [
    "# 1. Print the numbers from 1 to 10 using a for loop\n",
    "for i in range(1, 11):\n",
    "    print(i)\n"
   ]
  },
  {
   "cell_type": "code",
   "execution_count": 3,
   "id": "1c92c10e-e365-4623-a5f6-be51dc882f38",
   "metadata": {},
   "outputs": [
    {
     "name": "stdin",
     "output_type": "stream",
     "text": [
      "Enter numbers separated by spaces:  15 5 6 \n"
     ]
    },
    {
     "name": "stdout",
     "output_type": "stream",
     "text": [
      "Sum: 26\n"
     ]
    }
   ],
   "source": [
    "# 2. Calculate the sum of all numbers in a list using a for loop\n",
    "numbers = list(map(int, input(\"Enter numbers separated by spaces: \").split()))\n",
    "total = 0\n",
    "for num in numbers:\n",
    "    total += num\n",
    "print(\"Sum:\", total)\n"
   ]
  },
  {
   "cell_type": "code",
   "execution_count": 4,
   "id": "7c3250f9-203b-4fb2-9952-d61e372f19ed",
   "metadata": {},
   "outputs": [
    {
     "name": "stdin",
     "output_type": "stream",
     "text": [
      "Enter a string:  Sandeep\n"
     ]
    },
    {
     "name": "stdout",
     "output_type": "stream",
     "text": [
      "peednaS"
     ]
    }
   ],
   "source": [
    "# 3. Print the characters of a string in reverse order using a for loop\n",
    "text = input(\"Enter a string: \")\n",
    "for char in reversed(text):\n",
    "    print(char, end=\"\")\n"
   ]
  },
  {
   "cell_type": "code",
   "execution_count": 5,
   "id": "85438597-0b7b-475e-8ddf-617564c8b4ce",
   "metadata": {},
   "outputs": [
    {
     "name": "stdin",
     "output_type": "stream",
     "text": [
      "Enter a number:  5\n"
     ]
    },
    {
     "name": "stdout",
     "output_type": "stream",
     "text": [
      "Factorial: 120\n"
     ]
    }
   ],
   "source": [
    "# 4. Find the factorial of a given number using a for loop\n",
    "n = int(input(\"Enter a number: \"))\n",
    "factorial = 1\n",
    "for i in range(1, n + 1):\n",
    "    factorial *= i\n",
    "print(\"Factorial:\", factorial)\n"
   ]
  },
  {
   "cell_type": "code",
   "execution_count": 6,
   "id": "a119baf8-904a-4d07-b808-fb1447f47a03",
   "metadata": {},
   "outputs": [
    {
     "name": "stdin",
     "output_type": "stream",
     "text": [
      "Enter a number:  12\n"
     ]
    },
    {
     "name": "stdout",
     "output_type": "stream",
     "text": [
      "12 x 1 = 12\n",
      "12 x 2 = 24\n",
      "12 x 3 = 36\n",
      "12 x 4 = 48\n",
      "12 x 5 = 60\n",
      "12 x 6 = 72\n",
      "12 x 7 = 84\n",
      "12 x 8 = 96\n",
      "12 x 9 = 108\n",
      "12 x 10 = 120\n"
     ]
    }
   ],
   "source": [
    "# 5. Print the multiplication table of a given number using a for loop\n",
    "n = int(input(\"Enter a number: \"))\n",
    "for i in range(1, 11):\n",
    "    print(f\"{n} x {i} = {n * i}\")\n"
   ]
  },
  {
   "cell_type": "code",
   "execution_count": 8,
   "id": "008c39ae-da49-4217-aea3-cfb59de4bb88",
   "metadata": {},
   "outputs": [
    {
     "name": "stdin",
     "output_type": "stream",
     "text": [
      "Enter numbers separated by spaces:  2 5 6 4 7 \n"
     ]
    },
    {
     "name": "stdout",
     "output_type": "stream",
     "text": [
      "Even numbers: 3\n",
      "Odd numbers: 2\n"
     ]
    }
   ],
   "source": [
    "# 6. Count the number of even and odd numbers in a list using a for loop\n",
    "numbers = list(map(int, input(\"Enter numbers separated by spaces: \").split()))\n",
    "even_count = 0\n",
    "odd_count = 0\n",
    "for num in numbers:\n",
    "    if num % 2 == 0:\n",
    "        even_count += 1\n",
    "    else:\n",
    "        odd_count += 1\n",
    "print(\"Even numbers:\", even_count)\n",
    "print(\"Odd numbers:\", odd_count)\n"
   ]
  },
  {
   "cell_type": "code",
   "execution_count": 9,
   "id": "075aca63-cdad-451f-a0f5-30e006802438",
   "metadata": {},
   "outputs": [
    {
     "name": "stdout",
     "output_type": "stream",
     "text": [
      "1\n",
      "4\n",
      "9\n",
      "16\n",
      "25\n"
     ]
    }
   ],
   "source": [
    "# 7. Print the squares of numbers from 1 to 5 using a for loop\n",
    "for i in range(1, 6):\n",
    "    print(i ** 2)\n"
   ]
  },
  {
   "cell_type": "code",
   "execution_count": 10,
   "id": "ccbad339-be0c-4765-8ebe-9b2477a4824a",
   "metadata": {},
   "outputs": [
    {
     "name": "stdin",
     "output_type": "stream",
     "text": [
      "Enter a string:  Apple\n"
     ]
    },
    {
     "name": "stdout",
     "output_type": "stream",
     "text": [
      "Length of the string: 5\n"
     ]
    }
   ],
   "source": [
    "# 8. Find the length of a string without using the len() function\n",
    "text = input(\"Enter a string: \")\n",
    "length = 0\n",
    "for char in text:\n",
    "    length += 1\n",
    "print(\"Length of the string:\", length)\n"
   ]
  },
  {
   "cell_type": "code",
   "execution_count": 11,
   "id": "3c05d343-9d14-4108-b4ed-7903684c2181",
   "metadata": {},
   "outputs": [
    {
     "name": "stdin",
     "output_type": "stream",
     "text": [
      "Enter numbers separated by spaces:  4 5 6 7\n"
     ]
    },
    {
     "name": "stdout",
     "output_type": "stream",
     "text": [
      "Average: 5.5\n"
     ]
    }
   ],
   "source": [
    "# 9. Calculate the average of a list of numbers using a for loop\n",
    "numbers = list(map(int, input(\"Enter numbers separated by spaces: \").split()))\n",
    "total = 0\n",
    "for num in numbers:\n",
    "    total += num\n",
    "average = total / len(numbers)\n",
    "print(\"Average:\", average)\n"
   ]
  },
  {
   "cell_type": "code",
   "execution_count": 13,
   "id": "1d691187-073b-4cb2-8b22-12c920bc59cd",
   "metadata": {},
   "outputs": [
    {
     "name": "stdin",
     "output_type": "stream",
     "text": [
      "Enter the number of Fibonacci numbers to print:  15\n"
     ]
    },
    {
     "name": "stdout",
     "output_type": "stream",
     "text": [
      "0 1 1 2 3 5 8 13 21 34 55 89 144 233 377 "
     ]
    }
   ],
   "source": [
    "# 10. Print the first n Fibonacci numbers using a for loop\n",
    "n = int(input(\"Enter the number of Fibonacci numbers to print: \"))\n",
    "a, b = 0, 1\n",
    "for _ in range(n):\n",
    "    print(a, end=\" \")\n",
    "    a, b = b, a + b\n"
   ]
  },
  {
   "cell_type": "code",
   "execution_count": 14,
   "id": "4ceb40ad-9e39-4ca8-95ab-7678ceb444b1",
   "metadata": {},
   "outputs": [],
   "source": [
    "#Intermediate Level:"
   ]
  },
  {
   "cell_type": "code",
   "execution_count": 15,
   "id": "a4fbe810-db56-49d7-a7a5-856e5d9effda",
   "metadata": {},
   "outputs": [
    {
     "name": "stdin",
     "output_type": "stream",
     "text": [
      "Enter numbers separated by spaces:  1 4 5 8 4 \n"
     ]
    },
    {
     "name": "stdout",
     "output_type": "stream",
     "text": [
      "Contains duplicates: True\n"
     ]
    }
   ],
   "source": [
    "# 11. Check if a given list contains any duplicates using a for loop\n",
    "numbers = list(map(int, input(\"Enter numbers separated by spaces: \").split()))\n",
    "has_duplicates = False\n",
    "for i in range(len(numbers)):\n",
    "    for j in range(i + 1, len(numbers)):\n",
    "        if numbers[i] == numbers[j]:\n",
    "            has_duplicates = True\n",
    "            break\n",
    "print(\"Contains duplicates:\", has_duplicates)\n"
   ]
  },
  {
   "cell_type": "code",
   "execution_count": 16,
   "id": "1e7bdb61-e204-4cb9-a819-fe3d550df0e6",
   "metadata": {},
   "outputs": [
    {
     "name": "stdin",
     "output_type": "stream",
     "text": [
      "Enter the starting number:  1\n",
      "Enter the ending number:  50\n"
     ]
    },
    {
     "name": "stdout",
     "output_type": "stream",
     "text": [
      "2 3 5 7 11 13 17 19 23 29 31 37 41 43 47 "
     ]
    }
   ],
   "source": [
    "# 12. Print the prime numbers in a given range using a for loop\n",
    "start = int(input(\"Enter the starting number: \"))\n",
    "end = int(input(\"Enter the ending number: \"))\n",
    "for num in range(start, end + 1):\n",
    "    if num > 1:\n",
    "        for i in range(2, int(num**0.5) + 1):\n",
    "            if num % i == 0:\n",
    "                break\n",
    "        else:\n",
    "            print(num, end=\" \")\n"
   ]
  },
  {
   "cell_type": "code",
   "execution_count": 17,
   "id": "f7983a12-2024-485c-80fd-2badc218117f",
   "metadata": {},
   "outputs": [
    {
     "name": "stdin",
     "output_type": "stream",
     "text": [
      "Enter a string:  tree\n"
     ]
    },
    {
     "name": "stdout",
     "output_type": "stream",
     "text": [
      "Number of vowels: 2\n"
     ]
    }
   ],
   "source": [
    "# 13. Count the number of vowels in a string using a for loop\n",
    "text = input(\"Enter a string: \").lower()\n",
    "vowels = \"aeiou\"\n",
    "count = 0\n",
    "for char in text:\n",
    "    if char in vowels:\n",
    "        count += 1\n",
    "print(\"Number of vowels:\", count)\n"
   ]
  },
  {
   "cell_type": "code",
   "execution_count": 18,
   "id": "a4477711-2a39-4a31-b58e-a00b15171283",
   "metadata": {},
   "outputs": [
    {
     "name": "stdin",
     "output_type": "stream",
     "text": [
      "Enter number of rows:  2\n",
      "Enter row 1 elements separated by spaces:  2 3 6 \n",
      "Enter row 2 elements separated by spaces:  8 6 7\n"
     ]
    },
    {
     "name": "stdout",
     "output_type": "stream",
     "text": [
      "Maximum element: 8\n"
     ]
    }
   ],
   "source": [
    "# 14. Find the maximum element in a 2D list using a nested for loop\n",
    "rows = int(input(\"Enter number of rows: \"))\n",
    "matrix = []\n",
    "for i in range(rows):\n",
    "    row = list(map(int, input(f\"Enter row {i+1} elements separated by spaces: \").split()))\n",
    "    matrix.append(row)\n",
    "max_element = matrix[0][0]\n",
    "for row in matrix:\n",
    "    for elem in row:\n",
    "        if elem > max_element:\n",
    "            max_element = elem\n",
    "print(\"Maximum element:\", max_element)\n"
   ]
  },
  {
   "cell_type": "code",
   "execution_count": 20,
   "id": "d00a0a7c-64b3-4641-b589-69cfe5fe32d9",
   "metadata": {},
   "outputs": [
    {
     "name": "stdin",
     "output_type": "stream",
     "text": [
      "Enter numbers separated by spaces:  1 2 3 4 6\n",
      "Enter the element to remove:  6\n"
     ]
    },
    {
     "name": "stdout",
     "output_type": "stream",
     "text": [
      "List after removal: [1, 2, 3, 4]\n"
     ]
    }
   ],
   "source": [
    "# 15. Remove all occurrences of a specific element from a list using a for loop\n",
    "numbers = list(map(int, input(\"Enter numbers separated by spaces: \").split()))\n",
    "element = int(input(\"Enter the element to remove: \"))\n",
    "result = []\n",
    "for num in numbers:\n",
    "    if num != element:\n",
    "        result.append(num)\n",
    "print(\"List after removal:\", result)\n"
   ]
  },
  {
   "cell_type": "code",
   "execution_count": 21,
   "id": "381148df-eeec-4885-ad17-b127a2da3908",
   "metadata": {},
   "outputs": [
    {
     "name": "stdout",
     "output_type": "stream",
     "text": [
      "1 x 1 = 1\n",
      "1 x 2 = 2\n",
      "1 x 3 = 3\n",
      "1 x 4 = 4\n",
      "1 x 5 = 5\n",
      "1 x 6 = 6\n",
      "1 x 7 = 7\n",
      "1 x 8 = 8\n",
      "1 x 9 = 9\n",
      "1 x 10 = 10\n",
      "\n",
      "2 x 1 = 2\n",
      "2 x 2 = 4\n",
      "2 x 3 = 6\n",
      "2 x 4 = 8\n",
      "2 x 5 = 10\n",
      "2 x 6 = 12\n",
      "2 x 7 = 14\n",
      "2 x 8 = 16\n",
      "2 x 9 = 18\n",
      "2 x 10 = 20\n",
      "\n",
      "3 x 1 = 3\n",
      "3 x 2 = 6\n",
      "3 x 3 = 9\n",
      "3 x 4 = 12\n",
      "3 x 5 = 15\n",
      "3 x 6 = 18\n",
      "3 x 7 = 21\n",
      "3 x 8 = 24\n",
      "3 x 9 = 27\n",
      "3 x 10 = 30\n",
      "\n",
      "4 x 1 = 4\n",
      "4 x 2 = 8\n",
      "4 x 3 = 12\n",
      "4 x 4 = 16\n",
      "4 x 5 = 20\n",
      "4 x 6 = 24\n",
      "4 x 7 = 28\n",
      "4 x 8 = 32\n",
      "4 x 9 = 36\n",
      "4 x 10 = 40\n",
      "\n",
      "5 x 1 = 5\n",
      "5 x 2 = 10\n",
      "5 x 3 = 15\n",
      "5 x 4 = 20\n",
      "5 x 5 = 25\n",
      "5 x 6 = 30\n",
      "5 x 7 = 35\n",
      "5 x 8 = 40\n",
      "5 x 9 = 45\n",
      "5 x 10 = 50\n",
      "\n"
     ]
    }
   ],
   "source": [
    "# 16. Generate a multiplication table for numbers from 1 to 5 using a nested for loop\n",
    "for i in range(1, 6):\n",
    "    for j in range(1, 11):\n",
    "        print(f\"{i} x {j} = {i * j}\")\n",
    "    print()\n"
   ]
  },
  {
   "cell_type": "code",
   "execution_count": 23,
   "id": "6b1c8e12-58e4-499c-ac31-c9f6adb37fef",
   "metadata": {},
   "outputs": [
    {
     "name": "stdin",
     "output_type": "stream",
     "text": [
      "Enter temperatures in Fahrenheit separated by spaces:  45\n"
     ]
    },
    {
     "name": "stdout",
     "output_type": "stream",
     "text": [
      "Temperatures in Celsius: [7.222222222222222]\n"
     ]
    }
   ],
   "source": [
    "# 17. Convert a list of Fahrenheit temperatures to Celsius using a for loop\n",
    "fahrenheit = list(map(float, input(\"Enter temperatures in Fahrenheit separated by spaces: \").split()))\n",
    "celsius = []\n",
    "for temp in fahrenheit:\n",
    "    celsius.append((temp - 32) * 5/9)\n",
    "print(\"Temperatures in Celsius:\", celsius)\n"
   ]
  },
  {
   "cell_type": "code",
   "execution_count": 25,
   "id": "96e83c3f-ba2a-411d-a020-ed358168f0cd",
   "metadata": {},
   "outputs": [
    {
     "name": "stdin",
     "output_type": "stream",
     "text": [
      "Enter the first list of numbers separated by spaces:  1 2 3 4 5\n",
      "Enter the second list of numbers separated by spaces:  5 9 8 4 7\n"
     ]
    },
    {
     "name": "stdout",
     "output_type": "stream",
     "text": [
      "Common elements: [4, 5]\n"
     ]
    }
   ],
   "source": [
    "# 18. Print the common elements from two lists using a for loop\n",
    "list1 = list(map(int, input(\"Enter the first list of numbers separated by spaces: \").split()))\n",
    "list2 = list(map(int, input(\"Enter the second list of numbers separated by spaces: \").split()))\n",
    "common_elements = []\n",
    "for num in list1:\n",
    "    if num in list2 and num not in common_elements:\n",
    "        common_elements.append(num)\n",
    "print(\"Common elements:\", common_elements)\n"
   ]
  },
  {
   "cell_type": "code",
   "execution_count": 26,
   "id": "6e100a88-ce6c-4016-a366-ef292ac04037",
   "metadata": {},
   "outputs": [
    {
     "name": "stdin",
     "output_type": "stream",
     "text": [
      "Enter the number of rows for the triangle:  5\n"
     ]
    },
    {
     "name": "stdout",
     "output_type": "stream",
     "text": [
      "*\n",
      "**\n",
      "***\n",
      "****\n",
      "*****\n"
     ]
    }
   ],
   "source": [
    "# 19. Print the pattern of right-angled triangles using a for loop\n",
    "rows = int(input(\"Enter the number of rows for the triangle: \"))\n",
    "for i in range(1, rows + 1):\n",
    "    print('*' * i)\n"
   ]
  },
  {
   "cell_type": "code",
   "execution_count": 27,
   "id": "dce85827-d6c2-4162-b239-ffdfe196e112",
   "metadata": {},
   "outputs": [
    {
     "name": "stdin",
     "output_type": "stream",
     "text": [
      "Enter the first number:  126\n",
      "Enter the second number:  84\n"
     ]
    },
    {
     "name": "stdout",
     "output_type": "stream",
     "text": [
      "GCD: 42\n"
     ]
    }
   ],
   "source": [
    "# 20. Find the greatest common divisor (GCD) of two numbers using a for loop\n",
    "a = int(input(\"Enter the first number: \"))\n",
    "b = int(input(\"Enter the second number: \"))\n",
    "gcd = 1\n",
    "for i in range(1, min(a, b) + 1):\n",
    "    if a % i == 0 and b % i == 0:\n",
    "        gcd = i\n",
    "print(\"GCD:\", gcd)\n"
   ]
  },
  {
   "cell_type": "code",
   "execution_count": 28,
   "id": "752d6042-db3b-441f-a57f-74b3ea2c3ebd",
   "metadata": {},
   "outputs": [],
   "source": [
    "#Advanced Level:"
   ]
  },
  {
   "cell_type": "code",
   "execution_count": 31,
   "id": "2f3e285a-bd1b-40f7-be0e-d1c59e814204",
   "metadata": {},
   "outputs": [
    {
     "name": "stdin",
     "output_type": "stream",
     "text": [
      "Enter numbers separated by spaces:  1 22 45\n"
     ]
    },
    {
     "name": "stdout",
     "output_type": "stream",
     "text": [
      "Sum of digits: [1, 4, 9]\n"
     ]
    }
   ],
   "source": [
    "# 21. Calculate the sum of the digits of numbers in a list using a list comprehension\n",
    "numbers = list(map(int, input(\"Enter numbers separated by spaces: \").split()))\n",
    "digit_sums = [sum(int(digit) for digit in str(num)) for num in numbers]\n",
    "print(\"Sum of digits:\", digit_sums)\n",
    "\n"
   ]
  },
  {
   "cell_type": "code",
   "execution_count": null,
   "id": "bbe7f99e-b7e4-4a54-8a55-b1e449642840",
   "metadata": {},
   "outputs": [],
   "source": [
    "# 22. Find the prime factors of a given number using a for loop and list comprehension\n",
    "n = int(input(\"Enter a number: \"))\n",
    "prime_factors = []\n",
    "for i in range(2, n + 1):\n",
    "    while n % i == 0:\n",
    "        prime_factors.append(i)\n",
    "        n //= i\n",
    "print(\"Prime factors:\", prime_factors)\n"
   ]
  },
  {
   "cell_type": "code",
   "execution_count": null,
   "id": "19088d5d-e0fc-4af9-a45e-809579933abf",
   "metadata": {},
   "outputs": [],
   "source": [
    "# 23. Extract unique elements from a list and store them in a new list using a list comprehension\n",
    "numbers = list(map(int, input(\"Enter numbers separated by spaces: \").split()))\n",
    "unique_elements = list({num for num in numbers})\n",
    "print(\"Unique elements:\", unique_elements)\n"
   ]
  },
  {
   "cell_type": "code",
   "execution_count": null,
   "id": "807f8549-765d-48a1-9e27-68fdbc0fd9ff",
   "metadata": {},
   "outputs": [],
   "source": [
    "# 24. Generate a list of all palindromic numbers up to a specified limit using a list comprehension\n",
    "limit = int(input(\"Enter the upper limit: \"))\n",
    "palindromes = [num for num in range(1, limit + 1) if str(num) == str(num)[reverse()]]\n",
    "print(\"Palindromic numbers:\", palindromes)\n"
   ]
  },
  {
   "cell_type": "code",
   "execution_count": null,
   "id": "944acb3f-6f2b-4d82-988e-c7d9030cca95",
   "metadata": {},
   "outputs": [],
   "source": [
    "# 25. Flatten a nested list using list comprehension\n",
    "nested_list = [[int(x) for x in input(f\"Enter elements of list {i+1} separated by spaces: \").split()] for i in range(int(input(\"Enter number of nested lists: \")))]\n",
    "flattened_list = [item for sublist in nested_list for item in sublist]\n",
    "print(\"Flattened list:\", flattened_list)\n"
   ]
  },
  {
   "cell_type": "code",
   "execution_count": null,
   "id": "32ab2315-759d-4f06-9491-ceeeacd7401e",
   "metadata": {},
   "outputs": [],
   "source": [
    "# 26. Compute the sum of even and odd numbers in a list separately using list comprehension\n",
    "numbers = list(map(int, input(\"Enter numbers separated by spaces: \").split()))\n",
    "even_sum = sum([num for num in numbers if num % 2 == 0])\n",
    "odd_sum = sum([num for num in numbers if num % 2 != 0])\n",
    "print(\"Sum of even numbers:\", even_sum)\n",
    "print(\"Sum of odd numbers:\", odd_sum)\n"
   ]
  },
  {
   "cell_type": "code",
   "execution_count": null,
   "id": "ba23488f-9f6d-46d0-ab38-928fea097152",
   "metadata": {},
   "outputs": [],
   "source": [
    "# 27. Generate a list of squares of odd numbers between 1 and 10 using list comprehension\n",
    "squares_of_odds = [num ** 2 for num in range(1, 11) if num % 2 != 0]\n",
    "print(\"Squares of odd numbers:\", squares_of_odds)\n"
   ]
  },
  {
   "cell_type": "code",
   "execution_count": null,
   "id": "04c5959f-c24a-4d3d-8072-739202dc1e4d",
   "metadata": {},
   "outputs": [],
   "source": [
    "# 28. Combine two lists into a dictionary using list comprehension\n",
    "keys = input(\"Enter the keys separated by spaces: \").split()\n",
    "values = input(\"Enter the values separated by spaces: \").split()\n",
    "combined_dict = {keys[i]: values[i] for i in range(min(len(keys), len(values)))}\n",
    "print(\"Combined dictionary:\", combined_dict)\n"
   ]
  },
  {
   "cell_type": "code",
   "execution_count": 32,
   "id": "b48670f9-2173-4522-8d48-fc2fbb0fb033",
   "metadata": {},
   "outputs": [
    {
     "name": "stdin",
     "output_type": "stream",
     "text": [
      "Enter a string:  rat\n"
     ]
    },
    {
     "name": "stdout",
     "output_type": "stream",
     "text": [
      "Vowels in the string: ['a']\n"
     ]
    }
   ],
   "source": [
    "# 29. Extract the vowels from a string and store them in a list using list comprehension\n",
    "text = input(\"Enter a string: \").lower()\n",
    "vowels = [char for char in text if char in \"aeiou\"]\n",
    "print(\"Vowels in the string:\", vowels)\n"
   ]
  },
  {
   "cell_type": "code",
   "execution_count": null,
   "id": "862e02e5-7f91-4c78-b3b4-d412f8d867ac",
   "metadata": {},
   "outputs": [],
   "source": [
    "# 30. Remove all non-numeric characters from a list of strings using list comprehension\n",
    "strings = input(\"Enter strings separated by spaces: \").split()\n",
    "numeric_strings = [\"\".join([char for char in string if char.isdigit()]) for string in strings]\n",
    "print(\"Strings with non-numeric characters removed:\", numeric_strings)\n"
   ]
  },
  {
   "cell_type": "code",
   "execution_count": null,
   "id": "300761fe-acfe-48ca-b1d0-9802b3cb3b7e",
   "metadata": {},
   "outputs": [],
   "source": [
    "#Challenge Level:"
   ]
  },
  {
   "cell_type": "code",
   "execution_count": null,
   "id": "bd19b2dd-d526-4a74-a6f0-96ef9928a2cd",
   "metadata": {},
   "outputs": [],
   "source": [
    "# 31. Generate a list of prime numbers using the Sieve of Eratosthenes algorithm and list comprehension\n",
    "limit = int(input(\"Enter the upper limit: \"))\n",
    "sieve = [True] * (limit + 1)\n",
    "p = 2\n",
    "while p * p <= limit:\n",
    "    if sieve[p]:\n",
    "        for i in range(p * p, limit + 1, p):\n",
    "            sieve[i] = False\n",
    "    p += 1\n",
    "primes = [p for p in range(2, limit + 1) if sieve[p]]\n",
    "print(\"Prime numbers:\", primes)\n"
   ]
  },
  {
   "cell_type": "code",
   "execution_count": null,
   "id": "68b44f1a-25ba-4c60-bcea-b909d69a690c",
   "metadata": {},
   "outputs": [],
   "source": [
    "# 32. Generate a list of all Pythagorean triplets up to a specified limit using list comprehension\n",
    "limit = int(input(\"Enter the upper limit: \"))\n",
    "triplets = [(a, b, c) for a in range(1, limit) for b in range(a, limit) for c in range(b, limit) if a**2 + b**2 == c**2]\n",
    "print(\"Pythagorean triplets:\", triplets)\n"
   ]
  },
  {
   "cell_type": "code",
   "execution_count": null,
   "id": "5f29a929-8980-4f23-b458-f5a56bb6652c",
   "metadata": {},
   "outputs": [],
   "source": [
    "# 33. Generate a list of all possible combinations of two lists using list comprehension\n",
    "list1 = input(\"Enter the first list of elements separated by spaces: \").split()\n",
    "list2 = input(\"Enter the second list of elements separated by spaces: \").split()\n",
    "combinations = [(x, y) for x in list1 for y in list2]\n",
    "print(\"Combinations:\", combinations)\n"
   ]
  },
  {
   "cell_type": "code",
   "execution_count": null,
   "id": "e1e420d4-af35-4b28-a41b-cdf7cbe86697",
   "metadata": {},
   "outputs": [],
   "source": [
    "# 34. Calculate the mean, median, and mode of a list of numbers using list comprehension\n",
    "from collections import Counter\n",
    "\n",
    "numbers = sorted(list(map(int, input(\"Enter numbers separated by spaces: \").split())))\n",
    "mean = sum(numbers) / len(numbers)\n",
    "median = (numbers[len(numbers) // 2] if len(numbers) % 2 != 0 else (numbers[len(numbers) // 2 - 1] + numbers[len(numbers) // 2]) / 2)\n",
    "mode = Counter(numbers).most_common(1)[0][0]\n",
    "print(f\"Mean: {mean}, Median: {median}, Mode: {mode}\")\n"
   ]
  },
  {
   "cell_type": "code",
   "execution_count": null,
   "id": "12984af1-d2aa-4627-832e-ca12fa442bc5",
   "metadata": {},
   "outputs": [],
   "source": [
    "# 35. Generate Pascal's triangle up to a specified number of rows using list comprehension\n",
    "rows = int(input(\"Enter the number of rows: \"))\n",
    "triangle = [[1 if i == 0 or i == j else triangle[j-1][i-1] + triangle[j-1][i] for i in range(j+1)] for j in range(rows)]\n",
    "print(\"Pascal's Triangle:\")\n",
    "for row in triangle:\n",
    "    print(row)\n"
   ]
  },
  {
   "cell_type": "code",
   "execution_count": null,
   "id": "221c63ef-8593-4b93-91f1-98e1fb2e59e5",
   "metadata": {},
   "outputs": [],
   "source": [
    "# 36. Calculate the sum of the digits of a factorial of numbers from 1 to 5 using list comprehension\n",
    "import math\n",
    "\n",
    "digit_sums = [sum(int(digit) for digit in str(math.factorial(n))) for n in range(1, 6)]\n",
    "print(\"Sum of digits of factorials:\", digit_sums)\n"
   ]
  },
  {
   "cell_type": "code",
   "execution_count": null,
   "id": "50eea038-b7d8-4777-9e65-d4610c8b7765",
   "metadata": {},
   "outputs": [],
   "source": [
    "# 37. Find the longest word in a sentence using list comprehension\n",
    "sentence = input(\"Enter a sentence: \").split()\n",
    "longest_word = max([word for word in sentence], key=len)\n",
    "print(\"Longest word:\", longest_word)\n"
   ]
  },
  {
   "cell_type": "code",
   "execution_count": null,
   "id": "b340eb91-ef54-49e2-9154-688e9a3aaa2d",
   "metadata": {},
   "outputs": [],
   "source": [
    "# 38. Filter a list of strings to include only those with more than three vowels using list comprehension\n",
    "words = input(\"Enter words separated by spaces: \").split()\n",
    "filtered_words = [word for word in words if sum(1 for char in word if char.lower() in 'aeiou') > 3]\n",
    "print(\"Words with more than three vowels:\", filtered_words)\n"
   ]
  },
  {
   "cell_type": "code",
   "execution_count": null,
   "id": "d514b131-6f9a-4ea1-b1df-afd0d95bd5ad",
   "metadata": {},
   "outputs": [],
   "source": [
    "# 39. Calculate the sum of the digits of numbers from 1 to 1000 using list comprehension\n",
    "digit_sums = [sum(int(digit) for digit in str(num)) for num in range(1, 1001)]\n",
    "print(\"Sum of digits from 1 to 1000:\", digit_sums)\n"
   ]
  },
  {
   "cell_type": "code",
   "execution_count": null,
   "id": "c46054f9-cf5e-40e5-98d0-7b6d093a3686",
   "metadata": {},
   "outputs": [],
   "source": [
    "# 40. Generate a list of prime palindromic numbers using list comprehension\n",
    "limit = int(input(\"Enter the upper limit: \"))\n",
    "sieve = [True] * (limit + 1)\n",
    "p = 2\n",
    "while p * p <= limit:\n",
    "    if sieve[p]:\n",
    "        for i in range(p * p, limit + 1, p):\n",
    "            sieve[i] = False\n",
    "    p += 1\n",
    "prime_palindromes = [p for p in range(2, limit + 1) if sieve[p] and str(p) == str(p)[::-1]]\n",
    "print(\"Prime palindromic numbers:\", prime_palindromes)\n"
   ]
  },
  {
   "cell_type": "code",
   "execution_count": null,
   "id": "a58f89cd-cf23-49a7-896a-75871cb3cb32",
   "metadata": {},
   "outputs": [],
   "source": []
  },
  {
   "cell_type": "code",
   "execution_count": null,
   "id": "faf75e37-e724-4459-92cc-4f92eb26b525",
   "metadata": {},
   "outputs": [],
   "source": []
  },
  {
   "cell_type": "code",
   "execution_count": null,
   "id": "d28f052f-0823-4484-9b9a-7b1bde45ca7d",
   "metadata": {},
   "outputs": [],
   "source": []
  },
  {
   "cell_type": "code",
   "execution_count": null,
   "id": "deb95f94-2ca6-4085-94be-ebff7d590fa1",
   "metadata": {},
   "outputs": [],
   "source": []
  },
  {
   "cell_type": "code",
   "execution_count": null,
   "id": "60174aa2-f95e-44c6-a234-bc9a9ff9eebb",
   "metadata": {},
   "outputs": [],
   "source": []
  },
  {
   "cell_type": "code",
   "execution_count": null,
   "id": "b8fa669c-ca8d-4a3f-b93a-7d740072b13d",
   "metadata": {},
   "outputs": [],
   "source": []
  }
 ],
 "metadata": {
  "kernelspec": {
   "display_name": "Python 3 (ipykernel)",
   "language": "python",
   "name": "python3"
  },
  "language_info": {
   "codemirror_mode": {
    "name": "ipython",
    "version": 3
   },
   "file_extension": ".py",
   "mimetype": "text/x-python",
   "name": "python",
   "nbconvert_exporter": "python",
   "pygments_lexer": "ipython3",
   "version": "3.12.5"
  }
 },
 "nbformat": 4,
 "nbformat_minor": 5
}
