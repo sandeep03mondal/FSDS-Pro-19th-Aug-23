{
 "cells": [
  {
   "cell_type": "code",
   "execution_count": null,
   "id": "b949461d-2ee6-4555-b9e2-7672ad5cf0fe",
   "metadata": {},
   "outputs": [],
   "source": [
    "#TOPIC: Python Basics Variable"
   ]
  },
  {
   "cell_type": "code",
   "execution_count": 2,
   "id": "85cecd34-3463-49b6-8134-18eb9fccc5f6",
   "metadata": {},
   "outputs": [
    {
     "name": "stdout",
     "output_type": "stream",
     "text": [
      "Before swapping: x=10,y=15\n",
      "After swapping: x=15,y=10\n"
     ]
    }
   ],
   "source": [
    "\"\"\"1. Declare two variables, `x` and `y`, and assign them integer values. Swap the\n",
    "values of these variables without using any temporary variable.\"\"\"\n",
    "\n",
    "x,y=10,15\n",
    "print(f\"Before swapping: x={x},y={y}\")\n",
    "x,y=y,x\n",
    "print(f\"After swapping: x={x},y={y}\")"
   ]
  },
  {
   "cell_type": "code",
   "execution_count": 4,
   "id": "8e7acc6e-6993-4455-9542-c8d6398514d2",
   "metadata": {},
   "outputs": [
    {
     "name": "stdin",
     "output_type": "stream",
     "text": [
      "Enter the length and width using comma (eg. 10,15) 10,12\n"
     ]
    },
    {
     "name": "stdout",
     "output_type": "stream",
     "text": [
      "Area of the rectangle is: 120.0 sq.unit\n"
     ]
    }
   ],
   "source": [
    "\"\"\"2. Create a program that calculates the area of a rectangle. Take the length and\n",
    "width as inputs from the user and store them in variables. Calculate and\n",
    "display the area.\"\"\"\n",
    "\n",
    "x,y=list(map(float,input(\"Enter the length and width using comma (eg. 10,15)\").split(\",\")))\n",
    "area=x*y\n",
    "print(f\"Area of the rectangle is: {area} sq.unit\")"
   ]
  },
  {
   "cell_type": "code",
   "execution_count": 9,
   "id": "09af51a6-5e60-4fa3-b65d-d8adacded6ab",
   "metadata": {},
   "outputs": [
    {
     "name": "stdin",
     "output_type": "stream",
     "text": [
      "Enter the temp.:  36\n"
     ]
    },
    {
     "name": "stdout",
     "output_type": "stream",
     "text": [
      "Temp. in farenheit: 96.8\n"
     ]
    }
   ],
   "source": [
    "\"\"\"3. Write a Python program that converts temperatures from Celsius to\n",
    "Fahrenheit. Take the temperature in Celsius as input, store it in a variable,\n",
    "convert it to Fahrenheit, and display the result.\"\"\"\n",
    "\n",
    "cel=float(input(\"Enter the temp.: \"))\n",
    "far=((9/5)*cel)+32\n",
    "print(f\"Temp. in farenheit: {far}\")\n"
   ]
  },
  {
   "cell_type": "code",
   "execution_count": null,
   "id": "3d14fed7-9718-474c-afe7-2d1c97adde6f",
   "metadata": {},
   "outputs": [],
   "source": [
    "#TOPIC: String Based Questions"
   ]
  },
  {
   "cell_type": "code",
   "execution_count": 11,
   "id": "8f9590df-2822-41ad-a106-262f48f7538c",
   "metadata": {},
   "outputs": [
    {
     "name": "stdin",
     "output_type": "stream",
     "text": [
      "Enter any string:  Sand\n"
     ]
    },
    {
     "name": "stdout",
     "output_type": "stream",
     "text": [
      "Length of the string:  4\n"
     ]
    }
   ],
   "source": [
    "\"\"\"1. Write a Python program that takes a string as input and prints the length of\n",
    "the string.\"\"\"\n",
    "\n",
    "st=input(\"Enter any string: \")\n",
    "print(\"Length of the string: \",len(st))"
   ]
  },
  {
   "cell_type": "code",
   "execution_count": 17,
   "id": "26b1957a-bc89-4e77-ab36-97cd4fedc803",
   "metadata": {},
   "outputs": [
    {
     "name": "stdin",
     "output_type": "stream",
     "text": [
      "Enter any string:  AAAAAAAAAAAAAAAAAAAAA\n"
     ]
    },
    {
     "name": "stdout",
     "output_type": "stream",
     "text": [
      "Number of vowel: 21\n"
     ]
    }
   ],
   "source": [
    "\"\"\"2. Create a program that takes a sentence from the user and counts the number\n",
    "of vowels (a, e, i, o, u) in the string.\"\"\"\n",
    "\n",
    "st=input(\"Enter any string: \")\n",
    "vowel=[\"a\",\"e\",\"i\",\"o\",\"u\"]\n",
    "st_low=st.lower()\n",
    "count=0\n",
    "for char in st_low:\n",
    "    if char in vowel:\n",
    "        count+=1\n",
    "print(\"Number of vowel:\",count)"
   ]
  },
  {
   "cell_type": "code",
   "execution_count": 18,
   "id": "08911602-1cb3-4b22-b401-008c8d52c197",
   "metadata": {},
   "outputs": [
    {
     "name": "stdin",
     "output_type": "stream",
     "text": [
      "Enter any string:  Sandeep\n"
     ]
    },
    {
     "name": "stdout",
     "output_type": "stream",
     "text": [
      "Reversed:  peednaS\n"
     ]
    }
   ],
   "source": [
    "\"\"\"3. Given a string, reverse the order of characters using string slicing and print\n",
    "the reversed string.\"\"\"\n",
    "\n",
    "st=input(\"Enter any string: \")\n",
    "rev=st[::-1]\n",
    "print(\"Reversed: \",rev)"
   ]
  },
  {
   "cell_type": "code",
   "execution_count": 21,
   "id": "097830ff-a90b-4c68-acd8-4f66b43eee22",
   "metadata": {},
   "outputs": [
    {
     "name": "stdin",
     "output_type": "stream",
     "text": [
      "Enter any string:  Abba\n"
     ]
    },
    {
     "name": "stdout",
     "output_type": "stream",
     "text": [
      "Not palindrome string.\n"
     ]
    }
   ],
   "source": [
    "\"\"\"4. Write a program that takes a string as input and checks if it is a palindrome\n",
    "(reads the same forwards and backwards).\"\"\"\n",
    "\n",
    "st=input(\"Enter any string: \")\n",
    "rev=st[::-1]\n",
    "if (st==rev):\n",
    "    print(\"It is a palindrome string.\")\n",
    "else:\n",
    "    print(\"Not palindrome string.\")"
   ]
  },
  {
   "cell_type": "code",
   "execution_count": 24,
   "id": "c8f5f758-b795-4ea4-9cdf-e4c53408f0ec",
   "metadata": {},
   "outputs": [
    {
     "name": "stdin",
     "output_type": "stream",
     "text": [
      "Enter any string:    S a n dee p  \n"
     ]
    },
    {
     "name": "stdout",
     "output_type": "stream",
     "text": [
      "String before modify:   S a n dee p  \n",
      "String after modify: Sandeep\n"
     ]
    }
   ],
   "source": [
    "\"\"\"5. Create a program that takes a string as input and removes all the spaces from\n",
    "it. Print the modified string without spaces.\"\"\"\n",
    "\n",
    "st=input(\"Enter any string: \")\n",
    "ans=lambda x:(x.replace(\" \",\"\"))\n",
    "print(f\"String before modify: {st}\\nString after modify: {ans(st)}\")"
   ]
  },
  {
   "cell_type": "code",
   "execution_count": null,
   "id": "5d962508-f6ed-443d-88a7-d3bb0de07db0",
   "metadata": {},
   "outputs": [],
   "source": []
  }
 ],
 "metadata": {
  "kernelspec": {
   "display_name": "Python 3 (ipykernel)",
   "language": "python",
   "name": "python3"
  },
  "language_info": {
   "codemirror_mode": {
    "name": "ipython",
    "version": 3
   },
   "file_extension": ".py",
   "mimetype": "text/x-python",
   "name": "python",
   "nbconvert_exporter": "python",
   "pygments_lexer": "ipython3",
   "version": "3.12.5"
  }
 },
 "nbformat": 4,
 "nbformat_minor": 5
}
