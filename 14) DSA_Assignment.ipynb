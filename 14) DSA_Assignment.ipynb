{
 "cells": [
  {
   "cell_type": "code",
   "execution_count": 1,
   "id": "dbfc0a9a-634b-4816-bb0e-40920a8a5e97",
   "metadata": {},
   "outputs": [
    {
     "name": "stdout",
     "output_type": "stream",
     "text": [
      "5 -> 4 -> 3 -> 2 -> 1\n"
     ]
    }
   ],
   "source": [
    "# Problem 1: Reverse a singly linked list\n",
    "\n",
    "class Node:\n",
    "    def __init__(self, data):\n",
    "        self.data = data\n",
    "        self.next = None\n",
    "\n",
    "def reverse_list(head):\n",
    "    prev = None\n",
    "    current = head\n",
    "    while current:\n",
    "        next_node = current.next\n",
    "        current.next = prev\n",
    "        prev = current\n",
    "        current = next_node\n",
    "    return prev\n",
    "\n",
    "def print_list(head):\n",
    "    current = head\n",
    "    while current:\n",
    "        print(current.data, end=\" -> \" if current.next else \"\")\n",
    "        current = current.next\n",
    "    print()\n",
    "\n",
    "head = Node(1)\n",
    "head.next = Node(2)\n",
    "head.next.next = Node(3)\n",
    "head.next.next.next = Node(4)\n",
    "head.next.next.next.next = Node(5)\n",
    "\n",
    "head = reverse_list(head)\n",
    "print_list(head)\n"
   ]
  },
  {
   "cell_type": "code",
   "execution_count": 2,
   "id": "8aa54ee2-f577-4296-a825-6455d5c574cc",
   "metadata": {},
   "outputs": [
    {
     "name": "stdout",
     "output_type": "stream",
     "text": [
      "1 -> 2 -> 3 -> 4 -> 5 -> 6\n"
     ]
    }
   ],
   "source": [
    "# Problem 2: Merge two sorted linked lists into one sorted linked list\n",
    "\n",
    "class Node:\n",
    "    def __init__(self, data):\n",
    "        self.data = data\n",
    "        self.next = None\n",
    "\n",
    "def merge_lists(l1, l2):\n",
    "    dummy = Node(0)\n",
    "    tail = dummy\n",
    "    while l1 and l2:\n",
    "        if l1.data < l2.data:\n",
    "            tail.next = l1\n",
    "            l1 = l1.next\n",
    "        else:\n",
    "            tail.next = l2\n",
    "            l2 = l2.next\n",
    "        tail = tail.next\n",
    "    tail.next = l1 or l2\n",
    "    return dummy.next\n",
    "\n",
    "def print_list(head):\n",
    "    current = head\n",
    "    while current:\n",
    "        print(current.data, end=\" -> \" if current.next else \"\")\n",
    "        current = current.next\n",
    "    print()\n",
    "\n",
    "l1 = Node(1)\n",
    "l1.next = Node(3)\n",
    "l1.next.next = Node(5)\n",
    "\n",
    "l2 = Node(2)\n",
    "l2.next = Node(4)\n",
    "l2.next.next = Node(6)\n",
    "\n",
    "merged_head = merge_lists(l1, l2)\n",
    "print_list(merged_head)\n"
   ]
  },
  {
   "cell_type": "code",
   "execution_count": 3,
   "id": "bdd23d8a-eef1-49e1-8b5f-0c24da605e83",
   "metadata": {},
   "outputs": [
    {
     "name": "stdout",
     "output_type": "stream",
     "text": [
      "1 -> 2 -> 3 -> 5\n"
     ]
    }
   ],
   "source": [
    "# Problem 3: Remove the nth node from the end of a linked list\n",
    "\n",
    "class Node:\n",
    "    def __init__(self, data):\n",
    "        self.data = data\n",
    "        self.next = None\n",
    "\n",
    "def remove_nth_from_end(head, n):\n",
    "    dummy = Node(0)\n",
    "    dummy.next = head\n",
    "    slow = fast = dummy\n",
    "    for _ in range(n + 1):\n",
    "        fast = fast.next\n",
    "    while fast:\n",
    "        slow = slow.next\n",
    "        fast = fast.next\n",
    "    slow.next = slow.next.next\n",
    "    return dummy.next\n",
    "\n",
    "def print_list(head):\n",
    "    current = head\n",
    "    while current:\n",
    "        print(current.data, end=\" -> \" if current.next else \"\")\n",
    "        current = current.next\n",
    "    print()\n",
    "\n",
    "head = Node(1)\n",
    "head.next = Node(2)\n",
    "head.next.next = Node(3)\n",
    "head.next.next.next = Node(4)\n",
    "head.next.next.next.next = Node(5)\n",
    "\n",
    "head = remove_nth_from_end(head, 2)\n",
    "print_list(head)\n"
   ]
  },
  {
   "cell_type": "code",
   "execution_count": 4,
   "id": "23b168f3-d5d1-4063-b167-4f71e9798fbf",
   "metadata": {},
   "outputs": [
    {
     "name": "stdout",
     "output_type": "stream",
     "text": [
      "Node with value 3\n"
     ]
    }
   ],
   "source": [
    "# Problem 4: Find the intersection point of two linked lists\n",
    "\n",
    "class Node:\n",
    "    def __init__(self, data):\n",
    "        self.data = data\n",
    "        self.next = None\n",
    "\n",
    "def get_intersection_node(head1, head2):\n",
    "    nodes = set()\n",
    "    while head1:\n",
    "        nodes.add(head1)\n",
    "        head1 = head1.next\n",
    "    while head2:\n",
    "        if head2 in nodes:\n",
    "            return head2\n",
    "        head2 = head2.next\n",
    "    return None\n",
    "\n",
    "def print_list(head):\n",
    "    current = head\n",
    "    while current:\n",
    "        print(current.data, end=\" -> \" if current.next else \"\")\n",
    "        current = current.next\n",
    "    print()\n",
    "\n",
    "list1 = Node(1)\n",
    "list1.next = Node(2)\n",
    "list1.next.next = Node(3)\n",
    "list1.next.next.next = Node(4)\n",
    "\n",
    "list2 = Node(9)\n",
    "list2.next = Node(8)\n",
    "list2.next.next = list1.next.next\n",
    "\n",
    "intersection = get_intersection_node(list1, list2)\n",
    "if intersection:\n",
    "    print(f\"Node with value {intersection.data}\")\n",
    "else:\n",
    "    print(\"No intersection\")\n"
   ]
  },
  {
   "cell_type": "code",
   "execution_count": 5,
   "id": "02f1de5a-dc25-4184-8bb9-dc73d57ce862",
   "metadata": {},
   "outputs": [
    {
     "name": "stdout",
     "output_type": "stream",
     "text": [
      "1 -> 2 -> 3\n"
     ]
    }
   ],
   "source": [
    "# Problem 5: Remove duplicates from a sorted linked list\n",
    "\n",
    "class Node:\n",
    "    def __init__(self, data):\n",
    "        self.data = data\n",
    "        self.next = None\n",
    "\n",
    "def remove_duplicates(head):\n",
    "    current = head\n",
    "    while current and current.next:\n",
    "        if current.data == current.next.data:\n",
    "            current.next = current.next.next\n",
    "        else:\n",
    "            current = current.next\n",
    "    return head\n",
    "\n",
    "def print_list(head):\n",
    "    current = head\n",
    "    while current:\n",
    "        print(current.data, end=\" -> \" if current.next else \"\")\n",
    "        current = current.next\n",
    "    print()\n",
    "\n",
    "head = Node(1)\n",
    "head.next = Node(1)\n",
    "head.next.next = Node(2)\n",
    "head.next.next.next = Node(3)\n",
    "head.next.next.next.next = Node(3)\n",
    "\n",
    "head = remove_duplicates(head)\n",
    "print_list(head)\n"
   ]
  },
  {
   "cell_type": "code",
   "execution_count": 6,
   "id": "6d435075-b844-420d-becf-ba10b945979f",
   "metadata": {},
   "outputs": [
    {
     "name": "stdout",
     "output_type": "stream",
     "text": [
      "7 -> 0 -> 8\n"
     ]
    }
   ],
   "source": [
    "# Problem 6: Add two numbers represented by linked lists\n",
    "\n",
    "class Node:\n",
    "    def __init__(self, data):\n",
    "        self.data = data\n",
    "        self.next = None\n",
    "\n",
    "def add_two_numbers(l1, l2):\n",
    "    dummy = Node(0)\n",
    "    current = dummy\n",
    "    carry = 0\n",
    "    while l1 or l2 or carry:\n",
    "        sum_val = carry\n",
    "        if l1:\n",
    "            sum_val += l1.data\n",
    "            l1 = l1.next\n",
    "        if l2:\n",
    "            sum_val += l2.data\n",
    "            l2 = l2.next\n",
    "        carry, sum_val = divmod(sum_val, 10)\n",
    "        current.next = Node(sum_val)\n",
    "        current = current.next\n",
    "    return dummy.next\n",
    "\n",
    "def print_list(head):\n",
    "    current = head\n",
    "    while current:\n",
    "        print(current.data, end=\" -> \" if current.next else \"\")\n",
    "        current = current.next\n",
    "    print()\n",
    "\n",
    "l1 = Node(2)\n",
    "l1.next = Node(4)\n",
    "l1.next.next = Node(3)\n",
    "\n",
    "l2 = Node(5)\n",
    "l2.next = Node(6)\n",
    "l2.next.next = Node(4)\n",
    "\n",
    "result = add_two_numbers(l1, l2)\n",
    "print_list(result)\n"
   ]
  },
  {
   "cell_type": "code",
   "execution_count": 7,
   "id": "f96ef21c-da68-41b8-b55f-ca94bafd1363",
   "metadata": {},
   "outputs": [
    {
     "name": "stdout",
     "output_type": "stream",
     "text": [
      "2 -> 1 -> 4 -> 3\n"
     ]
    }
   ],
   "source": [
    "# Problem 7: Swap nodes in pairs in a linked list\n",
    "\n",
    "class Node:\n",
    "    def __init__(self, data):\n",
    "        self.data = data\n",
    "        self.next = None\n",
    "\n",
    "def swap_pairs(head):\n",
    "    dummy = Node(0)\n",
    "    dummy.next = head\n",
    "    prev = dummy\n",
    "    while head and head.next:\n",
    "        first = head\n",
    "        second = head.next\n",
    "        prev.next = second\n",
    "        first.next = second.next\n",
    "        second.next = first\n",
    "        prev = first\n",
    "        head = first.next\n",
    "    return dummy.next\n",
    "\n",
    "def print_list(head):\n",
    "    current = head\n",
    "    while current:\n",
    "        print(current.data, end=\" -> \" if current.next else \"\")\n",
    "        current = current.next\n",
    "    print()\n",
    "\n",
    "head = Node(1)\n",
    "head.next = Node(2)\n",
    "head.next.next = Node(3)\n",
    "head.next.next.next = Node(4)\n",
    "\n",
    "head = swap_pairs(head)\n",
    "print_list(head)\n"
   ]
  },
  {
   "cell_type": "code",
   "execution_count": 8,
   "id": "4c5a42e5-66e3-4cda-ae7e-81e401064d26",
   "metadata": {},
   "outputs": [
    {
     "name": "stdout",
     "output_type": "stream",
     "text": [
      "3 -> 2 -> 1 -> 4 -> 5\n"
     ]
    }
   ],
   "source": [
    "# Problem 8: Reverse nodes in a linked list in groups of k\n",
    "\n",
    "class Node:\n",
    "    def __init__(self, data):\n",
    "        self.data = data\n",
    "        self.next = None\n",
    "\n",
    "def reverse_k_group(head, k):\n",
    "    dummy = Node(0)\n",
    "    dummy.next = head\n",
    "    prev = dummy\n",
    "    while True:\n",
    "        count = 0\n",
    "        start = prev.next\n",
    "        end = prev\n",
    "        while end.next and count < k:\n",
    "            end = end.next\n",
    "            count += 1\n",
    "        if count < k:\n",
    "            break\n",
    "        next_group = end.next\n",
    "        end.next = None\n",
    "        prev.next = reverse_list(start)\n",
    "        start.next = next_group\n",
    "        prev = start\n",
    "    return dummy.next\n",
    "\n",
    "def reverse_list(head):\n",
    "    prev = None\n",
    "    current = head\n",
    "    while current:\n",
    "        next_node = current.next\n",
    "        current.next = prev\n",
    "        prev = current\n",
    "        current = next_node\n",
    "    return prev\n",
    "\n",
    "def print_list(head):\n",
    "    current = head\n",
    "    while current:\n",
    "        print(current.data, end=\" -> \" if current.next else \"\")\n",
    "        current = current.next\n",
    "    print()\n",
    "\n",
    "head = Node(1)\n",
    "head.next = Node(2)\n",
    "head.next.next = Node(3)\n",
    "head.next.next.next = Node(4)\n",
    "head.next.next.next.next = Node(5)\n",
    "\n",
    "head = reverse_k_group(head, 3)\n",
    "print_list(head)\n"
   ]
  },
  {
   "cell_type": "code",
   "execution_count": 9,
   "id": "490f4de5-2dba-4cce-91ee-30e4684d3580",
   "metadata": {},
   "outputs": [
    {
     "name": "stdout",
     "output_type": "stream",
     "text": [
      "True\n"
     ]
    }
   ],
   "source": [
    "# Problem 9: Determine if a linked list is a palindrome\n",
    "\n",
    "class Node:\n",
    "    def __init__(self, data):\n",
    "        self.data = data\n",
    "        self.next = None\n",
    "\n",
    "def is_palindrome(head):\n",
    "    slow = fast = head\n",
    "    stack = []\n",
    "    \n",
    "    while fast and fast.next:\n",
    "        stack.append(slow.data)\n",
    "        slow = slow.next\n",
    "        fast = fast.next.next\n",
    "\n",
    "    if fast:\n",
    "        slow = slow.next\n",
    "    \n",
    "    while slow:\n",
    "        top = stack.pop()\n",
    "        if slow.data != top:\n",
    "            return False\n",
    "        slow = slow.next\n",
    "    \n",
    "    return True\n",
    "\n",
    "def print_list(head):\n",
    "    current = head\n",
    "    while current:\n",
    "        print(current.data, end=\" -> \" if current.next else \"\")\n",
    "        current = current.next\n",
    "    print()\n",
    "\n",
    "head = Node(1)\n",
    "head.next = Node(2)\n",
    "head.next.next = Node(2)\n",
    "head.next.next.next = Node(1)\n",
    "\n",
    "print(is_palindrome(head))\n"
   ]
  },
  {
   "cell_type": "code",
   "execution_count": 10,
   "id": "b538a74f-8175-4d79-a064-ec31c18eafcb",
   "metadata": {},
   "outputs": [
    {
     "name": "stdout",
     "output_type": "stream",
     "text": [
      "4 -> 5 -> 1 -> 2 -> 3\n"
     ]
    }
   ],
   "source": [
    "# Problem 10: Rotate a linked list to the right by k places\n",
    "\n",
    "class Node:\n",
    "    def __init__(self, data):\n",
    "        self.data = data\n",
    "        self.next = None\n",
    "\n",
    "def rotate_right(head, k):\n",
    "    if not head or not head.next:\n",
    "        return head\n",
    "    \n",
    "    length = 1\n",
    "    tail = head\n",
    "    while tail.next:\n",
    "        tail = tail.next\n",
    "        length += 1\n",
    "    \n",
    "    k = k % length\n",
    "    if k == 0:\n",
    "        return head\n",
    "    \n",
    "    tail.next = head\n",
    "    for _ in range(length - k):\n",
    "        tail = tail.next\n",
    "    \n",
    "    new_head = tail.next\n",
    "    tail.next = None\n",
    "    return new_head\n",
    "\n",
    "def print_list(head):\n",
    "    current = head\n",
    "    while current:\n",
    "        print(current.data, end=\" -> \" if current.next else \"\")\n",
    "        current = current.next\n",
    "    print()\n",
    "\n",
    "head = Node(1)\n",
    "head.next = Node(2)\n",
    "head.next.next = Node(3)\n",
    "head.next.next.next = Node(4)\n",
    "head.next.next.next.next = Node(5)\n",
    "\n",
    "head = rotate_right(head, 2)\n",
    "print_list(head)\n"
   ]
  },
  {
   "cell_type": "code",
   "execution_count": 11,
   "id": "d2268043-f268-4ecd-bf89-3148f9084151",
   "metadata": {},
   "outputs": [
    {
     "name": "stdout",
     "output_type": "stream",
     "text": [
      "1 <-> 2 <-> 3 <-> 4 <-> 5\n"
     ]
    }
   ],
   "source": [
    "# Problem 11: Flatten a multilevel doubly linked list\n",
    "\n",
    "class Node:\n",
    "    def __init__(self, data):\n",
    "        self.data = data\n",
    "        self.next = None\n",
    "        self.prev = None\n",
    "        self.child = None\n",
    "\n",
    "def flatten(head):\n",
    "    if not head:\n",
    "        return head\n",
    "    \n",
    "    current = head\n",
    "    while current:\n",
    "        if current.child:\n",
    "            temp = current.child\n",
    "            while temp.next:\n",
    "                temp = temp.next\n",
    "            temp.next = current.next\n",
    "            if current.next:\n",
    "                current.next.prev = temp\n",
    "            current.next = current.child\n",
    "            current.child.prev = current\n",
    "            current.child = None\n",
    "        current = current.next\n",
    "    return head\n",
    "\n",
    "def print_list(head):\n",
    "    current = head\n",
    "    while current:\n",
    "        print(current.data, end=\" <-> \" if current.next else \"\")\n",
    "        current = current.next\n",
    "    print()\n",
    "\n",
    "head = Node(1)\n",
    "head.next = Node(2)\n",
    "head.next.prev = head\n",
    "head.next.next = Node(3)\n",
    "head.next.next.prev = head.next\n",
    "head.next.next.child = Node(4)\n",
    "head.next.next.child.next = Node(5)\n",
    "head.next.next.child.next.prev = head.next.next.child\n",
    "\n",
    "flattened_head = flatten(head)\n",
    "print_list(flattened_head)\n"
   ]
  },
  {
   "cell_type": "code",
   "execution_count": 12,
   "id": "b503fe6a-68f8-4ce2-aa2f-033848e6186d",
   "metadata": {},
   "outputs": [
    {
     "name": "stdout",
     "output_type": "stream",
     "text": [
      "1 -> 3 -> 5 -> 2 -> 4\n"
     ]
    }
   ],
   "source": [
    "# Problem 12: Rearrange a linked list such that all even positioned nodes are placed at the end\n",
    "\n",
    "class Node:\n",
    "    def __init__(self, data):\n",
    "        self.data = data\n",
    "        self.next = None\n",
    "\n",
    "def rearrange_even_odd(head):\n",
    "    if not head:\n",
    "        return None\n",
    "\n",
    "    odd = head\n",
    "    even = head.next\n",
    "    even_head = even\n",
    "    \n",
    "    while even and even.next:\n",
    "        odd.next = even.next\n",
    "        odd = odd.next\n",
    "        even.next = odd.next\n",
    "        even = even.next\n",
    "    \n",
    "    odd.next = even_head\n",
    "    return head\n",
    "\n",
    "def print_list(head):\n",
    "    current = head\n",
    "    while current:\n",
    "        print(current.data, end=\" -> \" if current.next else \"\")\n",
    "        current = current.next\n",
    "    print()\n",
    "\n",
    "head = Node(1)\n",
    "head.next = Node(2)\n",
    "head.next.next = Node(3)\n",
    "head.next.next.next = Node(4)\n",
    "head.next.next.next.next = Node(5)\n",
    "\n",
    "head = rearrange_even_odd(head)\n",
    "print_list(head)\n"
   ]
  },
  {
   "cell_type": "code",
   "execution_count": 13,
   "id": "0b9776fc-147b-4967-995f-90afdc75a7d9",
   "metadata": {},
   "outputs": [
    {
     "name": "stdout",
     "output_type": "stream",
     "text": [
      "1 -> 2 -> 4\n"
     ]
    }
   ],
   "source": [
    "# Problem 13: Given a non-negative number represented as a linked list, add one to it\n",
    "\n",
    "class Node:\n",
    "    def __init__(self, data):\n",
    "        self.data = data\n",
    "        self.next = None\n",
    "\n",
    "def add_one(head):\n",
    "    head = reverse_list(head)\n",
    "    current = head\n",
    "    carry = 1\n",
    "    \n",
    "    while current:\n",
    "        current.data += carry\n",
    "        carry = current.data // 10\n",
    "        current.data = current.data % 10\n",
    "        prev = current\n",
    "        current = current.next\n",
    "    \n",
    "    if carry:\n",
    "        prev.next = Node(carry)\n",
    "    \n",
    "    head = reverse_list(head)\n",
    "    return head\n",
    "\n",
    "def reverse_list(head):\n",
    "    prev = None\n",
    "    current = head\n",
    "    while current:\n",
    "        next_node = current.next\n",
    "        current.next = prev\n",
    "        prev = current\n",
    "        current = next_node\n",
    "    return prev\n",
    "\n",
    "def print_list(head):\n",
    "    current = head\n",
    "    while current:\n",
    "        print(current.data, end=\" -> \" if current.next else \"\")\n",
    "        current = current.next\n",
    "    print()\n",
    "\n",
    "head = Node(1)\n",
    "head.next = Node(2)\n",
    "head.next.next = Node(3)\n",
    "\n",
    "head = add_one(head)\n",
    "print_list(head)\n"
   ]
  },
  {
   "cell_type": "code",
   "execution_count": 14,
   "id": "873acbb0-a53f-4618-b678-aaa05071a581",
   "metadata": {},
   "outputs": [
    {
     "name": "stdout",
     "output_type": "stream",
     "text": [
      "2\n"
     ]
    }
   ],
   "source": [
    "# Problem 14: Given a sorted array and a target value, return the index if the target is found. If not, return the index where it would be inserted\n",
    "\n",
    "def search_insert(nums, target):\n",
    "    left, right = 0, len(nums) - 1\n",
    "    while left <= right:\n",
    "        mid = (left + right) // 2\n",
    "        if nums[mid] == target:\n",
    "            return mid\n",
    "        elif nums[mid] < target:\n",
    "            left = mid + 1\n",
    "        else:\n",
    "            right = mid - 1\n",
    "    return left\n",
    "\n",
    "nums = [1, 3, 5, 6]\n",
    "target = 5\n",
    "print(search_insert(nums, target))\n"
   ]
  },
  {
   "cell_type": "code",
   "execution_count": 15,
   "id": "41ceff4e-99a4-426c-a471-2d670ddd7dfe",
   "metadata": {},
   "outputs": [
    {
     "name": "stdout",
     "output_type": "stream",
     "text": [
      "0\n"
     ]
    }
   ],
   "source": [
    "# Problem 15: Find the minimum element in a rotated sorted array\n",
    "\n",
    "def find_min(nums):\n",
    "    left, right = 0, len(nums) - 1\n",
    "    while left < right:\n",
    "        mid = (left + right) // 2\n",
    "        if nums[mid] > nums[right]:\n",
    "            left = mid + 1\n",
    "        else:\n",
    "            right = mid\n",
    "    return nums[left]\n",
    "\n",
    "nums = [4, 5, 6, 7, 0, 1, 2]\n",
    "print(find_min(nums))\n"
   ]
  },
  {
   "cell_type": "code",
   "execution_count": 16,
   "id": "59ff5ecc-bad4-4335-a8f1-23e64f5269fe",
   "metadata": {},
   "outputs": [
    {
     "name": "stdout",
     "output_type": "stream",
     "text": [
      "4\n"
     ]
    }
   ],
   "source": [
    "# Problem 16: Search for a target value in a rotated sorted array\n",
    "\n",
    "def search(nums, target):\n",
    "    left, right = 0, len(nums) - 1\n",
    "    while left <= right:\n",
    "        mid = (left + right) // 2\n",
    "        if nums[mid] == target:\n",
    "            return mid\n",
    "        if nums[left] <= nums[mid]:\n",
    "            if nums[left] <= target < nums[mid]:\n",
    "                right = mid - 1\n",
    "            else:\n",
    "                left = mid + 1\n",
    "        else:\n",
    "            if nums[mid] < target <= nums[right]:\n",
    "                left = mid + 1\n",
    "            else:\n",
    "                right = mid - 1\n",
    "    return -1\n",
    "\n",
    "nums = [4, 5, 6, 7, 0, 1, 2]\n",
    "target = 0\n",
    "print(search(nums, target))\n"
   ]
  },
  {
   "cell_type": "code",
   "execution_count": 17,
   "id": "07def80a-5f90-4e7c-a87f-79258e529ab4",
   "metadata": {},
   "outputs": [
    {
     "name": "stdout",
     "output_type": "stream",
     "text": [
      "2\n"
     ]
    }
   ],
   "source": [
    "# Problem 17: Find the peak element in an array\n",
    "\n",
    "def find_peak_element(nums):\n",
    "    left, right = 0, len(nums) - 1\n",
    "    while left < right:\n",
    "        mid = (left + right) // 2\n",
    "        if nums[mid] > nums[mid + 1]:\n",
    "            right = mid\n",
    "        else:\n",
    "            left = mid + 1\n",
    "    return left\n",
    "\n",
    "nums = [1, 2, 3, 1]\n",
    "print(find_peak_element(nums))\n"
   ]
  },
  {
   "cell_type": "code",
   "execution_count": 18,
   "id": "57975fe0-2400-43cf-a91c-0a9b848f56d0",
   "metadata": {},
   "outputs": [
    {
     "name": "stdout",
     "output_type": "stream",
     "text": [
      "8\n"
     ]
    }
   ],
   "source": [
    "# Problem 18: Count the number of negative numbers in a matrix where each row and column is sorted in ascending order\n",
    "\n",
    "def count_negatives(grid):\n",
    "    count = 0\n",
    "    for row in grid:\n",
    "        for num in row:\n",
    "            if num < 0:\n",
    "                count += 1\n",
    "    return count\n",
    "\n",
    "grid = [[4, 3, 2, -1], [3, 2, 1, -1], [1, 1, -1, -2], [-1, -1, -2, -3]]\n",
    "print(count_negatives(grid))\n"
   ]
  },
  {
   "cell_type": "code",
   "execution_count": 19,
   "id": "763d38c0-6021-4c08-88d8-13e4b4695a4b",
   "metadata": {},
   "outputs": [
    {
     "name": "stdout",
     "output_type": "stream",
     "text": [
      "True\n"
     ]
    }
   ],
   "source": [
    "# Problem 19: Determine if a target value is present in a 2D matrix\n",
    "\n",
    "def search_matrix(matrix, target):\n",
    "    if not matrix:\n",
    "        return False\n",
    "    \n",
    "    rows, cols = len(matrix), len(matrix[0])\n",
    "    left, right = 0, rows * cols - 1\n",
    "    \n",
    "    while left <= right:\n",
    "        mid = (left + right) // 2\n",
    "        mid_value = matrix[mid // cols][mid % cols]\n",
    "        \n",
    "        if mid_value == target:\n",
    "            return True\n",
    "        elif mid_value < target:\n",
    "            left = mid + 1\n",
    "        else:\n",
    "            right = mid - 1\n",
    "    \n",
    "    return False\n",
    "\n",
    "matrix = [[1, 3, 5, 7], [10, 11, 16, 20], [23, 30, 34, 60]]\n",
    "target = 3\n",
    "print(search_matrix(matrix, target))\n"
   ]
  },
  {
   "cell_type": "code",
   "execution_count": 20,
   "id": "c0c68168-3f1d-4446-b367-0f8c849e318c",
   "metadata": {},
   "outputs": [
    {
     "name": "stdout",
     "output_type": "stream",
     "text": [
      "2.0\n"
     ]
    }
   ],
   "source": [
    "# Problem 20: Find the median in two sorted arrays\n",
    "\n",
    "def find_median_sorted_arrays(nums1, nums2):\n",
    "    nums = sorted(nums1 + nums2)\n",
    "    length = len(nums)\n",
    "    if length % 2 == 1:\n",
    "        return float(nums[length // 2])\n",
    "    else:\n",
    "        return (nums[length // 2 - 1] + nums[length // 2]) / 2.0\n",
    "\n",
    "nums1 = [1, 3]\n",
    "nums2 = [2]\n",
    "print(find_median_sorted_arrays(nums1, nums2))\n"
   ]
  },
  {
   "cell_type": "code",
   "execution_count": 21,
   "id": "239dc9eb-318b-4bf5-b4fa-bf80f4bbbb71",
   "metadata": {},
   "outputs": [
    {
     "name": "stdout",
     "output_type": "stream",
     "text": [
      "c\n"
     ]
    }
   ],
   "source": [
    "# Problem 21: Find the smallest letter greater than the target\n",
    "\n",
    "def next_greatest_letter(letters, target):\n",
    "    for letter in letters:\n",
    "        if letter > target:\n",
    "            return letter\n",
    "    return letters[0]\n",
    "\n",
    "letters = ['c', 'f', 'j']\n",
    "target = 'a'\n",
    "print(next_greatest_letter(letters, target))\n"
   ]
  },
  {
   "cell_type": "code",
   "execution_count": 22,
   "id": "823d84a9-af82-40fc-9f3a-b93f34d8b99e",
   "metadata": {},
   "outputs": [
    {
     "name": "stdout",
     "output_type": "stream",
     "text": [
      "[0, 0, 1, 1, 2, 2]\n"
     ]
    }
   ],
   "source": [
    "# Problem 22: Sort colors in-place (red, white, blue)\n",
    "\n",
    "def sort_colors(nums):\n",
    "    low, mid, high = 0, 0, len(nums) - 1\n",
    "    while mid <= high:\n",
    "        if nums[mid] == 0:\n",
    "            nums[low], nums[mid] = nums[mid], nums[low]\n",
    "            low += 1\n",
    "            mid += 1\n",
    "        elif nums[mid] == 1:\n",
    "            mid += 1\n",
    "        else:\n",
    "            nums[mid], nums[high] = nums[high], nums[mid]\n",
    "            high -= 1\n",
    "    return nums\n",
    "\n",
    "nums = [2, 0, 2, 1, 1, 0]\n",
    "print(sort_colors(nums))\n"
   ]
  },
  {
   "cell_type": "code",
   "execution_count": 23,
   "id": "1787ce80-a27a-40d9-97ad-45c2140b15d8",
   "metadata": {},
   "outputs": [
    {
     "name": "stdout",
     "output_type": "stream",
     "text": [
      "5\n"
     ]
    }
   ],
   "source": [
    "# Problem 23: Find the kth largest element in an unsorted array\n",
    "\n",
    "import heapq\n",
    "\n",
    "def find_kth_largest(nums, k):\n",
    "    return heapq.nlargest(k, nums)[-1]\n",
    "\n",
    "nums = [3, 2, 1, 5, 6, 4]\n",
    "k = 2\n",
    "print(find_kth_largest(nums, k))\n"
   ]
  },
  {
   "cell_type": "code",
   "execution_count": 24,
   "id": "34a95e96-7eaa-4d0a-ae1b-f14cd25059ba",
   "metadata": {},
   "outputs": [
    {
     "name": "stdout",
     "output_type": "stream",
     "text": [
      "[3, 5, 1, 6, 2, 4]\n"
     ]
    }
   ],
   "source": [
    "# Problem 24: Reorder an array in-place as nums[0] <= nums[1] >= nums[2] <= nums[3]...\n",
    "\n",
    "def wiggle_sort(nums):\n",
    "    for i in range(1, len(nums)):\n",
    "        if (i % 2 == 1 and nums[i] < nums[i - 1]) or (i % 2 == 0 and nums[i] > nums[i - 1]):\n",
    "            nums[i], nums[i - 1] = nums[i - 1], nums[i]\n",
    "    return nums\n",
    "\n",
    "nums = [3, 5, 2, 1, 6, 4]\n",
    "print(wiggle_sort(nums))\n"
   ]
  },
  {
   "cell_type": "code",
   "execution_count": 25,
   "id": "71d0f91a-7e3a-445d-bccc-487cdf8fb03e",
   "metadata": {},
   "outputs": [
    {
     "name": "stdout",
     "output_type": "stream",
     "text": [
      "15\n"
     ]
    }
   ],
   "source": [
    "# Problem 25: Calculate the sum of all elements in an array\n",
    "\n",
    "def sum_of_elements(nums):\n",
    "    return sum(nums)\n",
    "\n",
    "nums = [1, 2, 3, 4, 5]\n",
    "print(sum_of_elements(nums))\n"
   ]
  },
  {
   "cell_type": "code",
   "execution_count": 26,
   "id": "c2219813-344a-4821-b78c-4b145268558d",
   "metadata": {},
   "outputs": [
    {
     "name": "stdout",
     "output_type": "stream",
     "text": [
      "9\n"
     ]
    }
   ],
   "source": [
    "# Problem 26: Find the maximum element in an array\n",
    "\n",
    "def find_max(nums):\n",
    "    return max(nums)\n",
    "\n",
    "nums = [3, 7, 2, 9, 4, 1]\n",
    "print(find_max(nums))\n"
   ]
  },
  {
   "cell_type": "code",
   "execution_count": 27,
   "id": "763e09d2-fc7c-43d7-970a-230626ef70f1",
   "metadata": {},
   "outputs": [
    {
     "name": "stdout",
     "output_type": "stream",
     "text": [
      "2\n"
     ]
    }
   ],
   "source": [
    "# Problem 27: Implement linear search to find the index of a target element in an array\n",
    "\n",
    "def linear_search(nums, target):\n",
    "    for index, value in enumerate(nums):\n",
    "        if value == target:\n",
    "            return index\n",
    "    return -1\n",
    "\n",
    "nums = [5, 3, 8, 2, 7, 4]\n",
    "target = 8\n",
    "print(linear_search(nums, target))\n"
   ]
  },
  {
   "cell_type": "code",
   "execution_count": 28,
   "id": "aecbc03f-bc31-48db-a9ee-189eec4923eb",
   "metadata": {},
   "outputs": [
    {
     "name": "stdout",
     "output_type": "stream",
     "text": [
      "120\n"
     ]
    }
   ],
   "source": [
    "# Problem 28: Calculate the factorial of a given number\n",
    "\n",
    "def factorial(n):\n",
    "    result = 1\n",
    "    for i in range(2, n + 1):\n",
    "        result *= i\n",
    "    return result\n",
    "\n",
    "n = 5\n",
    "print(factorial(n))\n"
   ]
  },
  {
   "cell_type": "code",
   "execution_count": 29,
   "id": "1490b8a2-a87c-4184-b08b-442e38ebe190",
   "metadata": {},
   "outputs": [
    {
     "name": "stdout",
     "output_type": "stream",
     "text": [
      "True\n"
     ]
    }
   ],
   "source": [
    "# Problem 29: Check if a given number is a prime number\n",
    "\n",
    "def is_prime(n):\n",
    "    if n <= 1:\n",
    "        return False\n",
    "    if n <= 3:\n",
    "        return True\n",
    "    if n % 2 == 0 or n % 3 == 0:\n",
    "        return False\n",
    "    i = 5\n",
    "    while i * i <= n:\n",
    "        if n % i == 0 or n % (i + 2) == 0:\n",
    "            return False\n",
    "        i += 6\n",
    "    return True\n",
    "\n",
    "n = 7\n",
    "print(is_prime(n))\n"
   ]
  },
  {
   "cell_type": "code",
   "execution_count": 30,
   "id": "4e901bfb-bbfb-44ba-939a-fa625db4887b",
   "metadata": {},
   "outputs": [
    {
     "name": "stdout",
     "output_type": "stream",
     "text": [
      "[0, 1, 1, 2, 3, 5, 8]\n"
     ]
    }
   ],
   "source": [
    "# Problem 30: Generate the Fibonacci series up to a given number n\n",
    "\n",
    "def fibonacci(n):\n",
    "    fib_series = [0, 1]\n",
    "    while fib_series[-1] + fib_series[-2] <= n:\n",
    "        fib_series.append(fib_series[-1] + fib_series[-2])\n",
    "    return fib_series\n",
    "\n",
    "n = 8\n",
    "print(fibonacci(n))\n"
   ]
  },
  {
   "cell_type": "code",
   "execution_count": 31,
   "id": "5fc57a0e-eca4-48c1-abaf-40039f9db27a",
   "metadata": {},
   "outputs": [
    {
     "name": "stdout",
     "output_type": "stream",
     "text": [
      "81\n"
     ]
    }
   ],
   "source": [
    "# Problem 31: Calculate the power of a number using recursion\n",
    "\n",
    "def power(base, exponent):\n",
    "    if exponent == 0:\n",
    "        return 1\n",
    "    return base * power(base, exponent - 1)\n",
    "\n",
    "base = 3\n",
    "exponent = 4\n",
    "print(power(base, exponent))\n"
   ]
  },
  {
   "cell_type": "code",
   "execution_count": 32,
   "id": "d995b8d1-be5c-4be0-a848-5216040c9d6a",
   "metadata": {},
   "outputs": [
    {
     "name": "stdout",
     "output_type": "stream",
     "text": [
      "olleh\n"
     ]
    }
   ],
   "source": [
    "# Problem 32: Reverse a given string\n",
    "\n",
    "def reverse_string(s):\n",
    "    return s[::-1]\n",
    "\n",
    "s = \"hello\"\n",
    "print(reverse_string(s))\n"
   ]
  },
  {
   "cell_type": "code",
   "execution_count": null,
   "id": "50ebf3cd-4d09-4204-8809-447ed9c26bd0",
   "metadata": {},
   "outputs": [],
   "source": []
  }
 ],
 "metadata": {
  "kernelspec": {
   "display_name": "Python 3 (ipykernel)",
   "language": "python",
   "name": "python3"
  },
  "language_info": {
   "codemirror_mode": {
    "name": "ipython",
    "version": 3
   },
   "file_extension": ".py",
   "mimetype": "text/x-python",
   "name": "python",
   "nbconvert_exporter": "python",
   "pygments_lexer": "ipython3",
   "version": "3.12.5"
  }
 },
 "nbformat": 4,
 "nbformat_minor": 5
}
