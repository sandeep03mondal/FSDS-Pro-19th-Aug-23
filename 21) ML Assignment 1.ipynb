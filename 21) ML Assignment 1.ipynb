{
 "cells": [
  {
   "cell_type": "code",
   "execution_count": null,
   "id": "216da13f-ed5f-4869-ae4d-18e54cadb627",
   "metadata": {},
   "outputs": [],
   "source": [
    "# AI is a broad field of computer science that aims to create intelligent agents, which are systems that can reason, learn, and act autonomously."
   ]
  },
  {
   "cell_type": "code",
   "execution_count": null,
   "id": "38979ddb-7490-4018-957a-69cd9ca79a7c",
   "metadata": {},
   "outputs": [],
   "source": [
    "# AI is the overarching goal of creating intelligent systems.\n",
    "# ML is a subset of AI that focuses on algorithms that allow computers to learn from data.\n",
    "# DL is a subset of ML that uses artificial neural networks to learn complex patterns from data.\n",
    "# DS is the practice of extracting insights from data using statistical and computational techniques."
   ]
  },
  {
   "cell_type": "code",
   "execution_count": null,
   "id": "c26ae19c-f825-410b-a18c-80b230a5ad95",
   "metadata": {},
   "outputs": [],
   "source": [
    "# Traditional software development follows a predetermined set of rules and instructions.\n",
    "# AI systems can adapt and learn from new data, making them more flexible and capable of handling unexpected situations."
   ]
  },
  {
   "cell_type": "code",
   "execution_count": null,
   "id": "43f4bdf8-b8d9-4406-9d58-0d20d1f91f24",
   "metadata": {},
   "outputs": [],
   "source": [
    "# AI: Virtual assistants (e.g., Siri, Alexa), self-driving cars\n",
    "# ML: Recommendation systems (e.g., Netflix, Amazon), fraud detection\n",
    "# DL: Image recognition (e.g., facial recognition), natural language processing (e.g., machine translation)\n",
    "# DS: Data analysis, market research, predictive modeling"
   ]
  },
  {
   "cell_type": "code",
   "execution_count": null,
   "id": "7d73d92d-2e54-4271-82f9-7a1b0e1e282e",
   "metadata": {},
   "outputs": [],
   "source": [
    "# These technologies are driving innovation in various fields, including healthcare, finance, transportation, and customer service."
   ]
  },
  {
   "cell_type": "code",
   "execution_count": null,
   "id": "997812a6-3b46-46f8-89db-021a97268bbd",
   "metadata": {},
   "outputs": [],
   "source": [
    "# Supervised learning involves training a model on labeled data, where the correct output is provided for each input."
   ]
  },
  {
   "cell_type": "code",
   "execution_count": null,
   "id": "5e84ca65-cb1e-4561-9f59-630f66b76c57",
   "metadata": {},
   "outputs": [],
   "source": [
    "# Linear regression, logistic regression, decision trees, random forests, support vector machines"
   ]
  },
  {
   "cell_type": "code",
   "execution_count": null,
   "id": "4219cb02-34e8-42ef-814f-81a54286c94c",
   "metadata": {},
   "outputs": [],
   "source": [
    "# 1. Data collection and preparation\n",
    "# 2. Model selection\n",
    "# 3. Training\n",
    "# 4. Evaluation\n",
    "# 5. Deployment"
   ]
  },
  {
   "cell_type": "code",
   "execution_count": null,
   "id": "46f1aeb9-fe04-4964-ab94-4c34ccd80cf0",
   "metadata": {},
   "outputs": [],
   "source": [
    "# Unsupervised learning involves training a model on unlabeled data, where the model must discover patterns and structures within the data."
   ]
  },
  {
   "cell_type": "code",
   "execution_count": null,
   "id": "31608696-5895-49ed-ad5d-6053647fc802",
   "metadata": {},
   "outputs": [],
   "source": [
    "# Clustering (e.g., k-means, hierarchical clustering), dimensionality reduction (e.g., PCA, t-SNE)"
   ]
  },
  {
   "cell_type": "code",
   "execution_count": null,
   "id": "22ac71eb-b257-449b-b791-7bdef63998f9",
   "metadata": {},
   "outputs": [],
   "source": [
    "# Semi-supervised learning combines elements of supervised and unsupervised learning, using a small amount of labeled data and a larger amount of unlabeled data."
   ]
  },
  {
   "cell_type": "code",
   "execution_count": null,
   "id": "ab48434d-d1fe-4c18-8114-4cfdd6bc2af3",
   "metadata": {},
   "outputs": [],
   "source": [
    "# It can be useful when obtaining large amounts of labeled data is difficult or expensive."
   ]
  },
  {
   "cell_type": "code",
   "execution_count": null,
   "id": "44a49dc6-89f2-42c0-b31a-9dd224c8a4bc",
   "metadata": {},
   "outputs": [],
   "source": [
    "# Reinforcement learning involves training an agent to make decisions in an environment to maximize a reward."
   ]
  },
  {
   "cell_type": "code",
   "execution_count": null,
   "id": "9a70e7f2-f4ed-4c27-bef4-faa602de9978",
   "metadata": {},
   "outputs": [],
   "source": [
    "# To evaluate the performance of a machine learning model on unseen data and prevent overfitting."
   ]
  },
  {
   "cell_type": "code",
   "execution_count": null,
   "id": "a931c78b-3e14-4a05-87d8-1de3427c0a85",
   "metadata": {},
   "outputs": [],
   "source": [
    "# The size of each set can impact the model's performance and generalization ability."
   ]
  },
  {
   "cell_type": "code",
   "execution_count": null,
   "id": "b286f291-584d-405a-893e-98e676d55b7d",
   "metadata": {},
   "outputs": [],
   "source": [
    "# Overfitting, underfitting, biased evaluation"
   ]
  },
  {
   "cell_type": "code",
   "execution_count": null,
   "id": "4ec2d1e8-965f-4bbc-aef8-ff54bb755072",
   "metadata": {},
   "outputs": [],
   "source": [
    "# The choice of split ratios depends on the size of the dataset and the complexity of the problem."
   ]
  },
  {
   "cell_type": "code",
   "execution_count": null,
   "id": "42232f7c-b638-49bd-af98-801714b276dc",
   "metadata": {},
   "outputs": [],
   "source": [
    "# Accuracy, precision, recall, F1-score, mean squared error, mean absolute error"
   ]
  },
  {
   "cell_type": "code",
   "execution_count": null,
   "id": "a4e0fdfa-cac1-4fb6-afb8-7211c1553b5f",
   "metadata": {},
   "outputs": [],
   "source": [
    "# Overfitting occurs when a model is too complex and fits the training data too well, but performs poorly on new data.\n",
    "# Underfitting occurs when a model is too simple and cannot capture the underlying patterns in the data."
   ]
  },
  {
   "cell_type": "code",
   "execution_count": null,
   "id": "e9e61c51-998f-4cab-b7bf-283cc2f4217e",
   "metadata": {},
   "outputs": [],
   "source": [
    "# Comparing the performance on the training set and the validation set."
   ]
  },
  {
   "cell_type": "code",
   "execution_count": null,
   "id": "011912d4-7e0f-46a3-8c68-a094d5503a75",
   "metadata": {},
   "outputs": [],
   "source": [
    "# Regularization, early stopping, cross-validation"
   ]
  },
  {
   "cell_type": "code",
   "execution_count": null,
   "id": "71346aef-e131-4458-8d7a-d6d121e7d3fd",
   "metadata": {},
   "outputs": [],
   "source": [
    "# Underfitting can lead to poor performance on both the training and test sets."
   ]
  },
  {
   "cell_type": "code",
   "execution_count": null,
   "id": "df89059c-668a-482c-9f2b-51a8c39e7b17",
   "metadata": {},
   "outputs": [],
   "source": [
    "# Increasing the complexity of the model, using more features, or collecting more data."
   ]
  },
  {
   "cell_type": "code",
   "execution_count": null,
   "id": "e9d2de21-bb2a-4cc9-a042-0cfc7ff0674b",
   "metadata": {},
   "outputs": [],
   "source": [
    "# Bias refers to the error introduced by the model's assumptions, while variance refers to the model's sensitivity to small changes in the training data."
   ]
  },
  {
   "cell_type": "code",
   "execution_count": null,
   "id": "cd56cc56-8054-40a3-b496-5a49fa87639e",
   "metadata": {},
   "outputs": [],
   "source": [
    "# Deletion, imputation (e.g., mean, median, mode, imputation algorithms), ignoring missing values"
   ]
  },
  {
   "cell_type": "code",
   "execution_count": null,
   "id": "896db098-2903-44ca-bfba-f9cdd307a6cb",
   "metadata": {},
   "outputs": [],
   "source": [
    "# Biased results, reduced model accuracy"
   ]
  },
  {
   "cell_type": "code",
   "execution_count": null,
   "id": "6abee912-b5bd-44de-9a53-077e3d862951",
   "metadata": {},
   "outputs": [],
   "source": [
    "# Pros: Can improve model performance\n",
    "# Cons: Can introduce bias if not done carefully"
   ]
  },
  {
   "cell_type": "code",
   "execution_count": null,
   "id": "a5d9ac62-4a41-4138-9902-063432b0b0d4",
   "metadata": {},
   "outputs": [],
   "source": [
    "# Imbalanced data refers to a dataset where the classes are not equally represented."
   ]
  },
  {
   "cell_type": "code",
   "execution_count": null,
   "id": "85fba4c0-bf92-4d19-b3d4-e68c2688ca9b",
   "metadata": {},
   "outputs": [],
   "source": [
    "# Bias in model predictions, poor performance on minority class"
   ]
  },
  {
   "cell_type": "code",
   "execution_count": null,
   "id": "62cee90b-3780-4a83-97be-69927eae1dae",
   "metadata": {},
   "outputs": [],
   "source": [
    "# Over-sampling, under-sampling, SMOTE, class weighting"
   ]
  },
  {
   "cell_type": "code",
   "execution_count": null,
   "id": "51859e64-0a1b-430d-815e-f9957a0c5f41",
   "metadata": {},
   "outputs": [],
   "source": [
    "# Up-sampling: Duplicating instances from the minority class\n",
    "# Down-sampling: Removing instances from the majority class"
   ]
  },
  {
   "cell_type": "code",
   "execution_count": null,
   "id": "e713f14c-6429-40ec-8795-68722e1e9432",
   "metadata": {},
   "outputs": [],
   "source": [
    "# Up-sampling: Small dataset, minority class is important\n",
    "# Down-sampling: Large dataset, majority class is not important"
   ]
  },
  {
   "cell_type": "code",
   "execution_count": null,
   "id": "6c3f4fe5-dc1b-4ec0-81ee-1ae5d19e2b3c",
   "metadata": {},
   "outputs": [],
   "source": [
    "# Synthetic Minority Over-sampling Technique generates new synthetic instances for the minority class."
   ]
  },
  {
   "cell_type": "code",
   "execution_count": null,
   "id": "7b8e00da-3ba2-4e4d-a6bf-675bfbdd669f",
   "metadata": {},
   "outputs": [],
   "source": [
    "# Helps address imbalanced data by creating new, diverse instances from the minority class."
   ]
  },
  {
   "cell_type": "code",
   "execution_count": null,
   "id": "7aeb922c-9bea-4885-a70a-ec15109c79e8",
   "metadata": {},
   "outputs": [],
   "source": [
    "# Advantages: Improves performance on minority class, avoids overfitting\n",
    "# Limitations: Can introduce noise, may not be suitable for all datasets"
   ]
  },
  {
   "cell_type": "code",
   "execution_count": null,
   "id": "eccdf8f6-bd37-40c0-8c81-e8c719df15e8",
   "metadata": {},
   "outputs": [],
   "source": [
    "# Medical diagnosis, fraud detection, rare event prediction"
   ]
  },
  {
   "cell_type": "code",
   "execution_count": null,
   "id": "3797f078-6ebc-424d-8d27-ea9c9512bc52",
   "metadata": {},
   "outputs": [],
   "source": [
    "# Estimating missing values in a dataset."
   ]
  },
  {
   "cell_type": "code",
   "execution_count": null,
   "id": "7f693977-323e-46d9-9260-d38e623af35f",
   "metadata": {},
   "outputs": [],
   "source": [
    "# Linear interpolation, polynomial interpolation, spline interpolation"
   ]
  },
  {
   "cell_type": "code",
   "execution_count": null,
   "id": "154fe07a-d157-4bbb-8589-3f430c4b55c8",
   "metadata": {},
   "outputs": [],
   "source": [
    "# Can introduce bias, may affect model accuracy"
   ]
  },
  {
   "cell_type": "code",
   "execution_count": null,
   "id": "359d1a27-b1ab-42e9-99c3-332c354507a4",
   "metadata": {},
   "outputs": [],
   "source": [
    "# Data points that significantly deviate from the rest of the data."
   ]
  },
  {
   "cell_type": "code",
   "execution_count": null,
   "id": "4162ee8d-59a0-46a7-a2cf-5fc8d8f29f5d",
   "metadata": {},
   "outputs": [],
   "source": [
    "# Can bias model parameters, reduce accuracy"
   ]
  },
  {
   "cell_type": "code",
   "execution_count": null,
   "id": "dbade960-596f-4b70-954a-3b48e4226a8a",
   "metadata": {},
   "outputs": [],
   "source": [
    "# Statistical methods (e.g., Z-score, IQR), visualization techniques"
   ]
  },
  {
   "cell_type": "code",
   "execution_count": null,
   "id": "358f0090-6511-4d23-993f-7b1e264382c5",
   "metadata": {},
   "outputs": [],
   "source": [
    "# Removal, capping, transformation"
   ]
  },
  {
   "cell_type": "code",
   "execution_count": null,
   "id": "a2018149-ae3a-4a2e-b385-60a15fa717be",
   "metadata": {},
   "outputs": [],
   "source": [
    "# Filter: Based on statistical measures\n",
    "# Wrapper: Based on model performance\n",
    "# Embedded: Integrated into the model training process"
   ]
  },
  {
   "cell_type": "code",
   "execution_count": null,
   "id": "07a7fd46-f1ee-45a4-bd15-abf0270c83a8",
   "metadata": {},
   "outputs": [],
   "source": [
    "# Filter: Correlation, chi-squared test\n",
    "# Wrapper: Forward selection, backward elimination\n",
    "# Embedded: L1 regularization, L2 regularization"
   ]
  },
  {
   "cell_type": "code",
   "execution_count": null,
   "id": "b05b2db5-9c55-4758-9785-8bd5cc7e3e82",
   "metadata": {},
   "outputs": [],
   "source": [
    "# Filter: Fast, simple, but may miss important features\n",
    "# Wrapper: Accurate, but computationally expensive\n",
    "# Embedded: Efficient, but can be sensitive to model choice"
   ]
  },
  {
   "cell_type": "code",
   "execution_count": null,
   "id": "3c985e5d-df3c-4571-b61d-17a9ab897cb1",
   "metadata": {},
   "outputs": [],
   "source": [
    "# Normalizing numerical features to a common scale."
   ]
  },
  {
   "cell_type": "code",
   "execution_count": null,
   "id": "a29e0e79-541e-4a41-9915-361f7b8ca66e",
   "metadata": {},
   "outputs": [],
   "source": [
    "# Subtracting the mean and dividing by the standard deviation."
   ]
  },
  {
   "cell_type": "code",
   "execution_count": null,
   "id": "8dfa1d20-c93d-4cfa-89bc-e012c81efb82",
   "metadata": {},
   "outputs": [],
   "source": [
    "# Mean normalization scales values to a range between 0 and 1, while standardization scales values to a standard normal distribution."
   ]
  },
  {
   "cell_type": "code",
   "execution_count": null,
   "id": "6e82e0f6-3962-45b4-9d63-0c84eb496366",
   "metadata": {},
   "outputs": [],
   "source": [
    "# Scales values to a range between 0 and 1."
   ]
  },
  {
   "cell_type": "code",
   "execution_count": null,
   "id": "88e2189b-fff9-4df0-beab-fdc61726a4e5",
   "metadata": {},
   "outputs": [],
   "source": [
    "# Scales vectors to have a unit length."
   ]
  },
  {
   "cell_type": "code",
   "execution_count": null,
   "id": "d99a296b-3f64-4772-bca8-70f4276df35d",
   "metadata": {},
   "outputs": [],
   "source": [
    "# A dimensionality reduction technique that transforms data into a new coordinate system."
   ]
  },
  {
   "cell_type": "code",
   "execution_count": null,
   "id": "9ff59c63-6082-4466-aa6a-552244604082",
   "metadata": {},
   "outputs": [],
   "source": [
    "# 1. Calculate covariance matrix\n",
    "# 2. Calculate eigenvalues and eigenvectors\n",
    "# 3. Select principal components\n",
    "# 4. Project data onto new coordinate system"
   ]
  },
  {
   "cell_type": "code",
   "execution_count": null,
   "id": "2a272fcd-d9a5-45df-a725-e723f99521d5",
   "metadata": {},
   "outputs": [],
   "source": [
    "# Eigenvalues represent the variance explained by each principal component, while eigenvectors represent the direction of the principal components."
   ]
  },
  {
   "cell_type": "code",
   "execution_count": null,
   "id": "c091ff34-8532-4a3a-90c1-cf11d5af8ff0",
   "metadata": {},
   "outputs": [],
   "source": [
    "# PCA can reduce the dimensionality of data while preserving most of the variance."
   ]
  },
  {
   "cell_type": "code",
   "execution_count": null,
   "id": "627722fb-2d44-4e0f-9890-4711f12e7fef",
   "metadata": {},
   "outputs": [],
   "source": [
    "# Converting categorical data into numerical format."
   ]
  },
  {
   "cell_type": "code",
   "execution_count": null,
   "id": "346ad3f6-3ddf-4a75-922d-d584fa2d9f51",
   "metadata": {},
   "outputs": [],
   "source": [
    "# Assigning unique numerical values to each category."
   ]
  },
  {
   "cell_type": "code",
   "execution_count": null,
   "id": "661cd947-22d8-4dcc-b465-89b9a89c233e",
   "metadata": {},
   "outputs": [],
   "source": [
    "# A technique to convert categorical data into numerical format by creating binary columns for each category."
   ]
  },
  {
   "cell_type": "code",
   "execution_count": null,
   "id": "75867dd2-5d35-4f9d-be78-4614e838d0a7",
   "metadata": {},
   "outputs": [],
   "source": [
    "# Create a separate column for each category, with a value of 1 for the corresponding category and 0 for others.\n"
   ]
  },
  {
   "cell_type": "code",
   "execution_count": null,
   "id": "ebfb7953-62ee-498c-8eab-d3a89ab5a902",
   "metadata": {},
   "outputs": [],
   "source": [
    "# Replacing categorical values with the mean target value of instances belonging to that category."
   ]
  },
  {
   "cell_type": "code",
   "execution_count": null,
   "id": "c326ff7e-68a0-4e6c-9a0e-95c25accb6cb",
   "metadata": {},
   "outputs": [],
   "source": [
    "# Ordinal encoding: Assigning numerical values to categories based on their order.\n",
    "# Label encoding: Assigning unique numerical values to each category."
   ]
  },
  {
   "cell_type": "code",
   "execution_count": null,
   "id": "e4b179d7-c5d4-414a-8099-450e621518c7",
   "metadata": {},
   "outputs": [],
   "source": [
    "# Assigning numerical values to categories based on their target values."
   ]
  },
  {
   "cell_type": "code",
   "execution_count": null,
   "id": "70508804-5915-4132-96fa-71e704fa306f",
   "metadata": {},
   "outputs": [],
   "source": [
    "# A measure of the joint variability of two variables."
   ]
  },
  {
   "cell_type": "code",
   "execution_count": null,
   "id": "cd60a010-83bf-45cb-bf69-62f3e40cd652",
   "metadata": {},
   "outputs": [],
   "source": [
    "# Assessing the relationship between two variables."
   ]
  },
  {
   "cell_type": "code",
   "execution_count": null,
   "id": "e789194a-28ab-4e6f-b3b2-efa5ab8efc4d",
   "metadata": {},
   "outputs": [],
   "source": [
    "# A measure of linear correlation between two variables."
   ]
  },
  {
   "cell_type": "code",
   "execution_count": null,
   "id": "a5c181c0-9fa8-4f95-95ee-46229293c2c3",
   "metadata": {},
   "outputs": [],
   "source": [
    "# A measure of monotonic correlation between two variables, regardless of their linearity."
   ]
  },
  {
   "cell_type": "code",
   "execution_count": null,
   "id": "d84f5ea8-7a52-4d24-8e57-8474ae04a7cc",
   "metadata": {},
   "outputs": [],
   "source": [
    "# A measure of multicollinearity, which occurs when two or more independent variables are highly correlated."
   ]
  },
  {
   "cell_type": "code",
   "execution_count": null,
   "id": "9366c932-8476-4482-9774-3332e1ec55ce",
   "metadata": {},
   "outputs": [],
   "source": [
    "# The process of selecting the most relevant features for a machine learning model."
   ]
  },
  {
   "cell_type": "code",
   "execution_count": null,
   "id": "99381d2b-b8a1-44ff-a836-0a189990aa16",
   "metadata": {},
   "outputs": [],
   "source": [
    "# A greedy algorithm that iteratively removes features that have the least impact on model performance."
   ]
  },
  {
   "cell_type": "code",
   "execution_count": null,
   "id": "477ac174-1071-4060-a2a6-6e063df63b88",
   "metadata": {},
   "outputs": [],
   "source": [
    "# Starts with all features and removes one at a time until the model's performance starts to decrease."
   ]
  },
  {
   "cell_type": "code",
   "execution_count": null,
   "id": "b3be1a17-262b-4924-86c8-0b840e095672",
   "metadata": {},
   "outputs": [],
   "source": [
    "# Starts with no features and adds one at a time until the model's performance starts to decrease."
   ]
  },
  {
   "cell_type": "code",
   "execution_count": null,
   "id": "a1882e9b-9857-483d-88a5-56abe500b92c",
   "metadata": {},
   "outputs": [],
   "source": [
    "# The process of creating new features from existing data to improve model performance."
   ]
  },
  {
   "cell_type": "code",
   "execution_count": null,
   "id": "462dc4d9-8b7e-42b8-a0d8-c2efd7cb2fc0",
   "metadata": {},
   "outputs": [],
   "source": [
    "# 1. Data exploration and understanding\n",
    "# 2. Feature creation\n",
    "# 3. Feature transformation\n",
    "# 4. Feature selection"
   ]
  },
  {
   "cell_type": "code",
   "execution_count": null,
   "id": "5cc2e6f7-b73d-4304-8e36-19eb0f148247",
   "metadata": {},
   "outputs": [],
   "source": [
    "# Aggregation, binning, interaction terms, time-based features, spatial features"
   ]
  },
  {
   "cell_type": "code",
   "execution_count": null,
   "id": "daed58f2-6f60-4ddc-93ca-f26f07257b4a",
   "metadata": {},
   "outputs": [],
   "source": [
    "# Feature selection involves choosing existing features, while feature engineering involves creating new features."
   ]
  },
  {
   "cell_type": "code",
   "execution_count": null,
   "id": "b8df95de-6720-4bc4-b21f-138da81d4f88",
   "metadata": {},
   "outputs": [],
   "source": [
    "# Improves model performance, reduces computational cost, enhances interpretability"
   ]
  },
  {
   "cell_type": "code",
   "execution_count": null,
   "id": "99deed74-ddc1-42f4-9f65-19d600b98ae8",
   "metadata": {},
   "outputs": [],
   "source": [
    "# Can improve model accuracy, reduce overfitting, and enhance interpretability."
   ]
  },
  {
   "cell_type": "code",
   "execution_count": null,
   "id": "653e9e02-17c2-43e3-b9d5-a51f22177b36",
   "metadata": {},
   "outputs": [],
   "source": [
    "# Consider feature importance, correlation, domain knowledge, and model performance."
   ]
  },
  {
   "cell_type": "code",
   "execution_count": null,
   "id": "d57beec0-0bca-465f-87e4-328f0bddcb7b",
   "metadata": {},
   "outputs": [],
   "source": []
  },
  {
   "cell_type": "code",
   "execution_count": null,
   "id": "2363bb76-4d4d-4f9d-a84b-65e0c39d28ac",
   "metadata": {},
   "outputs": [],
   "source": []
  }
 ],
 "metadata": {
  "kernelspec": {
   "display_name": "Python 3 (ipykernel)",
   "language": "python",
   "name": "python3"
  },
  "language_info": {
   "codemirror_mode": {
    "name": "ipython",
    "version": 3
   },
   "file_extension": ".py",
   "mimetype": "text/x-python",
   "name": "python",
   "nbconvert_exporter": "python",
   "pygments_lexer": "ipython3",
   "version": "3.12.5"
  }
 },
 "nbformat": 4,
 "nbformat_minor": 5
}
